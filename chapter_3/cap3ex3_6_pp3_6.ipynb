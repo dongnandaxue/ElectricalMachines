{
 "cells": [
  {
   "cell_type": "markdown",
   "metadata": {},
   "source": [
    "#### Exemplo 3.6"
   ]
  },
  {
   "cell_type": "code",
   "execution_count": 39,
   "metadata": {},
   "outputs": [],
   "source": [
    "from sympy import *\n",
    "init_printing(use_unicode=True)\n",
    "N_e, i, g, mu0, h, r1, theta, A = symbols('N_e i g mu0 h r1 theta A')"
   ]
  },
  {
   "cell_type": "code",
   "execution_count": 40,
   "metadata": {},
   "outputs": [],
   "source": [
    "# Força magnetomotriz [A]\n",
    "F = N_e*i"
   ]
  },
  {
   "cell_type": "code",
   "execution_count": 41,
   "metadata": {},
   "outputs": [],
   "source": [
    "#Relutância [1/H]\n",
    "R = 2*g/(mu0*A)"
   ]
  },
  {
   "cell_type": "code",
   "execution_count": 42,
   "metadata": {},
   "outputs": [],
   "source": [
    "#Fluxo magnético [Wb]\n",
    "phi = F/R"
   ]
  },
  {
   "cell_type": "code",
   "execution_count": 43,
   "metadata": {},
   "outputs": [],
   "source": [
    "#Densidade de fluxo magnético [T]\n",
    "B = phi/A"
   ]
  },
  {
   "cell_type": "code",
   "execution_count": 44,
   "metadata": {},
   "outputs": [
    {
     "data": {
      "image/png": "[encoded data removed]",
      "text/latex": [
       "$$\\frac{N_{e} i}{2 g}$$"
      ],
      "text/plain": [
       "Nₑ⋅i\n",
       "────\n",
       "2⋅g "
      ]
     },
     "execution_count": 44,
     "metadata": {},
     "output_type": "execute_result"
    }
   ],
   "source": [
    "#Intensidade de campo magnético\n",
    "H = B/mu0\n",
    "H"
   ]
  },
  {
   "cell_type": "markdown",
   "metadata": {},
   "source": [
    "Como $\\mu$ no núcleo é infinita, $H_{aco} = 0$.\n",
    "Logo, a densidade de coenergia do núcleo é nula."
   ]
  },
  {
   "cell_type": "code",
   "execution_count": 45,
   "metadata": {},
   "outputs": [
    {
     "data": {
      "image/png": "[encoded data removed]",
      "text/latex": [
       "$$\\frac{N_{e}^{2} i^{2} \\mu_{0}}{8 g^{2}}$$"
      ],
      "text/plain": [
       "  2  2   \n",
       "Nₑ ⋅i ⋅μ₀\n",
       "─────────\n",
       "      2  \n",
       "   8⋅g   "
      ]
     },
     "execution_count": 45,
     "metadata": {},
     "output_type": "execute_result"
    }
   ],
   "source": [
    "# Densidade de coenergia\n",
    "Wcd = (mu0*H**2)/2\n",
    "Wcd"
   ]
  },
  {
   "cell_type": "code",
   "execution_count": 46,
   "metadata": {},
   "outputs": [
    {
     "data": {
      "image/png": "[encoded data removed]",
      "text/latex": [
       "$$2 g h \\theta \\left(0.5 g + r_{1}\\right)$$"
      ],
      "text/plain": [
       "2⋅g⋅h⋅θ⋅(0.5⋅g + r₁)"
      ]
     },
     "execution_count": 46,
     "metadata": {},
     "output_type": "execute_result"
    }
   ],
   "source": [
    "#Volumes dos entreferros [m^3]\n",
    "V = 2*g*h*(r1+0.5*g)*theta\n",
    "V"
   ]
  },
  {
   "cell_type": "code",
   "execution_count": 47,
   "metadata": {},
   "outputs": [
    {
     "data": {
      "image/png": "[encoded data removed]",
      "text/latex": [
       "$$\\frac{N_{e}^{2} h \\mu_{0} \\theta}{4 g} i^{2} \\left(0.5 g + r_{1}\\right)$$"
      ],
      "text/plain": [
       "  2    2                  \n",
       "Nₑ ⋅h⋅i ⋅μ₀⋅θ⋅(0.5⋅g + r₁)\n",
       "──────────────────────────\n",
       "           4⋅g            "
      ]
     },
     "execution_count": 47,
     "metadata": {},
     "output_type": "execute_result"
    }
   ],
   "source": [
    "#Co-energia\n",
    "Wc = Wcd*V\n",
    "Wc"
   ]
  },
  {
   "cell_type": "code",
   "execution_count": 48,
   "metadata": {},
   "outputs": [
    {
     "data": {
      "image/png": "[encoded data removed]",
      "text/latex": [
       "$$\\frac{N_{e}^{2} h i^{2} \\mu_{0}}{4 g} \\left(0.5 g + r_{1}\\right)$$"
      ],
      "text/plain": [
       "  2    2                \n",
       "Nₑ ⋅h⋅i ⋅μ₀⋅(0.5⋅g + r₁)\n",
       "────────────────────────\n",
       "          4⋅g           "
      ]
     },
     "execution_count": 48,
     "metadata": {},
     "output_type": "execute_result"
    }
   ],
   "source": [
    "# Torque\n",
    "T = diff(Wc,theta)\n",
    "T"
   ]
  },
  {
   "cell_type": "code",
   "execution_count": 49,
   "metadata": {},
   "outputs": [
    {
     "data": {
      "image/png": "[encoded data removed]",
      "text/latex": [
       "$$\\frac{4125000.0}{\\pi}$$"
      ],
      "text/plain": [
       "4125000.0\n",
       "─────────\n",
       "    π    "
      ]
     },
     "execution_count": 49,
     "metadata": {},
     "output_type": "execute_result"
    }
   ],
   "source": [
    "H=1.65/(4*pi*pow(10,-7))\n",
    "H"
   ]
  },
  {
   "cell_type": "code",
   "execution_count": 50,
   "metadata": {},
   "outputs": [
    {
     "data": {
      "image/png": "[encoded data removed]",
      "text/latex": [
       "$$\\frac{8250000.0 g}{\\pi}$$"
      ],
      "text/plain": [
       "8250000.0⋅g\n",
       "───────────\n",
       "     π     "
      ]
     },
     "execution_count": 50,
     "metadata": {},
     "output_type": "execute_result"
    }
   ],
   "source": [
    "F = 2*g*H\n",
    "F"
   ]
  },
  {
   "cell_type": "code",
   "execution_count": 51,
   "metadata": {},
   "outputs": [],
   "source": [
    "# Torque [Nm]\n",
    "T = F**2*h*mu0*(0.5*g+r1)/(4*g)"
   ]
  },
  {
   "cell_type": "code",
   "execution_count": 52,
   "metadata": {},
   "outputs": [
    {
     "data": {
      "image/png": "[encoded data removed]",
      "text/latex": [
       "$$3.10025672452179$$"
      ],
      "text/plain": [
       "3.10025672452179"
      ]
     },
     "execution_count": 52,
     "metadata": {},
     "output_type": "execute_result"
    }
   ],
   "source": [
    "N(T.subs({h:0.018, g:0.003, r1: 0.025, mu0:(4*pi*pow(10,-7))}))"
   ]
  },
  {
   "cell_type": "markdown",
   "metadata": {},
   "source": [
    "#### Problema prático 3.6"
   ]
  },
  {
   "cell_type": "code",
   "execution_count": 53,
   "metadata": {},
   "outputs": [],
   "source": [
    "#Área [m^2]\n",
    "A = V/(2*g)"
   ]
  },
  {
   "cell_type": "code",
   "execution_count": 54,
   "metadata": {},
   "outputs": [],
   "source": [
    "# Relutância [1/H]\n",
    "R = 2*g/(mu0*A)"
   ]
  },
  {
   "cell_type": "code",
   "execution_count": 57,
   "metadata": {},
   "outputs": [
    {
     "data": {
      "image/png": "[encoded data removed]",
      "text/latex": [
       "$$\\frac{N_{e}^{2} h \\mu_{0} \\theta}{2 g} \\left(0.5 g + r_{1}\\right)$$"
      ],
      "text/plain": [
       "  2                    \n",
       "Nₑ ⋅h⋅μ₀⋅θ⋅(0.5⋅g + r₁)\n",
       "───────────────────────\n",
       "          2⋅g          "
      ]
     },
     "execution_count": 57,
     "metadata": {},
     "output_type": "execute_result"
    }
   ],
   "source": [
    "#Indutância [H]\n",
    "L = (N_e**2)/R\n",
    "L"
   ]
  },
  {
   "cell_type": "code",
   "execution_count": 58,
   "metadata": {},
   "outputs": [
    {
     "data": {
      "image/png": "[encoded data removed]",
      "text/latex": [
       "$$\\frac{N_{e}^{2} h i^{2} \\mu_{0}}{4 g} \\left(0.5 g + r_{1}\\right)$$"
      ],
      "text/plain": [
       "  2    2                \n",
       "Nₑ ⋅h⋅i ⋅μ₀⋅(0.5⋅g + r₁)\n",
       "────────────────────────\n",
       "          4⋅g           "
      ]
     },
     "execution_count": 58,
     "metadata": {},
     "output_type": "execute_result"
    }
   ],
   "source": [
    "# Torque [Nm]\n",
    "T = ((i**2)/2)*diff(L,theta)\n",
    "T"
   ]
  }
 ],
 "metadata": {
  "kernelspec": {
   "display_name": "Python 3",
   "language": "python",
   "name": "python3"
  },
  "language_info": {
   "codemirror_mode": {
    "name": "ipython",
    "version": 3
   },
   "file_extension": ".py",
   "mimetype": "text/x-python",
   "name": "python",
   "nbconvert_exporter": "python",
   "pygments_lexer": "ipython3",
   "version": "3.4.2"
  }
 },
 "nbformat": 4,
 "nbformat_minor": 2
}
