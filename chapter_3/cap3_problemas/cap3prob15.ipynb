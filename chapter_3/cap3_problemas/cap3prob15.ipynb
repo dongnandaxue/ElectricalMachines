{
 "cells": [
  {
   "cell_type": "markdown",
   "metadata": {},
   "source": [
    "#### Problema  3.15"
   ]
  },
  {
   "cell_type": "code",
   "execution_count": 2,
   "metadata": {},
   "outputs": [],
   "source": [
    "%matplotlib inline\n",
    "%config InlineBackend.figure_format = 'svg'\n",
    "import matplotlib\n",
    "from sympy import *\n",
    "init_printing(use_unicode=True)\n",
    "from sympy.plotting import plot\n",
    "import SchemDraw as schem\n",
    "import SchemDraw.elements as e\n",
    "#  :-)\n",
    "#import matplotlib.pyplot as plt\n",
    "#plt.xkcd()"
   ]
  },
  {
   "cell_type": "code",
   "execution_count": 7,
   "metadata": {},
   "outputs": [],
   "source": [
    "r, R, g_min, g_max, g_1, N_e, h_1, mu_0, i, g = symbols('r R g_min g_max g_1 N_e h_1 mu_0 i g')"
   ]
  },
  {
   "cell_type": "markdown",
   "metadata": {},
   "source": [
    "##### Variáveis:\n",
    " \n",
    " r: raio [m]  \n",
    " R: resistência [$\\Omega$]  \n",
    " g_min: gap mínimo [m]  \n",
    " g_max: gap máximo [m]  \n",
    " g_1: gap da carcaça [m]  \n",
    " N_e: Número de espiras  \n",
    " h_1: largura da carcaça [m]  \n",
    " mu_0: permeabilidade magnética do vácuo"
   ]
  },
  {
   "cell_type": "markdown",
   "metadata": {},
   "source": [
    "Aplicando a lei das malhas no circuito magnético, obtemos:\n",
    "\n",
    "$$N_ei = H_gg + H_{g_1}g_1 $$\n",
    "\n",
    "A lei dos nós nos dá:\n",
    "\n",
    "$$B_gA_g = B_{g_1}A_{g_1}$$\n",
    "\n",
    "As relações constitutivas são:\n",
    "\n",
    "$$B_g = \\mu_0 H_g$$\n",
    "\n",
    "$$B_{g_1} = \\mu_0 H_{g_1}$$\n",
    "\n",
    "As áreas são:\n",
    "\n",
    "$$A_{g_1} = 2\\pi rh_1$$\n",
    "\n",
    "$$A_{g} = \\pi r^2$$\n",
    "\n",
    "De posse disso, fazemos:\n",
    "\n",
    "$$A_{g_1} = 2\\pi r h_1$$\n",
    "\n",
    "$$A_g = \\pi r^2$$\n",
    "\n",
    "$$H_g = \\frac{B_g}{\\mu_0}$$\n",
    "\n",
    "$$H_{g_1} = \\frac{B_{g_1}}{\\mu_0}$$\n",
    "\n",
    "$$B_{g_1} = \\frac{B_gA_g}{A_{g_1}}$$\n",
    "\n",
    "O que resulta em:\n",
    "\n",
    "$$ Ni = \\frac{B_g}{\\mu_0}g + B_g\\frac{A_g}{A_{g_1}}\\frac{g_1}{\\mu_0} $$"
   ]
  },
  {
   "cell_type": "code",
   "execution_count": 13,
   "metadata": {},
   "outputs": [
    {
     "data": {
      "image/png": "[encoded data removed]",
      "text/latex": [
       "$$N_{e} i \\mu_{0} \\left(\\frac{R g_{1}}{2 h_{1}} + g\\right)$$"
      ],
      "text/plain": [
       "        ⎛R⋅g₁    ⎞\n",
       "Nₑ⋅i⋅μ₀⋅⎜──── + g⎟\n",
       "        ⎝2⋅h₁    ⎠"
      ]
     },
     "execution_count": 13,
     "metadata": {},
     "output_type": "execute_result"
    }
   ],
   "source": [
    "# Densidade de fluxo magnético [T]\n",
    "A_g = pi*(R**2)\n",
    "A_g_1 = 2*pi*R*h_1\n",
    "B_g = N_e*i*mu_0*(g + (A_g*g_1)/A_g_1)\n",
    "B_g"
   ]
  },
  {
   "cell_type": "code",
   "execution_count": 14,
   "metadata": {},
   "outputs": [
    {
     "data": {
      "image/png": "[encoded data removed]",
      "text/latex": [
       "$$\\pi N_{e}^{2} R^{2} i \\mu_{0} \\left(\\frac{R g_{1}}{2 h_{1}} + g\\right)$$"
      ],
      "text/plain": [
       "    2  2      ⎛R⋅g₁    ⎞\n",
       "π⋅Nₑ ⋅R ⋅i⋅μ₀⋅⎜──── + g⎟\n",
       "              ⎝2⋅h₁    ⎠"
      ]
     },
     "execution_count": 14,
     "metadata": {},
     "output_type": "execute_result"
    }
   ],
   "source": [
    "# Enlace de fluxo [Wb]\n",
    "\n",
    "λ = N_e*B_g*A_g\n",
    "λ"
   ]
  },
  {
   "cell_type": "code",
   "execution_count": 15,
   "metadata": {},
   "outputs": [
    {
     "data": {
      "image/png": "[encoded data removed]",
      "text/latex": [
       "$$\\pi N_{e}^{2} R^{2} \\mu_{0} \\left(\\frac{R g_{1}}{2 h_{1}} + g\\right)$$"
      ],
      "text/plain": [
       "    2  2    ⎛R⋅g₁    ⎞\n",
       "π⋅Nₑ ⋅R ⋅μ₀⋅⎜──── + g⎟\n",
       "            ⎝2⋅h₁    ⎠"
      ]
     },
     "execution_count": 15,
     "metadata": {},
     "output_type": "execute_result"
    }
   ],
   "source": [
    "# Indutância [H]\n",
    "\n",
    "L = λ/i\n",
    "L"
   ]
  },
  {
   "cell_type": "code",
   "execution_count": 16,
   "metadata": {},
   "outputs": [
    {
     "data": {
      "image/png": "[encoded data removed]",
      "text/latex": [
       "$$\\frac{\\pi \\mu_{0}}{2} N_{e}^{2} R^{2} i^{2} \\left(\\frac{R g_{1}}{2 h_{1}} + g\\right)$$"
      ],
      "text/plain": [
       "    2  2  2    ⎛R⋅g₁    ⎞\n",
       "π⋅Nₑ ⋅R ⋅i ⋅μ₀⋅⎜──── + g⎟\n",
       "               ⎝2⋅h₁    ⎠\n",
       "─────────────────────────\n",
       "            2            "
      ]
     },
     "execution_count": 16,
     "metadata": {},
     "output_type": "execute_result"
    }
   ],
   "source": [
    "# Coenergia [J]\n",
    "\n",
    "Wp = (L*i**2)/2\n",
    "Wp"
   ]
  },
  {
   "cell_type": "code",
   "execution_count": 17,
   "metadata": {},
   "outputs": [
    {
     "data": {
      "image/png": "[encoded data removed]",
      "text/latex": [
       "$$- \\frac{\\pi \\mu_{0}}{2} N_{e}^{2} R^{2} i^{2}$$"
      ],
      "text/plain": [
       "     2  2  2    \n",
       "-π⋅Nₑ ⋅R ⋅i ⋅μ₀ \n",
       "────────────────\n",
       "       2        "
      ]
     },
     "execution_count": 17,
     "metadata": {},
     "output_type": "execute_result"
    }
   ],
   "source": [
    "# Força [N]\n",
    "\n",
    "F = -diff(Wp, g)\n",
    "F"
   ]
  },
  {
   "cell_type": "markdown",
   "metadata": {},
   "source": [
    "Reduzindo g."
   ]
  }
 ],
 "metadata": {
  "kernelspec": {
   "display_name": "Python 3",
   "language": "python",
   "name": "python3"
  },
  "language_info": {
   "codemirror_mode": {
    "name": "ipython",
    "version": 3
   },
   "file_extension": ".py",
   "mimetype": "text/x-python",
   "name": "python",
   "nbconvert_exporter": "python",
   "pygments_lexer": "ipython3",
   "version": "3.4.2"
  }
 },
 "nbformat": 4,
 "nbformat_minor": 2
}
