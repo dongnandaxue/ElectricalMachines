{
 "cells": [
  {
   "cell_type": "markdown",
   "metadata": {},
   "source": [
    "#### Problema  3.5"
   ]
  },
  {
   "cell_type": "code",
   "execution_count": 1,
   "metadata": {},
   "outputs": [],
   "source": [
    "%matplotlib inline\n",
    "%config InlineBackend.figure_format = 'svg'\n",
    "import matplotlib\n",
    "from sympy import *\n",
    "init_printing(use_unicode=True)\n",
    "from sympy.plotting import plot\n",
    "import SchemDraw as schem\n",
    "import SchemDraw.elements as e\n",
    "#  :-)\n",
    "#import matplotlib.pyplot as plt\n",
    "#plt.xkcd()"
   ]
  },
  {
   "cell_type": "markdown",
   "metadata": {},
   "source": [
    "Variáveis:\n",
    " \n",
    " L_0: [H]  \n",
    " x: [m]  \n",
    " x_0: [m]  \n",
    " i: [A]"
   ]
  },
  {
   "cell_type": "code",
   "execution_count": 2,
   "metadata": {},
   "outputs": [],
   "source": [
    "L_0, x, x_0, i = symbols('L_0 x x_0 i')"
   ]
  },
  {
   "cell_type": "markdown",
   "metadata": {},
   "source": [
    "Indutância obtida experimanetalmente:"
   ]
  },
  {
   "cell_type": "code",
   "execution_count": 3,
   "metadata": {},
   "outputs": [
    {
     "data": {
      "image/png": "[encoded data removed]",
      "text/latex": [
       "$$\\frac{L_{0}}{\\frac{x}{x_{0}} + 1}$$"
      ],
      "text/plain": [
       "  L₀  \n",
       "──────\n",
       "x     \n",
       "── + 1\n",
       "x₀    "
      ]
     },
     "execution_count": 3,
     "metadata": {},
     "output_type": "execute_result"
    }
   ],
   "source": [
    "# Indutância [H]\n",
    "L = L_0/(1 + (x/x_0))\n",
    "L"
   ]
  },
  {
   "cell_type": "markdown",
   "metadata": {},
   "source": [
    "##### Para a variação da corrente:"
   ]
  },
  {
   "cell_type": "code",
   "execution_count": 8,
   "metadata": {},
   "outputs": [],
   "source": [
    "# Enlace de fluxo [Wb]\n",
    "lambd = L*i"
   ]
  },
  {
   "cell_type": "code",
   "execution_count": 9,
   "metadata": {},
   "outputs": [
    {
     "data": {
      "image/png": "[encoded data removed]",
      "text/latex": [
       "$$\\frac{0.5 L_{0} i^{2}}{\\frac{x}{x_{0}} + 1}$$"
      ],
      "text/plain": [
       "        2\n",
       "0.5⋅L₀⋅i \n",
       "─────────\n",
       "  x      \n",
       "  ── + 1 \n",
       "  x₀     "
      ]
     },
     "execution_count": 9,
     "metadata": {},
     "output_type": "execute_result"
    }
   ],
   "source": [
    "# Energia [J]\n",
    "W = (1/2)*(lambd**2)/L\n",
    "W"
   ]
  },
  {
   "cell_type": "markdown",
   "metadata": {},
   "source": [
    "Supondo linearidade do sistema, temos:\n",
    "\n",
    "$$\\frac{1}{2}\\frac{\\lambda_0^2}{L(x_0)} = \\frac{1}{2}L(x_0)^2$$\n",
    "\n",
    "A variação da energia é $W(i_{final}) - W(i_{inicial})$:"
   ]
  },
  {
   "cell_type": "code",
   "execution_count": 12,
   "metadata": {},
   "outputs": [
    {
     "data": {
      "image/png": "[encoded data removed]",
      "text/latex": [
       "$$0.8232$$"
      ],
      "text/plain": [
       "0.823200000000000"
      ]
     },
     "execution_count": 12,
     "metadata": {},
     "output_type": "execute_result"
    }
   ],
   "source": [
    "N(W.subs({L_0:70/1000, x:1.30/1000, x_0:1.20/1000, i:7}) - W.subs({L_0:70/1000, x:1.30/1000, x_0:1.20/1000, i:0}))"
   ]
  },
  {
   "cell_type": "markdown",
   "metadata": {},
   "source": [
    "##### Para a variação do deslocamento:"
   ]
  },
  {
   "cell_type": "code",
   "execution_count": 14,
   "metadata": {},
   "outputs": [
    {
     "data": {
      "image/png": "[encoded data removed]",
      "text/latex": [
       "$$\\frac{0.5 L_{0} i^{2}}{\\frac{x}{x_{0}} + 1}$$"
      ],
      "text/plain": [
       "        2\n",
       "0.5⋅L₀⋅i \n",
       "─────────\n",
       "  x      \n",
       "  ── + 1 \n",
       "  x₀     "
      ]
     },
     "execution_count": 14,
     "metadata": {},
     "output_type": "execute_result"
    }
   ],
   "source": [
    "# Energia [J]\n",
    "W = (1/2)*L*i**2\n",
    "W"
   ]
  },
  {
   "cell_type": "code",
   "execution_count": 15,
   "metadata": {},
   "outputs": [
    {
     "data": {
      "image/png": "[encoded data removed]",
      "text/latex": [
       "$$-0.30508947368421$$"
      ],
      "text/plain": [
       "-0.305089473684210"
      ]
     },
     "execution_count": 15,
     "metadata": {},
     "output_type": "execute_result"
    }
   ],
   "source": [
    "N(W.subs({L_0:70/1000, x:1.30/1000, x_0:1.20/1000, i:7}) - W.subs({L_0:70/1000, x:1.30/1000, x_0:2.5/1000, i:7}))"
   ]
  }
 ],
 "metadata": {
  "kernelspec": {
   "display_name": "Python 3",
   "language": "python",
   "name": "python3"
  },
  "language_info": {
   "codemirror_mode": {
    "name": "ipython",
    "version": 3
   },
   "file_extension": ".py",
   "mimetype": "text/x-python",
   "name": "python",
   "nbconvert_exporter": "python",
   "pygments_lexer": "ipython3",
   "version": "3.4.2"
  }
 },
 "nbformat": 4,
 "nbformat_minor": 2
}
