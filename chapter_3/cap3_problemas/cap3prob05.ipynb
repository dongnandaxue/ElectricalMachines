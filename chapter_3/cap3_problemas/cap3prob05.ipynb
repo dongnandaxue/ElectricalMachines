{
 "cells": [
  {
   "cell_type": "markdown",
   "metadata": {},
   "source": [
    "#### Problema  3.5"
   ]
  },
  {
   "cell_type": "code",
   "execution_count": 2,
   "metadata": {},
   "outputs": [],
   "source": [
    "%matplotlib inline\n",
    "%config InlineBackend.figure_format = 'svg'\n",
    "import matplotlib\n",
    "from sympy import *\n",
    "init_printing(use_unicode=True)\n",
    "from sympy.plotting import plot\n",
    "import SchemDraw as schem\n",
    "import SchemDraw.elements as e\n",
    "#  :-)\n",
    "#import matplotlib.pyplot as plt\n",
    "#plt.xkcd()"
   ]
  },
  {
   "cell_type": "markdown",
   "metadata": {},
   "source": [
    "Variáveis:\n",
    " \n",
    " L_0: [H]  \n",
    " x: [m]  \n",
    " x_0: [m]  \n",
    " i: [A]"
   ]
  },
  {
   "cell_type": "code",
   "execution_count": 3,
   "metadata": {},
   "outputs": [],
   "source": [
    "L_0, x, x_0, I_0, t, omega, r = symbols('L_0 x x_0 I_0 t omega r')"
   ]
  },
  {
   "cell_type": "markdown",
   "metadata": {},
   "source": [
    "Indutância obtida experimenetalmente:"
   ]
  },
  {
   "cell_type": "code",
   "execution_count": 10,
   "metadata": {},
   "outputs": [
    {
     "data": {
      "image/png": "[encoded data removed]",
      "text/latex": [
       "$$\\frac{2 L_{0}}{\\frac{x}{x_{0}} + 1}$$"
      ],
      "text/plain": [
       " 2⋅L₀ \n",
       "──────\n",
       "x     \n",
       "── + 1\n",
       "x₀    "
      ]
     },
     "execution_count": 10,
     "metadata": {},
     "output_type": "execute_result"
    }
   ],
   "source": [
    "# Indutância [H]\n",
    "L = 2*L_0/(1 + (x/x_0))\n",
    "L"
   ]
  },
  {
   "cell_type": "markdown",
   "metadata": {},
   "source": [
    "A corrente da fonte é senoidal, dada por:"
   ]
  },
  {
   "cell_type": "code",
   "execution_count": 11,
   "metadata": {},
   "outputs": [
    {
     "data": {
      "image/png": "[encoded data removed]",
      "text/latex": [
       "$$I_{0} \\sin{\\left (\\omega t \\right )}$$"
      ],
      "text/plain": [
       "I₀⋅sin(ω⋅t)"
      ]
     },
     "execution_count": 11,
     "metadata": {},
     "output_type": "execute_result"
    }
   ],
   "source": [
    "i = I_0*sin(omega*t)\n",
    "i"
   ]
  },
  {
   "cell_type": "markdown",
   "metadata": {},
   "source": [
    "Energia magnética média:"
   ]
  },
  {
   "cell_type": "code",
   "execution_count": 12,
   "metadata": {},
   "outputs": [],
   "source": [
    "# Enlace de fluxo [Wb]\n",
    "lambd = L*i"
   ]
  },
  {
   "cell_type": "code",
   "execution_count": 13,
   "metadata": {},
   "outputs": [
    {
     "data": {
      "image/png": "[encoded data removed]",
      "text/latex": [
       "$$\\frac{1.0 I_{0}^{2} L_{0}}{\\frac{x}{x_{0}} + 1} \\sin^{2}{\\left (\\omega t \\right )}$$"
      ],
      "text/plain": [
       "      2       2     \n",
       "1.0⋅I₀ ⋅L₀⋅sin (ω⋅t)\n",
       "────────────────────\n",
       "       x            \n",
       "       ── + 1       \n",
       "       x₀           "
      ]
     },
     "execution_count": 13,
     "metadata": {},
     "output_type": "execute_result"
    }
   ],
   "source": [
    "# Energia instantânea [J]\n",
    "W = (1/2)*(lambd**2)/L\n",
    "W"
   ]
  },
  {
   "cell_type": "markdown",
   "metadata": {},
   "source": [
    "Avaliação numérica:"
   ]
  },
  {
   "cell_type": "code",
   "execution_count": 14,
   "metadata": {},
   "outputs": [
    {
     "data": {
      "image/png": "[encoded data removed]",
      "text/latex": [
       "$$\\frac{0.5 I_{0}^{2} L_{0} \\omega}{\\pi \\left(\\frac{x}{x_{0}} + 1\\right)} \\left(\\begin{cases} 0 & \\text{for}\\: \\omega = 0 \\\\\\frac{\\pi}{\\omega} & \\text{otherwise} \\end{cases}\\right)$$"
      ],
      "text/plain": [
       "             ⎛⎧0  for ω = 0⎞\n",
       "      2      ⎜⎪            ⎟\n",
       "0.5⋅I₀ ⋅L₀⋅ω⋅⎜⎨π           ⎟\n",
       "             ⎜⎪─  otherwise⎟\n",
       "             ⎝⎩ω           ⎠\n",
       "────────────────────────────\n",
       "           ⎛x     ⎞         \n",
       "         π⋅⎜── + 1⎟         \n",
       "           ⎝x₀    ⎠         "
      ]
     },
     "execution_count": 14,
     "metadata": {},
     "output_type": "execute_result"
    }
   ],
   "source": [
    "# Período [s]\n",
    "T = 2*pi/omega\n",
    "\n",
    "# Energia média [J]\n",
    "W_media = integrate(W, (t, 0, T))/T\n",
    "W_media"
   ]
  },
  {
   "cell_type": "code",
   "execution_count": 15,
   "metadata": {},
   "outputs": [
    {
     "data": {
      "image/png": "[encoded data removed]",
      "text/latex": [
       "$$0.8575$$"
      ],
      "text/plain": [
       "0.857500000000000"
      ]
     },
     "execution_count": 15,
     "metadata": {},
     "output_type": "execute_result"
    }
   ],
   "source": [
    "N(W_media.subs({L_0:70/1000, x:1.20/1000, x_0:1.20/1000, I_0:7, omega:120*pi}))"
   ]
  },
  {
   "cell_type": "markdown",
   "metadata": {},
   "source": [
    "Potência média dissipada no resistor:"
   ]
  },
  {
   "cell_type": "code",
   "execution_count": 16,
   "metadata": {},
   "outputs": [
    {
     "data": {
      "image/png": "[encoded data removed]",
      "text/latex": [
       "$$\\frac{I_{0}^{2} \\omega r}{2 \\pi} \\left(\\begin{cases} 0 & \\text{for}\\: \\omega = 0 \\\\\\frac{\\pi}{\\omega} & \\text{otherwise} \\end{cases}\\right)$$"
      ],
      "text/plain": [
       "        ⎛⎧0  for ω = 0⎞\n",
       "  2     ⎜⎪            ⎟\n",
       "I₀ ⋅ω⋅r⋅⎜⎨π           ⎟\n",
       "        ⎜⎪─  otherwise⎟\n",
       "        ⎝⎩ω           ⎠\n",
       "───────────────────────\n",
       "          2⋅π          "
      ]
     },
     "execution_count": 16,
     "metadata": {},
     "output_type": "execute_result"
    }
   ],
   "source": [
    "# Potência instantânea [W]\n",
    "P = r*i**2\n",
    "# Potência média [J]\n",
    "P_media = integrate(P, (t, 0, T))/T\n",
    "P_media\n"
   ]
  },
  {
   "cell_type": "markdown",
   "metadata": {},
   "source": [
    "Avaliação numérica"
   ]
  },
  {
   "cell_type": "code",
   "execution_count": 17,
   "metadata": {},
   "outputs": [
    {
     "data": {
      "image/png": "[encoded data removed]",
      "text/latex": [
       "$$3.3075$$"
      ],
      "text/plain": [
       "3.30750000000000"
      ]
     },
     "execution_count": 17,
     "metadata": {},
     "output_type": "execute_result"
    }
   ],
   "source": [
    "N(P_media.subs({L_0:70/1000, x:1.20/1000, x_0:1.20/1000, I_0:7, omega:120*pi, r:135/1000}))"
   ]
  }
 ],
 "metadata": {
  "kernelspec": {
   "display_name": "Python 3",
   "language": "python",
   "name": "python3"
  },
  "language_info": {
   "codemirror_mode": {
    "name": "ipython",
    "version": 3
   },
   "file_extension": ".py",
   "mimetype": "text/x-python",
   "name": "python",
   "nbconvert_exporter": "python",
   "pygments_lexer": "ipython3",
   "version": "3.4.2"
  }
 },
 "nbformat": 4,
 "nbformat_minor": 2
}
