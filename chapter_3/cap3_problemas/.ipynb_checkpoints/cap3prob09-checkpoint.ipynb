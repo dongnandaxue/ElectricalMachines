{
 "cells": [
  {
   "cell_type": "markdown",
   "metadata": {},
   "source": [
    "#### Problema  3.9"
   ]
  },
  {
   "cell_type": "code",
   "execution_count": 1,
   "metadata": {},
   "outputs": [],
   "source": [
    "%matplotlib inline\n",
    "%config InlineBackend.figure_format = 'svg'\n",
    "import matplotlib\n",
    "from sympy import *\n",
    "init_printing(use_unicode=True)\n",
    "from sympy.plotting import plot\n",
    "import SchemDraw as schem\n",
    "import SchemDraw.elements as e\n",
    "#  :-)\n",
    "#import matplotlib.pyplot as plt\n",
    "#plt.xkcd()"
   ]
  },
  {
   "cell_type": "markdown",
   "metadata": {},
   "source": [
    "##### Esquemático:"
   ]
  },
  {
   "cell_type": "code",
   "execution_count": 2,
   "metadata": {},
   "outputs": [
    {
     "data": {
      "image/svg+xml": [
       "<?xml version=\"1.0\" encoding=\"utf-8\" standalone=\"no\"?>\n",
       "<!DOCTYPE svg PUBLIC \"-//W3C//DTD SVG 1.1//EN\"\n",
       "  \"http://www.w3.org/Graphics/SVG/1.1/DTD/svg11.dtd\">\n",
       "<!-- Created with matplotlib (http://matplotlib.org/) -->\n",
       "<svg height=\"144pt\" version=\"1.1\" viewBox=\"0 0 252 144\" width=\"252pt\" xmlns=\"http://www.w3.org/2000/svg\" xmlns:xlink=\"http://www.w3.org/1999/xlink\">\n",
       " <defs>\n",
       "  <style type=\"text/css\">\n",
       "*{stroke-linecap:butt;stroke-linejoin:round;}\n",
       "  </style>\n",
       " </defs>\n",
       " <g id=\"figure_1\">\n",
       "  <g id=\"patch_1\">\n",
       "   <path d=\"\n",
       "M0 144.972\n",
       "L252.76 144.972\n",
       "L252.76 0\n",
       "L0 0\n",
       "z\n",
       "\" style=\"fill:none;\"/>\n",
       "  </g>\n",
       "  <g id=\"axes_1\">\n",
       "   <g id=\"patch_2\">\n",
       "    <path clip-path=\"url(#p467a93e897)\" d=\"\n",
       "M97.2069 48.2168\n",
       "C97.5375 45.795 97.1967 43.2985 96.2448 41.1687\n",
       "C95.2929 39.039 93.7894 37.4096 92.0004 36.5685\" style=\"fill:none;stroke:#000000;stroke-linejoin:miter;stroke-width:1.5;\"/>\n",
       "   </g>\n",
       "   <g id=\"patch_3\">\n",
       "    <path clip-path=\"url(#p467a93e897)\" d=\"\n",
       "M238.27 84.065\n",
       "C239.344 84.065 240.375 83.6973 241.134 83.0435\n",
       "C241.893 82.3898 242.32 81.5021 242.32 80.5775\n",
       "C242.32 79.6529 241.893 78.7652 241.134 78.1115\n",
       "C240.375 77.4577 239.344 77.09 238.27 77.09\" style=\"fill:none;stroke:#000000;stroke-linejoin:miter;stroke-width:1.5;\"/>\n",
       "   </g>\n",
       "   <g id=\"patch_4\">\n",
       "    <path clip-path=\"url(#p467a93e897)\" d=\"\n",
       "M238.27 91.04\n",
       "C239.344 91.04 240.375 90.6723 241.134 90.0185\n",
       "C241.893 89.3648 242.32 88.4771 242.32 87.5525\n",
       "C242.32 86.6279 241.893 85.7402 241.134 85.0865\n",
       "C240.375 84.4327 239.344 84.065 238.27 84.065\" style=\"fill:none;stroke:#000000;stroke-linejoin:miter;stroke-width:1.5;\"/>\n",
       "   </g>\n",
       "   <g id=\"patch_5\">\n",
       "    <path clip-path=\"url(#p467a93e897)\" d=\"\n",
       "M238.27 98.015\n",
       "C239.344 98.015 240.375 97.6473 241.134 96.9935\n",
       "C241.893 96.3398 242.32 95.4521 242.32 94.5275\n",
       "C242.32 93.6029 241.893 92.7152 241.134 92.0615\n",
       "C240.375 91.4077 239.344 91.04 238.27 91.04\" style=\"fill:none;stroke:#000000;stroke-linejoin:miter;stroke-width:1.5;\"/>\n",
       "   </g>\n",
       "   <g id=\"patch_6\">\n",
       "    <path clip-path=\"url(#p467a93e897)\" d=\"\n",
       "M238.27 104.99\n",
       "C239.344 104.99 240.375 104.622 241.134 103.969\n",
       "C241.893 103.315 242.32 102.427 242.32 101.502\n",
       "C242.32 100.578 241.893 99.6902 241.134 99.0365\n",
       "C240.375 98.3827 239.344 98.015 238.27 98.015\" style=\"fill:none;stroke:#000000;stroke-linejoin:miter;stroke-width:1.5;\"/>\n",
       "   </g>\n",
       "   <g id=\"patch_7\">\n",
       "    <path clip-path=\"url(#p467a93e897)\" d=\"\n",
       "M84.0844 34.0875\n",
       "L92.527 34.5067\n",
       "L91.7014 36.4599\n",
       "L92.0059 36.5554\n",
       "L91.9948 36.5816\n",
       "L91.6904 36.4862\n",
       "L90.8648 38.4393\n",
       "z\n",
       "\" style=\"stroke:#000000;stroke-linejoin:miter;\"/>\n",
       "   </g>\n",
       "   <g id=\"line2d_1\">\n",
       "    <path clip-path=\"url(#p467a93e897)\" d=\"\n",
       "M43.87 49.19\n",
       "L43.87 88.4244\n",
       "M43.87 93.6556\n",
       "L43.87 132.89\" style=\"fill:none;stroke:#000000;stroke-linecap:round;stroke-width:1.5;\"/>\n",
       "   </g>\n",
       "   <g id=\"line2d_2\">\n",
       "    <path clip-path=\"url(#p467a93e897)\" d=\"\n",
       "M31.72 88.4244\n",
       "L56.02 88.4244\" style=\"fill:none;stroke:#000000;stroke-linecap:round;stroke-width:1.5;\"/>\n",
       "   </g>\n",
       "   <g id=\"line2d_3\">\n",
       "    <path clip-path=\"url(#p467a93e897)\" d=\"\n",
       "M37.795 93.6556\n",
       "L49.945 93.6556\" style=\"fill:none;stroke:#000000;stroke-linecap:round;stroke-width:1.5;\"/>\n",
       "   </g>\n",
       "   <g id=\"line2d_4\">\n",
       "    <path clip-path=\"url(#p467a93e897)\" d=\"\n",
       "M43.87 49.19\n",
       "L76.27 49.19\n",
       "M84.046 46.4\n",
       "L102.19 36.635\n",
       "M108.67 49.19\n",
       "L141.07 49.19\" style=\"fill:none;stroke:#000000;stroke-linecap:round;stroke-width:1.5;\"/>\n",
       "   </g>\n",
       "   <g id=\"line2d_5\">\n",
       "    <path clip-path=\"url(#p467a93e897)\" d=\"\n",
       "M141.07 49.19\" style=\"fill:none;stroke:#000000;stroke-linecap:round;stroke-width:1.5;\"/>\n",
       "   </g>\n",
       "   <g id=\"line2d_6\">\n",
       "    <path clip-path=\"url(#p467a93e897)\" d=\"\n",
       "M141.07 49.19\n",
       "L141.07 86.1575\n",
       "M149.17 95.9225\n",
       "L132.97 95.9225\n",
       "M141.07 95.9225\n",
       "L141.07 132.89\" style=\"fill:none;stroke:#000000;stroke-linecap:round;stroke-width:1.5;\"/>\n",
       "   </g>\n",
       "   <g id=\"line2d_7\">\n",
       "    <path clip-path=\"url(#p467a93e897)\" d=\"\n",
       "M141.07 132.89\" style=\"fill:none;stroke:#000000;stroke-linecap:round;stroke-width:1.5;\"/>\n",
       "   </g>\n",
       "   <g id=\"line2d_8\">\n",
       "    <path clip-path=\"url(#p467a93e897)\" d=\"\n",
       "M141.07 132.89\n",
       "L92.47 132.89\n",
       "L43.87 132.89\" style=\"fill:none;stroke:#000000;stroke-linecap:round;stroke-width:1.5;\"/>\n",
       "   </g>\n",
       "   <g id=\"line2d_9\">\n",
       "    <path clip-path=\"url(#p467a93e897)\" d=\"\n",
       "M141.07 49.19\n",
       "L173.47 49.19\n",
       "L176.17 42.215\n",
       "L181.57 56.165\n",
       "L186.97 42.215\n",
       "L192.37 56.165\n",
       "L197.77 42.215\n",
       "L203.17 56.165\n",
       "L205.87 49.19\n",
       "L238.27 49.19\" style=\"fill:none;stroke:#000000;stroke-linecap:round;stroke-width:1.5;\"/>\n",
       "   </g>\n",
       "   <g id=\"line2d_10\">\n",
       "    <path clip-path=\"url(#p467a93e897)\" d=\"\n",
       "M238.27 49.19\n",
       "L238.27 77.09\n",
       "M238.27 104.99\n",
       "L238.27 132.89\" style=\"fill:none;stroke:#000000;stroke-linecap:round;stroke-width:1.5;\"/>\n",
       "   </g>\n",
       "   <g id=\"line2d_11\">\n",
       "    <path clip-path=\"url(#p467a93e897)\" d=\"\n",
       "M238.27 132.89\n",
       "L189.67 132.89\n",
       "L141.07 132.89\" style=\"fill:none;stroke:#000000;stroke-linecap:round;stroke-width:1.5;\"/>\n",
       "   </g>\n",
       "   <g id=\"patch_8\">\n",
       "    <path clip-path=\"url(#p467a93e897)\" d=\"\n",
       "M80.158 52.538\n",
       "C81.1891 52.538 82.1781 52.1852 82.9072 51.5574\n",
       "C83.6363 50.9296 84.046 50.0779 84.046 49.19\n",
       "C84.046 48.3021 83.6363 47.4504 82.9072 46.8226\n",
       "C82.1781 46.1948 81.1891 45.842 80.158 45.842\n",
       "C79.1269 45.842 78.1379 46.1948 77.4088 46.8226\n",
       "C76.6797 47.4504 76.27 48.3021 76.27 49.19\n",
       "C76.27 50.0779 76.6797 50.9296 77.4088 51.5574\n",
       "C78.1379 52.1852 79.1269 52.538 80.158 52.538\n",
       "z\n",
       "\" style=\"fill:none;stroke:#000000;stroke-linejoin:miter;stroke-width:1.5;\"/>\n",
       "   </g>\n",
       "   <g id=\"patch_9\">\n",
       "    <path clip-path=\"url(#p467a93e897)\" d=\"\n",
       "M104.782 52.538\n",
       "C105.813 52.538 106.802 52.1852 107.531 51.5574\n",
       "C108.26 50.9296 108.67 50.0779 108.67 49.19\n",
       "C108.67 48.3021 108.26 47.4504 107.531 46.8226\n",
       "C106.802 46.1948 105.813 45.842 104.782 45.842\n",
       "C103.751 45.842 102.762 46.1948 102.033 46.8226\n",
       "C101.304 47.4504 100.894 48.3021 100.894 49.19\n",
       "C100.894 50.0779 101.304 50.9296 102.033 51.5574\n",
       "C102.762 52.1852 103.751 52.538 104.782 52.538\n",
       "z\n",
       "\" style=\"fill:none;stroke:#000000;stroke-linejoin:miter;stroke-width:1.5;\"/>\n",
       "   </g>\n",
       "   <g id=\"patch_10\">\n",
       "    <path clip-path=\"url(#p467a93e897)\" d=\"\n",
       "M141.07 51.2825\n",
       "C141.714 51.2825 142.333 51.062 142.788 50.6696\n",
       "C143.244 50.2772 143.5 49.7449 143.5 49.19\n",
       "C143.5 48.6351 143.244 48.1028 142.788 47.7104\n",
       "C142.333 47.318 141.714 47.0975 141.07 47.0975\n",
       "C140.426 47.0975 139.807 47.318 139.352 47.7104\n",
       "C138.896 48.1028 138.64 48.6351 138.64 49.19\n",
       "C138.64 49.7449 138.896 50.2772 139.352 50.6696\n",
       "C139.807 51.062 140.426 51.2825 141.07 51.2825\n",
       "z\n",
       "\" style=\"stroke:#000000;stroke-linejoin:miter;stroke-width:1.5;\"/>\n",
       "   </g>\n",
       "   <g id=\"patch_11\">\n",
       "    <path clip-path=\"url(#p467a93e897)\" d=\"\n",
       "M149.17 86.1575\n",
       "L141.07 95.9225\n",
       "L132.97 86.1575\n",
       "z\n",
       "\" style=\"fill:none;stroke:#000000;stroke-linejoin:miter;stroke-width:1.5;\"/>\n",
       "   </g>\n",
       "   <g id=\"patch_12\">\n",
       "    <path clip-path=\"url(#p467a93e897)\" d=\"\n",
       "M141.07 134.982\n",
       "C141.714 134.982 142.333 134.762 142.788 134.37\n",
       "C143.244 133.977 143.5 133.445 143.5 132.89\n",
       "C143.5 132.335 143.244 131.803 142.788 131.41\n",
       "C142.333 131.018 141.714 130.797 141.07 130.797\n",
       "C140.426 130.797 139.807 131.018 139.352 131.41\n",
       "C138.896 131.803 138.64 132.335 138.64 132.89\n",
       "C138.64 133.445 138.896 133.977 139.352 134.37\n",
       "C139.807 134.762 140.426 134.982 141.07 134.982\n",
       "z\n",
       "\" style=\"stroke:#000000;stroke-linejoin:miter;stroke-width:1.5;\"/>\n",
       "   </g>\n",
       "   <g id=\"text_1\">\n",
       "    <!-- $V_0$ -->\n",
       "    <defs>\n",
       "     <path d=\"\n",
       "M31.7812 66.4062\n",
       "Q24.1719 66.4062 20.3281 58.9062\n",
       "Q16.5 51.4219 16.5 36.375\n",
       "Q16.5 21.3906 20.3281 13.8906\n",
       "Q24.1719 6.39062 31.7812 6.39062\n",
       "Q39.4531 6.39062 43.2812 13.8906\n",
       "Q47.125 21.3906 47.125 36.375\n",
       "Q47.125 51.4219 43.2812 58.9062\n",
       "Q39.4531 66.4062 31.7812 66.4062\n",
       "M31.7812 74.2188\n",
       "Q44.0469 74.2188 50.5156 64.5156\n",
       "Q56.9844 54.8281 56.9844 36.375\n",
       "Q56.9844 17.9688 50.5156 8.26562\n",
       "Q44.0469 -1.42188 31.7812 -1.42188\n",
       "Q19.5312 -1.42188 13.0625 8.26562\n",
       "Q6.59375 17.9688 6.59375 36.375\n",
       "Q6.59375 54.8281 13.0625 64.5156\n",
       "Q19.5312 74.2188 31.7812 74.2188\" id=\"BitstreamVeraSans-Roman-30\"/>\n",
       "     <path d=\"\n",
       "M28.6094 0\n",
       "L0.78125 72.9062\n",
       "L11.0781 72.9062\n",
       "L34.1875 11.5312\n",
       "L57.3281 72.9062\n",
       "L67.5781 72.9062\n",
       "L39.7969 0\n",
       "z\n",
       "\" id=\"BitstreamVeraSans-Roman-56\"/>\n",
       "    </defs>\n",
       "    <g transform=\"translate(7.2 94.24)scale(0.16 -0.16)\">\n",
       "     <use transform=\"translate(0.0 0.09375)\" xlink:href=\"#BitstreamVeraSans-Roman-56\"/>\n",
       "     <use transform=\"translate(68.408203125 -31.40625)scale(0.7)\" xlink:href=\"#BitstreamVeraSans-Roman-30\"/>\n",
       "    </g>\n",
       "   </g>\n",
       "   <g id=\"text_2\">\n",
       "    <!-- $S$ -->\n",
       "    <defs>\n",
       "     <path d=\"\n",
       "M53.5156 70.5156\n",
       "L53.5156 60.8906\n",
       "Q47.9062 63.5781 42.9219 64.8906\n",
       "Q37.9375 66.2188 33.2969 66.2188\n",
       "Q25.25 66.2188 20.875 63.0938\n",
       "Q16.5 59.9688 16.5 54.2031\n",
       "Q16.5 49.3594 19.4062 46.8906\n",
       "Q22.3125 44.4375 30.4219 42.9219\n",
       "L36.375 41.7031\n",
       "Q47.4062 39.5938 52.6562 34.2969\n",
       "Q57.9062 29 57.9062 20.125\n",
       "Q57.9062 9.51562 50.7969 4.04688\n",
       "Q43.7031 -1.42188 29.9844 -1.42188\n",
       "Q24.8125 -1.42188 18.9688 -0.25\n",
       "Q13.1406 0.921875 6.89062 3.21875\n",
       "L6.89062 13.375\n",
       "Q12.8906 10.0156 18.6562 8.29688\n",
       "Q24.4219 6.59375 29.9844 6.59375\n",
       "Q38.4219 6.59375 43.0156 9.90625\n",
       "Q47.6094 13.2344 47.6094 19.3906\n",
       "Q47.6094 24.75 44.3125 27.7812\n",
       "Q41.0156 30.8125 33.5 32.3281\n",
       "L27.4844 33.5\n",
       "Q16.4531 35.6875 11.5156 40.375\n",
       "Q6.59375 45.0625 6.59375 53.4219\n",
       "Q6.59375 63.0938 13.4062 68.6562\n",
       "Q20.2188 74.2188 32.1719 74.2188\n",
       "Q37.3125 74.2188 42.625 73.2812\n",
       "Q47.9531 72.3594 53.5156 70.5156\" id=\"BitstreamVeraSans-Roman-53\"/>\n",
       "    </defs>\n",
       "    <g transform=\"translate(87.35 19.3575)scale(0.16 -0.16)\">\n",
       "     <use transform=\"translate(0.0 0.78125)\" xlink:href=\"#BitstreamVeraSans-Roman-53\"/>\n",
       "    </g>\n",
       "   </g>\n",
       "   <g id=\"text_3\">\n",
       "    <!-- t = 0 -->\n",
       "    <defs>\n",
       "     <path d=\"\n",
       "M10.5938 45.4062\n",
       "L73.1875 45.4062\n",
       "L73.1875 37.2031\n",
       "L10.5938 37.2031\n",
       "z\n",
       "\n",
       "M10.5938 25.4844\n",
       "L73.1875 25.4844\n",
       "L73.1875 17.1875\n",
       "L10.5938 17.1875\n",
       "z\n",
       "\" id=\"BitstreamVeraSans-Roman-3d\"/>\n",
       "     <path id=\"BitstreamVeraSans-Roman-20\"/>\n",
       "     <path d=\"\n",
       "M18.3125 70.2188\n",
       "L18.3125 54.6875\n",
       "L36.8125 54.6875\n",
       "L36.8125 47.7031\n",
       "L18.3125 47.7031\n",
       "L18.3125 18.0156\n",
       "Q18.3125 11.3281 20.1406 9.42188\n",
       "Q21.9688 7.51562 27.5938 7.51562\n",
       "L36.8125 7.51562\n",
       "L36.8125 0\n",
       "L27.5938 0\n",
       "Q17.1875 0 13.2344 3.875\n",
       "Q9.28125 7.76562 9.28125 18.0156\n",
       "L9.28125 47.7031\n",
       "L2.6875 47.7031\n",
       "L2.6875 54.6875\n",
       "L9.28125 54.6875\n",
       "L9.28125 70.2188\n",
       "z\n",
       "\" id=\"BitstreamVeraSans-Roman-74\"/>\n",
       "    </defs>\n",
       "    <g transform=\"translate(72.98625 82.2725)scale(0.16 -0.16)\">\n",
       "     <use xlink:href=\"#BitstreamVeraSans-Roman-74\"/>\n",
       "     <use x=\"39.208984375\" xlink:href=\"#BitstreamVeraSans-Roman-20\"/>\n",
       "     <use x=\"70.99609375\" xlink:href=\"#BitstreamVeraSans-Roman-3d\"/>\n",
       "     <use x=\"154.78515625\" xlink:href=\"#BitstreamVeraSans-Roman-20\"/>\n",
       "     <use x=\"186.572265625\" xlink:href=\"#BitstreamVeraSans-Roman-30\"/>\n",
       "    </g>\n",
       "   </g>\n",
       "   <g id=\"text_4\">\n",
       "    <!-- $R$ -->\n",
       "    <defs>\n",
       "     <path d=\"\n",
       "M44.3906 34.1875\n",
       "Q47.5625 33.1094 50.5625 29.5938\n",
       "Q53.5625 26.0781 56.5938 19.9219\n",
       "L66.6094 0\n",
       "L56 0\n",
       "L46.6875 18.7031\n",
       "Q43.0625 26.0312 39.6719 28.4219\n",
       "Q36.2812 30.8125 30.4219 30.8125\n",
       "L19.6719 30.8125\n",
       "L19.6719 0\n",
       "L9.8125 0\n",
       "L9.8125 72.9062\n",
       "L32.0781 72.9062\n",
       "Q44.5781 72.9062 50.7344 67.6719\n",
       "Q56.8906 62.4531 56.8906 51.9062\n",
       "Q56.8906 45.0156 53.6875 40.4688\n",
       "Q50.4844 35.9375 44.3906 34.1875\n",
       "M19.6719 64.7969\n",
       "L19.6719 38.9219\n",
       "L32.0781 38.9219\n",
       "Q39.2031 38.9219 42.8438 42.2188\n",
       "Q46.4844 45.5156 46.4844 51.9062\n",
       "Q46.4844 58.2969 42.8438 61.5469\n",
       "Q39.2031 64.7969 32.0781 64.7969\n",
       "z\n",
       "\" id=\"BitstreamVeraSans-Roman-52\"/>\n",
       "    </defs>\n",
       "    <g transform=\"translate(184.07 36.0975)scale(0.16 -0.16)\">\n",
       "     <use transform=\"translate(0.0 0.09375)\" xlink:href=\"#BitstreamVeraSans-Roman-52\"/>\n",
       "    </g>\n",
       "   </g>\n",
       "   <g id=\"text_5\">\n",
       "    <!-- $L$ -->\n",
       "    <defs>\n",
       "     <path d=\"\n",
       "M9.8125 72.9062\n",
       "L19.6719 72.9062\n",
       "L19.6719 8.29688\n",
       "L55.1719 8.29688\n",
       "L55.1719 0\n",
       "L9.8125 0\n",
       "z\n",
       "\" id=\"BitstreamVeraSans-Roman-4c\"/>\n",
       "    </defs>\n",
       "    <g transform=\"translate(217.97 95.455)scale(0.16 -0.16)\">\n",
       "     <use transform=\"translate(0.0 0.09375)\" xlink:href=\"#BitstreamVeraSans-Roman-4c\"/>\n",
       "    </g>\n",
       "   </g>\n",
       "  </g>\n",
       " </g>\n",
       " <defs>\n",
       "  <clipPath id=\"p467a93e897\">\n",
       "   <rect height=\"103.994034045\" width=\"217.08\" x=\"28.48\" y=\"33.778465955\"/>\n",
       "  </clipPath>\n",
       " </defs>\n",
       "</svg>\n"
      ],
      "text/plain": [
       "<matplotlib.figure.Figure at 0x7fbecbdb74a8>"
      ]
     },
     "metadata": {},
     "output_type": "display_data"
    }
   ],
   "source": [
    "desenho = schem.Drawing()\n",
    "V1 = desenho.add(e.BAT_CELL, d='up', label='$V_0$', reverse=True)\n",
    "S1 = desenho.add(e.SWITCH_SPST_OPEN, d='right', label='$S$')\n",
    "S1.add_label('t = 0', loc='bot')\n",
    "desenho.add(e.DOT)\n",
    "desenho.push()\n",
    "D1 = desenho.add(e.DIODE, d='down')\n",
    "desenho.add(e.DOT)\n",
    "L1 = desenho.add(e.LINE, d='left', tox=V1.start)\n",
    "desenho.pop()\n",
    "R1 = desenho.add(e.RES, d='right', label='$R$')\n",
    "LL1 = desenho.add(e.INDUCTOR, d='down', label='$L$')\n",
    "L3 = desenho.add(e.LINE, d='left')\n",
    "desenho.draw()"
   ]
  },
  {
   "cell_type": "markdown",
   "metadata": {},
   "source": [
    "##### Variáveis:\n",
    " \n",
    " V_0: tensão da fonte [V]  \n",
    " L: Indutância [H]  \n",
    " t: tempo [s]  \n",
    " R: Resistência [$\\Omega$]  \n",
    " i: corrente no indutor [A]"
   ]
  },
  {
   "cell_type": "code",
   "execution_count": 5,
   "metadata": {},
   "outputs": [],
   "source": [
    "V_0, L, t, R, i = symbols('V_0 L t R i')"
   ]
  },
  {
   "cell_type": "markdown",
   "metadata": {},
   "source": [
    "##### Corrente no indutor [A]:\n",
    "\n",
    "Se tomarmos o circuito após a abertura da chave, temos que, pela Lei das malhas de Kirchhoff:\n",
    "\n",
    "$$v_L + v_R =  0$$\n",
    "\n",
    "$$v_L = -v_R   $$\n",
    "\n",
    "$$Ri_R = -L\\frac{di_L}{dt}$$\n",
    "\n",
    "$$-\\frac{R}{L} = \\frac{1}{i}\\frac{di}{dt}$$\n",
    "\n",
    "$$\\int -\\frac{R}{L} dt = \\int \\frac{1}{i}di$$\n",
    "\n",
    "$$ \\ln{i_L} = - \\frac{Rt}{L} + k$$\n",
    "\n",
    "$$ i_L = e^{-\\frac{R}{L}t + k}$$\n",
    "\n",
    "$$ i_L = e^{k} e^{-\\frac{R}{L}t}$$\n",
    "\n",
    "$$ i_L = I_0 e^{-\\frac{R}{L}t}$$\n",
    "\n",
    "$$ i_L = \\frac{V_0}{R} e^{-\\frac{R}{L}t}$$"
   ]
  },
  {
   "cell_type": "code",
   "execution_count": 7,
   "metadata": {},
   "outputs": [
    {
     "data": {
      "image/png": "[encoded data removed]",
      "text/latex": [
       "$$\\frac{V_{0}}{R} e^{- \\frac{R t}{L}}$$"
      ],
      "text/plain": [
       "    -R⋅t \n",
       "    ─────\n",
       "      L  \n",
       "V₀⋅ℯ     \n",
       "─────────\n",
       "    R    "
      ]
     },
     "execution_count": 7,
     "metadata": {},
     "output_type": "execute_result"
    }
   ],
   "source": [
    "i = (V_0/R)*exp(-t*R/(L))\n",
    "i"
   ]
  },
  {
   "cell_type": "markdown",
   "metadata": {},
   "source": [
    "Enlace de fluxo [Wb]:"
   ]
  },
  {
   "cell_type": "code",
   "execution_count": 8,
   "metadata": {},
   "outputs": [
    {
     "data": {
      "image/png": "[encoded data removed]",
      "text/latex": [
       "$$\\frac{L V_{0}}{R} e^{- \\frac{R t}{L}}$$"
      ],
      "text/plain": [
       "      -R⋅t \n",
       "      ─────\n",
       "        L  \n",
       "L⋅V₀⋅ℯ     \n",
       "───────────\n",
       "     R     "
      ]
     },
     "execution_count": 8,
     "metadata": {},
     "output_type": "execute_result"
    }
   ],
   "source": [
    "λ = L*i\n",
    "λ"
   ]
  },
  {
   "cell_type": "markdown",
   "metadata": {},
   "source": [
    "Energia armazenada [J]:"
   ]
  },
  {
   "cell_type": "code",
   "execution_count": 9,
   "metadata": {},
   "outputs": [
    {
     "data": {
      "image/png": "[encoded data removed]",
      "text/latex": [
       "$$\\frac{0.5 L}{R^{2}} V_{0}^{2} e^{- \\frac{2 R}{L} t}$$"
      ],
      "text/plain": [
       "           -2⋅R⋅t \n",
       "           ───────\n",
       "        2     L   \n",
       "0.5⋅L⋅V₀ ⋅ℯ       \n",
       "──────────────────\n",
       "         2        \n",
       "        R         "
      ]
     },
     "execution_count": 9,
     "metadata": {},
     "output_type": "execute_result"
    }
   ],
   "source": [
    "W = (1/2)*(λ**2)/L\n",
    "W"
   ]
  },
  {
   "cell_type": "code",
   "execution_count": 12,
   "metadata": {},
   "outputs": [
    {
     "data": {
      "image/png": "[encoded data removed]",
      "text/latex": [
       "$$\\frac{0.5 L}{R^{2}} V_{0}^{2}$$"
      ],
      "text/plain": [
       "        2\n",
       "0.5⋅L⋅V₀ \n",
       "─────────\n",
       "     2   \n",
       "    R    "
      ]
     },
     "execution_count": 12,
     "metadata": {},
     "output_type": "execute_result"
    }
   ],
   "source": [
    "# Energia armazenada no instante t=0:\n",
    "W.subs({t:0})"
   ]
  },
  {
   "cell_type": "code",
   "execution_count": 15,
   "metadata": {},
   "outputs": [
    {
     "data": {
      "image/png": "[encoded data removed]",
      "text/latex": [
       "$$\\lim_{t \\to \\infty}\\left(\\frac{0.5 L}{R^{2}} V_{0}^{2} e^{- \\frac{2 R}{L} t}\\right)$$"
      ],
      "text/plain": [
       "    ⎛           -2⋅R⋅t ⎞\n",
       "    ⎜           ───────⎟\n",
       "    ⎜        2     L   ⎟\n",
       "    ⎜0.5⋅L⋅V₀ ⋅ℯ       ⎟\n",
       "lim ⎜──────────────────⎟\n",
       "t─→∞⎜         2        ⎟\n",
       "    ⎝        R         ⎠"
      ]
     },
     "execution_count": 15,
     "metadata": {},
     "output_type": "execute_result"
    }
   ],
   "source": [
    "# Energia armazenada no infinito:\n",
    "Limit(W, t, oo)"
   ]
  },
  {
   "cell_type": "markdown",
   "metadata": {},
   "source": [
    "Ou seja, a energia no infinito é nula."
   ]
  },
  {
   "cell_type": "markdown",
   "metadata": {},
   "source": [
    "Potência dissipada [W]:"
   ]
  },
  {
   "cell_type": "code",
   "execution_count": 18,
   "metadata": {},
   "outputs": [
    {
     "data": {
      "image/png": "[encoded data removed]",
      "text/latex": [
       "$$V_{0} e^{- \\frac{R t}{L}}$$"
      ],
      "text/plain": [
       "    -R⋅t \n",
       "    ─────\n",
       "      L  \n",
       "V₀⋅ℯ     "
      ]
     },
     "execution_count": 18,
     "metadata": {},
     "output_type": "execute_result"
    }
   ],
   "source": [
    "P = i*R\n",
    "P"
   ]
  },
  {
   "cell_type": "markdown",
   "metadata": {},
   "source": [
    "Energia total dissipada no resistor:"
   ]
  },
  {
   "cell_type": "code",
   "execution_count": 19,
   "metadata": {},
   "outputs": [
    {
     "data": {
      "image/png": "[encoded data removed]",
      "text/latex": [
       "$$\\begin{cases} \\frac{L V_{0}}{R} & \\text{for}\\: \\left|{\\operatorname{periodic_{argument}}{\\left (\\frac{\\operatorname{polar\\_lift}{\\left (R \\right )}}{\\operatorname{polar\\_lift}{\\left (L \\right )}},\\infty \\right )}}\\right| < \\frac{\\pi}{2} \\\\\\int_{0}^{\\infty} V_{0} e^{- \\frac{R t}{L}}\\, dt & \\text{otherwise} \\end{cases}$$"
      ],
      "text/plain": [
       "⎧     L⋅V₀           │                 ⎛polar_lift(R)   ⎞│   π\n",
       "⎪     ────       for │periodic_argument⎜─────────────, ∞⎟│ < ─\n",
       "⎪      R             │                 ⎝polar_lift(L)   ⎠│   2\n",
       "⎪                                                             \n",
       "⎪∞                                                            \n",
       "⎪⌠                                                            \n",
       "⎨⎮     -R⋅t                                                   \n",
       "⎪⎮     ─────                                                  \n",
       "⎪⎮       L                                                    \n",
       "⎪⎮ V₀⋅ℯ      dt                    otherwise                  \n",
       "⎪⌡                                                            \n",
       "⎪0                                                            \n",
       "⎩                                                             "
      ]
     },
     "execution_count": 19,
     "metadata": {},
     "output_type": "execute_result"
    }
   ],
   "source": [
    "Etotal = integrate(P, (t, 0, oo))\n",
    "Etotal"
   ]
  }
 ],
 "metadata": {
  "kernelspec": {
   "display_name": "Python 3",
   "language": "python",
   "name": "python3"
  },
  "language_info": {
   "codemirror_mode": {
    "name": "ipython",
    "version": 3
   },
   "file_extension": ".py",
   "mimetype": "text/x-python",
   "name": "python",
   "nbconvert_exporter": "python",
   "pygments_lexer": "ipython3",
   "version": "3.4.2"
  }
 },
 "nbformat": 4,
 "nbformat_minor": 2
}
