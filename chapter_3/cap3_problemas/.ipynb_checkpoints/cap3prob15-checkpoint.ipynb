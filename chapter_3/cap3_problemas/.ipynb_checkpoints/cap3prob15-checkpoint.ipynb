{
 "cells": [
  {
   "cell_type": "markdown",
   "metadata": {},
   "source": [
    "#### Problema  3.15"
   ]
  },
  {
   "cell_type": "code",
   "execution_count": 1,
   "metadata": {},
   "outputs": [],
   "source": [
    "%matplotlib inline\n",
    "%config InlineBackend.figure_format = 'svg'\n",
    "import matplotlib\n",
    "from sympy import *\n",
    "init_printing(use_unicode=True)\n",
    "from sympy.plotting import plot\n",
    "import SchemDraw as schem\n",
    "import SchemDraw.elements as e\n",
    "#  :-)\n",
    "#import matplotlib.pyplot as plt\n",
    "#plt.xkcd()"
   ]
  },
  {
   "cell_type": "code",
   "execution_count": 2,
   "metadata": {},
   "outputs": [],
   "source": [
    "g_1, h_1, g, N_e, i, v, mu_0, R= symbols('g_1 h_1 g N_e i v mu_0 R')"
   ]
  },
  {
   "cell_type": "code",
   "execution_count": 4,
   "metadata": {},
   "outputs": [
    {
     "data": {
      "image/png": "[encoded data removed]",
      "text/latex": [
       "$$\\frac{g_{1}}{2 \\pi R h_{1} \\mu_{0}} + \\frac{g}{\\pi R^{2} \\mu_{0}}$$"
      ],
      "text/plain": [
       "     g₁          g   \n",
       "─────────── + ───────\n",
       "2⋅π⋅R⋅h₁⋅μ₀      2   \n",
       "              π⋅R ⋅μ₀"
      ]
     },
     "execution_count": 4,
     "metadata": {},
     "output_type": "execute_result"
    }
   ],
   "source": [
    "# Relutância [H⁻¹]:\n",
    "Rel = g/(mu_0*pi*R**2) + g_1/(mu_0*pi*2*R*h_1)\n",
    "Rel"
   ]
  },
  {
   "cell_type": "code",
   "execution_count": 6,
   "metadata": {},
   "outputs": [
    {
     "data": {
      "image/png": "[encoded data removed]",
      "text/latex": [
       "$$\\frac{N_{e} i}{\\frac{g_{1}}{2 \\pi R h_{1} \\mu_{0}} + \\frac{g}{\\pi R^{2} \\mu_{0}}}$$"
      ],
      "text/plain": [
       "         Nₑ⋅i        \n",
       "─────────────────────\n",
       "     g₁          g   \n",
       "─────────── + ───────\n",
       "2⋅π⋅R⋅h₁⋅μ₀      2   \n",
       "              π⋅R ⋅μ₀"
      ]
     },
     "execution_count": 6,
     "metadata": {},
     "output_type": "execute_result"
    }
   ],
   "source": [
    "# Fluxo magnético [Wb]\n",
    "phi = N_e*i/Rel\n",
    "phi"
   ]
  },
  {
   "cell_type": "code",
   "execution_count": 7,
   "metadata": {},
   "outputs": [
    {
     "data": {
      "image/png": "[encoded data removed]",
      "text/latex": [
       "$$\\frac{\\pi N_{e} R^{2} i}{\\frac{g_{1}}{2 \\pi R h_{1} \\mu_{0}} + \\frac{g}{\\pi R^{2} \\mu_{0}}}$$"
      ],
      "text/plain": [
       "            2        \n",
       "      π⋅Nₑ⋅R ⋅i      \n",
       "─────────────────────\n",
       "     g₁          g   \n",
       "─────────── + ───────\n",
       "2⋅π⋅R⋅h₁⋅μ₀      2   \n",
       "              π⋅R ⋅μ₀"
      ]
     },
     "execution_count": 7,
     "metadata": {},
     "output_type": "execute_result"
    }
   ],
   "source": [
    "# Densidade de fluxo magnético no entreferro g [T]:\n",
    "B = phi*pi*R**2\n",
    "B"
   ]
  },
  {
   "cell_type": "code",
   "execution_count": 9,
   "metadata": {},
   "outputs": [
    {
     "data": {
      "image/png": "[encoded data removed]",
      "text/latex": [
       "$$\\frac{N_{e}^{2} i}{\\frac{g_{1}}{2 \\pi R h_{1} \\mu_{0}} + \\frac{g}{\\pi R^{2} \\mu_{0}}}$$"
      ],
      "text/plain": [
       "          2          \n",
       "        Nₑ ⋅i        \n",
       "─────────────────────\n",
       "     g₁          g   \n",
       "─────────── + ───────\n",
       "2⋅π⋅R⋅h₁⋅μ₀      2   \n",
       "              π⋅R ⋅μ₀"
      ]
     },
     "execution_count": 9,
     "metadata": {},
     "output_type": "execute_result"
    }
   ],
   "source": [
    "# Enlace de fluxo magnético [Wb]\n",
    "λ = N_e*phi\n",
    "λ"
   ]
  },
  {
   "cell_type": "code",
   "execution_count": 11,
   "metadata": {},
   "outputs": [
    {
     "data": {
      "image/png": "[encoded data removed]",
      "text/latex": [
       "$$\\frac{N_{e}^{2}}{\\frac{g_{1}}{2 \\pi R h_{1} \\mu_{0}} + \\frac{g}{\\pi R^{2} \\mu_{0}}}$$"
      ],
      "text/plain": [
       "           2         \n",
       "         Nₑ          \n",
       "─────────────────────\n",
       "     g₁          g   \n",
       "─────────── + ───────\n",
       "2⋅π⋅R⋅h₁⋅μ₀      2   \n",
       "              π⋅R ⋅μ₀"
      ]
     },
     "execution_count": 11,
     "metadata": {},
     "output_type": "execute_result"
    }
   ],
   "source": [
    "# Indutância\n",
    "L = λ/i\n",
    "L"
   ]
  },
  {
   "cell_type": "code",
   "execution_count": 12,
   "metadata": {},
   "outputs": [
    {
     "data": {
      "image/png": "[encoded data removed]",
      "text/latex": [
       "$$\\frac{N_{e}^{2} i^{2}}{2 \\left(\\frac{g_{1}}{2 \\pi R h_{1} \\mu_{0}} + \\frac{g}{\\pi R^{2} \\mu_{0}}\\right)}$$"
      ],
      "text/plain": [
       "            2  2         \n",
       "          Nₑ ⋅i          \n",
       "─────────────────────────\n",
       "  ⎛     g₁          g   ⎞\n",
       "2⋅⎜─────────── + ───────⎟\n",
       "  ⎜2⋅π⋅R⋅h₁⋅μ₀      2   ⎟\n",
       "  ⎝              π⋅R ⋅μ₀⎠"
      ]
     },
     "execution_count": 12,
     "metadata": {},
     "output_type": "execute_result"
    }
   ],
   "source": [
    "# Coenergia armazenada [J]:\n",
    "W = (L*i**2)/2\n",
    "W"
   ]
  },
  {
   "cell_type": "code",
   "execution_count": 13,
   "metadata": {},
   "outputs": [
    {
     "data": {
      "image/png": "[encoded data removed]",
      "text/latex": [
       "$$\\frac{N_{e}^{2} i^{2}}{2 \\pi R^{2} \\mu_{0} \\left(\\frac{g_{1}}{2 \\pi R h_{1} \\mu_{0}} + \\frac{g}{\\pi R^{2} \\mu_{0}}\\right)^{2}}$$"
      ],
      "text/plain": [
       "                2  2              \n",
       "              Nₑ ⋅i               \n",
       "──────────────────────────────────\n",
       "                                 2\n",
       "     2    ⎛     g₁          g   ⎞ \n",
       "2⋅π⋅R ⋅μ₀⋅⎜─────────── + ───────⎟ \n",
       "          ⎜2⋅π⋅R⋅h₁⋅μ₀      2   ⎟ \n",
       "          ⎝              π⋅R ⋅μ₀⎠ "
      ]
     },
     "execution_count": 13,
     "metadata": {},
     "output_type": "execute_result"
    }
   ],
   "source": [
    "# Força [N]:\n",
    "F = -diff(W,g)\n",
    "F"
   ]
  },
  {
   "cell_type": "markdown",
   "metadata": {},
   "source": [
    "A foça atua reduzindo g."
   ]
  }
 ],
 "metadata": {
  "kernelspec": {
   "display_name": "Python 3",
   "language": "python",
   "name": "python3"
  },
  "language_info": {
   "codemirror_mode": {
    "name": "ipython",
    "version": 3
   },
   "file_extension": ".py",
   "mimetype": "text/x-python",
   "name": "python",
   "nbconvert_exporter": "python",
   "pygments_lexer": "ipython3",
   "version": "3.4.2"
  }
 },
 "nbformat": 4,
 "nbformat_minor": 2
}
