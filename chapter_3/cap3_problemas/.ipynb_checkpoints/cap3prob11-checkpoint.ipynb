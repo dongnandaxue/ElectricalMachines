{
 "cells": [
  {
   "cell_type": "markdown",
   "metadata": {},
   "source": [
    "#### Problema  3.11"
   ]
  },
  {
   "cell_type": "code",
   "execution_count": 53,
   "metadata": {},
   "outputs": [],
   "source": [
    "%matplotlib inline\n",
    "%config InlineBackend.figure_format = 'svg'\n",
    "import matplotlib\n",
    "from sympy import *\n",
    "init_printing(use_unicode=True)\n",
    "from sympy.plotting import plot\n",
    "import SchemDraw as schem\n",
    "import SchemDraw.elements as e\n",
    "#  :-)\n",
    "#import matplotlib.pyplot as plt\n",
    "#plt.xkcd()"
   ]
  },
  {
   "cell_type": "code",
   "execution_count": 62,
   "metadata": {},
   "outputs": [],
   "source": [
    "L_0, X_0, x, t, i, I_0 = symbols('L_0 X_0 x t i I_0')"
   ]
  },
  {
   "cell_type": "code",
   "execution_count": 58,
   "metadata": {},
   "outputs": [
    {
     "data": {
      "image/png": "[encoded data removed]",
      "text/latex": [
       "$$\\frac{L_{0} X_{0}^{2}}{x^{2}}$$"
      ],
      "text/plain": [
       "     2\n",
       "L₀⋅X₀ \n",
       "──────\n",
       "   2  \n",
       "  x   "
      ]
     },
     "execution_count": 58,
     "metadata": {},
     "output_type": "execute_result"
    }
   ],
   "source": [
    "# Indutância [H]:\n",
    "\n",
    "L = L_0/((x/X_0)**2)\n",
    "L"
   ]
  },
  {
   "cell_type": "code",
   "execution_count": 59,
   "metadata": {},
   "outputs": [
    {
     "data": {
      "image/png": "[encoded data removed]",
      "text/latex": [
       "$$\\frac{L_{0} i}{x^{2}} X_{0}^{2}$$"
      ],
      "text/plain": [
       "     2  \n",
       "L₀⋅X₀ ⋅i\n",
       "────────\n",
       "    2   \n",
       "   x    "
      ]
     },
     "execution_count": 59,
     "metadata": {},
     "output_type": "execute_result"
    }
   ],
   "source": [
    "# Enlace de fluxo [Wb]\n",
    "\n",
    "λ = L*i\n",
    "λ"
   ]
  },
  {
   "cell_type": "code",
   "execution_count": 60,
   "metadata": {},
   "outputs": [
    {
     "data": {
      "image/png": "[encoded data removed]",
      "text/latex": [
       "$$\\frac{L_{0} X_{0}^{2} i^{2}}{2 x^{2}}$$"
      ],
      "text/plain": [
       "     2  2\n",
       "L₀⋅X₀ ⋅i \n",
       "─────────\n",
       "      2  \n",
       "   2⋅x   "
      ]
     },
     "execution_count": 60,
     "metadata": {},
     "output_type": "execute_result"
    }
   ],
   "source": [
    "# Energia armazenada [J]:\n",
    "W = (λ**2)/(2*L)\n",
    "W"
   ]
  },
  {
   "cell_type": "code",
   "execution_count": 61,
   "metadata": {},
   "outputs": [
    {
     "data": {
      "image/png": "[encoded data removed]",
      "text/latex": [
       "$$\\frac{L_{0} X_{0}^{2}}{x^{3}} i^{2}$$"
      ],
      "text/plain": [
       "     2  2\n",
       "L₀⋅X₀ ⋅i \n",
       "─────────\n",
       "     3   \n",
       "    x    "
      ]
     },
     "execution_count": 61,
     "metadata": {},
     "output_type": "execute_result"
    }
   ],
   "source": [
    "# Força [N]:\n",
    "F = -diff(W,x)\n",
    "F"
   ]
  },
  {
   "cell_type": "markdown",
   "metadata": {},
   "source": [
    "Força com corrente nula:"
   ]
  },
  {
   "cell_type": "code",
   "execution_count": 64,
   "metadata": {},
   "outputs": [
    {
     "data": {
      "image/png": "[encoded data removed]",
      "text/latex": [
       "$$\\frac{I_{0}^{2} L_{0}}{x^{3}} X_{0}^{2}$$"
      ],
      "text/plain": [
       "  2      2\n",
       "I₀ ⋅L₀⋅X₀ \n",
       "──────────\n",
       "     3    \n",
       "    x     "
      ]
     },
     "execution_count": 64,
     "metadata": {},
     "output_type": "execute_result"
    }
   ],
   "source": [
    "F.subs({i:I_0})"
   ]
  },
  {
   "cell_type": "markdown",
   "metadata": {},
   "source": [
    "Ora, a força atua no sentido de reduzir x."
   ]
  }
 ],
 "metadata": {
  "kernelspec": {
   "display_name": "Python 3",
   "language": "python",
   "name": "python3"
  },
  "language_info": {
   "codemirror_mode": {
    "name": "ipython",
    "version": 3
   },
   "file_extension": ".py",
   "mimetype": "text/x-python",
   "name": "python",
   "nbconvert_exporter": "python",
   "pygments_lexer": "ipython3",
   "version": "3.4.2"
  }
 },
 "nbformat": 4,
 "nbformat_minor": 2
}
