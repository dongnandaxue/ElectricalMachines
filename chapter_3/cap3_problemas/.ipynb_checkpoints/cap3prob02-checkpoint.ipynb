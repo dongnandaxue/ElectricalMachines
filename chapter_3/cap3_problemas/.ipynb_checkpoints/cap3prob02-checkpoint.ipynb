{
 "cells": [
  {
   "cell_type": "markdown",
   "metadata": {},
   "source": [
    " ### Problema 3.2\n",
    "\n",
    "Observe o [Problema 3.1](cap3prob3_1.ipynb)\n",
    "\n",
    "O torque total é \n",
    "\n",
    "\\begin{equation}\n",
    "T_1 = -2BRl(I_1\\sin(\\alpha) + I_2\\cos(\\alpha))\n",
    "\\end{equation} "
   ]
  },
  {
   "cell_type": "code",
   "execution_count": 8,
   "metadata": {},
   "outputs": [],
   "source": [
    "# Bibliotecas\n",
    "from sympy import *\n",
    "init_printing(use_unicode=True)\n",
    "\n",
    "alpha, B, R, l = symbols('alpha B R l')"
   ]
  },
  {
   "cell_type": "code",
   "execution_count": 9,
   "metadata": {},
   "outputs": [],
   "source": [
    "# Correntes\n",
    "I_1 = 8*sin(alpha)\n",
    "I_2 = 8*cos(alpha)"
   ]
  },
  {
   "cell_type": "code",
   "execution_count": 10,
   "metadata": {},
   "outputs": [
    {
     "data": {
      "image/png": "[encoded data removed]",
      "text/latex": [
       "$$- 2 B R l \\left(8 \\sin^{2}{\\left (\\alpha \\right )} + 8 \\cos^{2}{\\left (\\alpha \\right )}\\right)$$"
      ],
      "text/plain": [
       "         ⎛     2           2   ⎞\n",
       "-2⋅B⋅R⋅l⋅⎝8⋅sin (α) + 8⋅cos (α)⎠"
      ]
     },
     "execution_count": 10,
     "metadata": {},
     "output_type": "execute_result"
    }
   ],
   "source": [
    "# Determinaçao do conjugado, em [Nm]\n",
    "T = -2*B*R*l*(I_1*sin(alpha)+I_2*cos(alpha))\n",
    "T"
   ]
  }
 ],
 "metadata": {
  "kernelspec": {
   "display_name": "Python 3",
   "language": "python",
   "name": "python3"
  },
  "language_info": {
   "codemirror_mode": {
    "name": "ipython",
    "version": 3
   },
   "file_extension": ".py",
   "mimetype": "text/x-python",
   "name": "python",
   "nbconvert_exporter": "python",
   "pygments_lexer": "ipython3",
   "version": "3.4.2"
  }
 },
 "nbformat": 4,
 "nbformat_minor": 2
}
