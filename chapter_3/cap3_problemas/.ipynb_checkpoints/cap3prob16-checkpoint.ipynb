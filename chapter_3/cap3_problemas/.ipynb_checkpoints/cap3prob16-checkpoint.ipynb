{
 "cells": [
  {
   "cell_type": "markdown",
   "metadata": {},
   "source": [
    "#### Problema  3.16"
   ]
  },
  {
   "cell_type": "code",
   "execution_count": 14,
   "metadata": {},
   "outputs": [],
   "source": [
    "%matplotlib inline\n",
    "%config InlineBackend.figure_format = 'svg'\n",
    "import matplotlib\n",
    "from sympy import *\n",
    "init_printing(use_unicode=True)\n",
    "from sympy.plotting import plot\n",
    "import SchemDraw as schem\n",
    "import SchemDraw.elements as e\n",
    "#  :-)\n",
    "#import matplotlib.pyplot as plt\n",
    "#plt.xkcd()"
   ]
  },
  {
   "cell_type": "code",
   "execution_count": 76,
   "metadata": {},
   "outputs": [],
   "source": [
    "r, R, gmin, gmax, g1, Ne, h = symbols('r R g_min g_max g_1 N_e h_1')"
   ]
  },
  {
   "cell_type": "markdown",
   "metadata": {},
   "source": [
    "##### Variáveis:\n",
    " \n",
    " r: raio [m]  \n",
    " R: resistência [$\\Omega$]  \n",
    " g_min: gap mínimo [m]  \n",
    " g_max: gap máximo [m]  \n",
    " g_1: gap da carcaça [m]  \n",
    " N_e: Número de espiras  \n",
    " h_1:largura da carcaça [m]"
   ]
  }
 ],
 "metadata": {
  "kernelspec": {
   "display_name": "Python 3",
   "language": "python",
   "name": "python3"
  },
  "language_info": {
   "codemirror_mode": {
    "name": "ipython",
    "version": 3
   },
   "file_extension": ".py",
   "mimetype": "text/x-python",
   "name": "python",
   "nbconvert_exporter": "python",
   "pygments_lexer": "ipython3",
   "version": "3.4.2"
  }
 },
 "nbformat": 4,
 "nbformat_minor": 2
}
