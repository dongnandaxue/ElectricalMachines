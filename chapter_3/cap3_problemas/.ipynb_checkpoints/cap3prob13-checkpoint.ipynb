{
 "cells": [
  {
   "cell_type": "markdown",
   "metadata": {},
   "source": [
    "#### Problema  3.13"
   ]
  },
  {
   "cell_type": "code",
   "execution_count": 6,
   "metadata": {},
   "outputs": [],
   "source": [
    "%matplotlib inline\n",
    "%config InlineBackend.figure_format = 'svg'\n",
    "import matplotlib\n",
    "from sympy import *\n",
    "init_printing(use_unicode=True)\n",
    "from sympy.plotting import plot\n",
    "import SchemDraw as schem\n",
    "import SchemDraw.elements as e\n",
    "#  :-)\n",
    "#import matplotlib.pyplot as plt\n",
    "#plt.xkcd()"
   ]
  },
  {
   "cell_type": "code",
   "execution_count": 7,
   "metadata": {},
   "outputs": [],
   "source": [
    "L_0, L_6, theta_m, t, I_0, i = symbols('L_0 L_6 theta_m t I_0 i')"
   ]
  },
  {
   "cell_type": "code",
   "execution_count": 8,
   "metadata": {},
   "outputs": [
    {
     "data": {
      "image/png": "[encoded data removed]",
      "text/latex": [
       "$$L_{0} + L_{6} \\cos{\\left (6 \\theta_{m} \\right )}$$"
      ],
      "text/plain": [
       "L₀ + L₆⋅cos(6⋅θₘ)"
      ]
     },
     "execution_count": 8,
     "metadata": {},
     "output_type": "execute_result"
    }
   ],
   "source": [
    "# Indutância [H]:\n",
    "\n",
    "L = L_0 + L_6*cos(6*theta_m)\n",
    "L"
   ]
  },
  {
   "cell_type": "code",
   "execution_count": 9,
   "metadata": {},
   "outputs": [
    {
     "data": {
      "image/png": "[encoded data removed]",
      "text/latex": [
       "$$\\frac{i^{2}}{2} \\left(L_{0} + L_{6} \\cos{\\left (6 \\theta_{m} \\right )}\\right)$$"
      ],
      "text/plain": [
       " 2                    \n",
       "i ⋅(L₀ + L₆⋅cos(6⋅θₘ))\n",
       "──────────────────────\n",
       "          2           "
      ]
     },
     "execution_count": 9,
     "metadata": {},
     "output_type": "execute_result"
    }
   ],
   "source": [
    "# Energia armazenada [J]:\n",
    "W = (L*i**2)/2\n",
    "W"
   ]
  },
  {
   "cell_type": "code",
   "execution_count": 10,
   "metadata": {},
   "outputs": [
    {
     "data": {
      "image/png": "[encoded data removed]",
      "text/latex": [
       "$$- 3 L_{6} i^{2} \\sin{\\left (6 \\theta_{m} \\right )}$$"
      ],
      "text/plain": [
       "       2          \n",
       "-3⋅L₆⋅i ⋅sin(6⋅θₘ)"
      ]
     },
     "execution_count": 10,
     "metadata": {},
     "output_type": "execute_result"
    }
   ],
   "source": [
    "# Torque [N]:\n",
    "T = diff(W,theta_m)\n",
    "T"
   ]
  }
 ],
 "metadata": {
  "kernelspec": {
   "display_name": "Python 3",
   "language": "python",
   "name": "python3"
  },
  "language_info": {
   "codemirror_mode": {
    "name": "ipython",
    "version": 3
   },
   "file_extension": ".py",
   "mimetype": "text/x-python",
   "name": "python",
   "nbconvert_exporter": "python",
   "pygments_lexer": "ipython3",
   "version": "3.4.2"
  }
 },
 "nbformat": 4,
 "nbformat_minor": 2
}
