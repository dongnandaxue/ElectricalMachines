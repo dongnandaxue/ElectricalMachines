{
 "cells": [
  {
   "cell_type": "markdown",
   "metadata": {},
   "source": [
    "#### Problema  3.10"
   ]
  },
  {
   "cell_type": "code",
   "execution_count": 1,
   "metadata": {},
   "outputs": [],
   "source": [
    "%matplotlib inline\n",
    "%config InlineBackend.figure_format = 'svg'\n",
    "import matplotlib\n",
    "from sympy import *\n",
    "init_printing(use_unicode=True)\n",
    "from sympy.plotting import plot\n",
    "import SchemDraw as schem\n",
    "import SchemDraw.elements as e\n",
    "#  :-)\n",
    "#import matplotlib.pyplot as plt\n",
    "#plt.xkcd()"
   ]
  },
  {
   "cell_type": "markdown",
   "metadata": {},
   "source": [
    "##### Esquemático:"
   ]
  },
  {
   "cell_type": "code",
   "execution_count": 2,
   "metadata": {},
   "outputs": [
    {
     "data": {
      "image/svg+xml": [
       "<?xml version=\"1.0\" encoding=\"utf-8\" standalone=\"no\"?>\n",
       "<!DOCTYPE svg PUBLIC \"-//W3C//DTD SVG 1.1//EN\"\n",
       "  \"http://www.w3.org/Graphics/SVG/1.1/DTD/svg11.dtd\">\n",
       "<!-- Created with matplotlib (http://matplotlib.org/) -->\n",
       "<svg height=\"126pt\" version=\"1.1\" viewBox=\"0 0 159 126\" width=\"159pt\" xmlns=\"http://www.w3.org/2000/svg\" xmlns:xlink=\"http://www.w3.org/1999/xlink\">\n",
       " <defs>\n",
       "  <style type=\"text/css\">\n",
       "*{stroke-linecap:butt;stroke-linejoin:round;}\n",
       "  </style>\n",
       " </defs>\n",
       " <g id=\"figure_1\">\n",
       "  <g id=\"patch_1\">\n",
       "   <path d=\"\n",
       "M0 126.14\n",
       "L159.61 126.14\n",
       "L159.61 1.42109e-14\n",
       "L0 1.42109e-14\n",
       "z\n",
       "\" style=\"fill:none;\"/>\n",
       "  </g>\n",
       "  <g id=\"axes_1\">\n",
       "   <g id=\"patch_2\">\n",
       "    <path clip-path=\"url(#p41e8af3a37)\" d=\"\n",
       "M145.12 67.325\n",
       "C146.194 67.325 147.225 66.9573 147.984 66.3035\n",
       "C148.743 65.6498 149.17 64.7621 149.17 63.8375\n",
       "C149.17 62.9129 148.743 62.0252 147.984 61.3715\n",
       "C147.225 60.7177 146.194 60.35 145.12 60.35\" style=\"fill:none;stroke:#000000;stroke-linejoin:miter;stroke-width:1.5;\"/>\n",
       "   </g>\n",
       "   <g id=\"patch_3\">\n",
       "    <path clip-path=\"url(#p41e8af3a37)\" d=\"\n",
       "M145.12 74.3\n",
       "C146.194 74.3 147.225 73.9323 147.984 73.2785\n",
       "C148.743 72.6248 149.17 71.7371 149.17 70.8125\n",
       "C149.17 69.8879 148.743 69.0002 147.984 68.3465\n",
       "C147.225 67.6927 146.194 67.325 145.12 67.325\" style=\"fill:none;stroke:#000000;stroke-linejoin:miter;stroke-width:1.5;\"/>\n",
       "   </g>\n",
       "   <g id=\"patch_4\">\n",
       "    <path clip-path=\"url(#p41e8af3a37)\" d=\"\n",
       "M145.12 81.275\n",
       "C146.194 81.275 147.225 80.9073 147.984 80.2535\n",
       "C148.743 79.5998 149.17 78.7121 149.17 77.7875\n",
       "C149.17 76.8629 148.743 75.9752 147.984 75.3215\n",
       "C147.225 74.6677 146.194 74.3 145.12 74.3\" style=\"fill:none;stroke:#000000;stroke-linejoin:miter;stroke-width:1.5;\"/>\n",
       "   </g>\n",
       "   <g id=\"patch_5\">\n",
       "    <path clip-path=\"url(#p41e8af3a37)\" d=\"\n",
       "M145.12 88.25\n",
       "C146.194 88.25 147.225 87.8823 147.984 87.2285\n",
       "C148.743 86.5748 149.17 85.6871 149.17 84.7625\n",
       "C149.17 83.8379 148.743 82.9502 147.984 82.2965\n",
       "C147.225 81.6427 146.194 81.275 145.12 81.275\" style=\"fill:none;stroke:#000000;stroke-linejoin:miter;stroke-width:1.5;\"/>\n",
       "   </g>\n",
       "   <g id=\"line2d_1\">\n",
       "    <path clip-path=\"url(#p41e8af3a37)\" d=\"\n",
       "M47.92 116.15\n",
       "L47.92 88.25\n",
       "L47.92 88.25\n",
       "M47.92 60.35\n",
       "L47.92 60.35\n",
       "L47.92 32.45\" style=\"fill:none;stroke:#000000;stroke-linecap:round;stroke-width:1.5;\"/>\n",
       "   </g>\n",
       "   <g id=\"line2d_2\">\n",
       "    <path clip-path=\"url(#p41e8af3a37)\" d=\"\n",
       "M51.16 81.275\n",
       "L44.68 81.275\" style=\"fill:none;stroke:#000000;stroke-linecap:round;stroke-width:1.5;\"/>\n",
       "   </g>\n",
       "   <g id=\"line2d_3\">\n",
       "    <path clip-path=\"url(#p41e8af3a37)\" d=\"\n",
       "M47.92 70.115\n",
       "L47.92 64.535\" style=\"fill:none;stroke:#000000;stroke-linecap:round;stroke-width:1.5;\"/>\n",
       "   </g>\n",
       "   <g id=\"line2d_4\">\n",
       "    <path clip-path=\"url(#p41e8af3a37)\" d=\"\n",
       "M51.16 67.325\n",
       "L44.68 67.325\" style=\"fill:none;stroke:#000000;stroke-linecap:round;stroke-width:1.5;\"/>\n",
       "   </g>\n",
       "   <g id=\"line2d_5\">\n",
       "    <path clip-path=\"url(#p41e8af3a37)\" d=\"\n",
       "M47.92 32.45\n",
       "L80.32 32.45\n",
       "L83.02 25.475\n",
       "L88.42 39.425\n",
       "L93.82 25.475\n",
       "L99.22 39.425\n",
       "L104.62 25.475\n",
       "L110.02 39.425\n",
       "L112.72 32.45\n",
       "L145.12 32.45\" style=\"fill:none;stroke:#000000;stroke-linecap:round;stroke-width:1.5;\"/>\n",
       "   </g>\n",
       "   <g id=\"line2d_6\">\n",
       "    <path clip-path=\"url(#p41e8af3a37)\" d=\"\n",
       "M145.12 32.45\n",
       "L145.12 60.35\n",
       "M145.12 88.25\n",
       "L145.12 116.15\" style=\"fill:none;stroke:#000000;stroke-linecap:round;stroke-width:1.5;\"/>\n",
       "   </g>\n",
       "   <g id=\"line2d_7\">\n",
       "    <path clip-path=\"url(#p41e8af3a37)\" d=\"\n",
       "M145.12 116.15\n",
       "L96.52 116.15\n",
       "L47.92 116.15\" style=\"fill:none;stroke:#000000;stroke-linecap:round;stroke-width:1.5;\"/>\n",
       "   </g>\n",
       "   <g id=\"patch_6\">\n",
       "    <path clip-path=\"url(#p41e8af3a37)\" d=\"\n",
       "M47.92 88.25\n",
       "C52.2163 88.25 56.3372 86.7801 59.3751 84.1641\n",
       "C62.4131 81.5481 64.12 77.9996 64.12 74.3\n",
       "C64.12 70.6004 62.4131 67.0519 59.3751 64.4359\n",
       "C56.3372 61.8199 52.2163 60.35 47.92 60.35\n",
       "C43.6237 60.35 39.5028 61.8199 36.4649 64.4359\n",
       "C33.4269 67.0519 31.72 70.6004 31.72 74.3\n",
       "C31.72 77.9996 33.4269 81.5481 36.4649 84.1641\n",
       "C39.5028 86.7801 43.6237 88.25 47.92 88.25\n",
       "z\n",
       "\" style=\"fill:none;stroke:#000000;stroke-linejoin:miter;stroke-width:1.5;\"/>\n",
       "   </g>\n",
       "   <g id=\"text_1\">\n",
       "    <!-- $V_0$ -->\n",
       "    <defs>\n",
       "     <path d=\"\n",
       "M31.7812 66.4062\n",
       "Q24.1719 66.4062 20.3281 58.9062\n",
       "Q16.5 51.4219 16.5 36.375\n",
       "Q16.5 21.3906 20.3281 13.8906\n",
       "Q24.1719 6.39062 31.7812 6.39062\n",
       "Q39.4531 6.39062 43.2812 13.8906\n",
       "Q47.125 21.3906 47.125 36.375\n",
       "Q47.125 51.4219 43.2812 58.9062\n",
       "Q39.4531 66.4062 31.7812 66.4062\n",
       "M31.7812 74.2188\n",
       "Q44.0469 74.2188 50.5156 64.5156\n",
       "Q56.9844 54.8281 56.9844 36.375\n",
       "Q56.9844 17.9688 50.5156 8.26562\n",
       "Q44.0469 -1.42188 31.7812 -1.42188\n",
       "Q19.5312 -1.42188 13.0625 8.26562\n",
       "Q6.59375 17.9688 6.59375 36.375\n",
       "Q6.59375 54.8281 13.0625 64.5156\n",
       "Q19.5312 74.2188 31.7812 74.2188\" id=\"BitstreamVeraSans-Roman-30\"/>\n",
       "     <path d=\"\n",
       "M28.6094 0\n",
       "L0.78125 72.9062\n",
       "L11.0781 72.9062\n",
       "L34.1875 11.5312\n",
       "L57.3281 72.9062\n",
       "L67.5781 72.9062\n",
       "L39.7969 0\n",
       "z\n",
       "\" id=\"BitstreamVeraSans-Roman-56\"/>\n",
       "    </defs>\n",
       "    <g transform=\"translate(7.199999999999999 77.5)scale(0.16 -0.16)\">\n",
       "     <use transform=\"translate(0.0 0.09375)\" xlink:href=\"#BitstreamVeraSans-Roman-56\"/>\n",
       "     <use transform=\"translate(68.408203125 -31.40625)scale(0.7)\" xlink:href=\"#BitstreamVeraSans-Roman-30\"/>\n",
       "    </g>\n",
       "   </g>\n",
       "   <g id=\"text_2\">\n",
       "    <!-- $R$ -->\n",
       "    <defs>\n",
       "     <path d=\"\n",
       "M44.3906 34.1875\n",
       "Q47.5625 33.1094 50.5625 29.5938\n",
       "Q53.5625 26.0781 56.5938 19.9219\n",
       "L66.6094 0\n",
       "L56 0\n",
       "L46.6875 18.7031\n",
       "Q43.0625 26.0312 39.6719 28.4219\n",
       "Q36.2812 30.8125 30.4219 30.8125\n",
       "L19.6719 30.8125\n",
       "L19.6719 0\n",
       "L9.8125 0\n",
       "L9.8125 72.9062\n",
       "L32.0781 72.9062\n",
       "Q44.5781 72.9062 50.7344 67.6719\n",
       "Q56.8906 62.4531 56.8906 51.9062\n",
       "Q56.8906 45.0156 53.6875 40.4688\n",
       "Q50.4844 35.9375 44.3906 34.1875\n",
       "M19.6719 64.7969\n",
       "L19.6719 38.9219\n",
       "L32.0781 38.9219\n",
       "Q39.2031 38.9219 42.8438 42.2188\n",
       "Q46.4844 45.5156 46.4844 51.9062\n",
       "Q46.4844 58.2969 42.8438 61.5469\n",
       "Q39.2031 64.7969 32.0781 64.7969\n",
       "z\n",
       "\" id=\"BitstreamVeraSans-Roman-52\"/>\n",
       "    </defs>\n",
       "    <g transform=\"translate(90.92000000000002 19.357499999999973)scale(0.16 -0.16)\">\n",
       "     <use transform=\"translate(0.0 0.09375)\" xlink:href=\"#BitstreamVeraSans-Roman-52\"/>\n",
       "    </g>\n",
       "   </g>\n",
       "   <g id=\"text_3\">\n",
       "    <!-- $L$ -->\n",
       "    <defs>\n",
       "     <path d=\"\n",
       "M9.8125 72.9062\n",
       "L19.6719 72.9062\n",
       "L19.6719 8.29688\n",
       "L55.1719 8.29688\n",
       "L55.1719 0\n",
       "L9.8125 0\n",
       "z\n",
       "\" id=\"BitstreamVeraSans-Roman-4c\"/>\n",
       "    </defs>\n",
       "    <g transform=\"translate(124.82 78.71499999999999)scale(0.16 -0.16)\">\n",
       "     <use transform=\"translate(0.0 0.09375)\" xlink:href=\"#BitstreamVeraSans-Roman-4c\"/>\n",
       "    </g>\n",
       "   </g>\n",
       "  </g>\n",
       " </g>\n",
       " <defs>\n",
       "  <clipPath id=\"p41e8af3a37\">\n",
       "   <rect height=\"96.255\" width=\"123.92999999999999\" x=\"28.48\" y=\"22.684999999999988\"/>\n",
       "  </clipPath>\n",
       " </defs>\n",
       "</svg>\n"
      ],
      "text/plain": [
       "<matplotlib.figure.Figure at 0x7f42e7f37c18>"
      ]
     },
     "metadata": {},
     "output_type": "display_data"
    }
   ],
   "source": [
    "desenho = schem.Drawing()\n",
    "V1 = desenho.add(e.SOURCE_V, d='up', label='$V_0$')\n",
    "R1 = desenho.add(e.RES, d='right', label='$R$')\n",
    "L1 = desenho.add(e.INDUCTOR, d='down', label='$L$')\n",
    "L3 = desenho.add(e.LINE, d='left')\n",
    "desenho.draw()"
   ]
  },
  {
   "cell_type": "markdown",
   "metadata": {},
   "source": [
    "##### Variáveis:\n",
    " \n",
    " V_0: tensão da fonte [V]  \n",
    " L: Indutância [H]  \n",
    " t: tempo [s]  \n",
    " R: Resistência [$\\Omega$]  \n",
    " i: corrente no indutor [A]"
   ]
  },
  {
   "cell_type": "code",
   "execution_count": 13,
   "metadata": {},
   "outputs": [],
   "source": [
    "V_0, L, t, R, i, V_out, V_f = symbols('V_0 L t R i V_out V_f')"
   ]
  },
  {
   "cell_type": "code",
   "execution_count": 4,
   "metadata": {},
   "outputs": [
    {
     "data": {
      "image/png": "[encoded data removed]",
      "text/latex": [
       "$$R i^{2}$$"
      ],
      "text/plain": [
       "   2\n",
       "R⋅i "
      ]
     },
     "execution_count": 4,
     "metadata": {},
     "output_type": "execute_result"
    }
   ],
   "source": [
    "# Potência [W]:\n",
    "\n",
    "P = R*i**2\n",
    "P"
   ]
  },
  {
   "cell_type": "code",
   "execution_count": 5,
   "metadata": {},
   "outputs": [
    {
     "data": {
      "image/png": "[encoded data removed]",
      "text/latex": [
       "$$\\frac{L}{R}$$"
      ],
      "text/plain": [
       "L\n",
       "─\n",
       "R"
      ]
     },
     "execution_count": 5,
     "metadata": {},
     "output_type": "execute_result"
    }
   ],
   "source": [
    "# Constante de tempo [s]:\n",
    "τ = L/R\n",
    "τ"
   ]
  },
  {
   "cell_type": "code",
   "execution_count": 6,
   "metadata": {},
   "outputs": [
    {
     "data": {
      "image/png": "[encoded data removed]",
      "text/latex": [
       "$$\\frac{L i^{2}}{2}$$"
      ],
      "text/plain": [
       "   2\n",
       "L⋅i \n",
       "────\n",
       " 2  "
      ]
     },
     "execution_count": 6,
     "metadata": {},
     "output_type": "execute_result"
    }
   ],
   "source": [
    "# Energia armazenada [J]:\n",
    "W = (P*τ)/2\n",
    "W"
   ]
  },
  {
   "cell_type": "code",
   "execution_count": 7,
   "metadata": {},
   "outputs": [
    {
     "data": {
      "image/png": "[encoded data removed]",
      "text/latex": [
       "$$3120000.0$$"
      ],
      "text/plain": [
       "3120000.0"
      ]
     },
     "execution_count": 7,
     "metadata": {},
     "output_type": "execute_result"
    }
   ],
   "source": [
    "# Avaliação numérica da energia armazenada:\n",
    "W = (1.3*10**6)*4.8/2\n",
    "W"
   ]
  },
  {
   "cell_type": "markdown",
   "metadata": {},
   "source": [
    "##### Corrente no indutor [A]:\n",
    "\n",
    "Pela Lei das malhas de Kirchhoff:\n",
    "\n",
    "$$v_L + v_R =  V_O$$\n",
    "\n",
    "$$Ri_R  +L\\frac{di_L}{dt} = V_O$$\n",
    "\n",
    "$$  \\frac{di_L}{dt} + \\frac{Ri_R}{L} = \\frac{V_O}{L}$$\n",
    "\n",
    "Aplicando a transformada de Laplace:\n",
    "\n",
    "$$i = \\frac{\\frac{V_0}{R}}{\\tau s + 1}$$\n",
    "\n",
    "$$i = \\frac{V_0}{L}e^{-\\frac{R}{L}t}$$\n",
    "\n",
    "Assim, temos:"
   ]
  },
  {
   "cell_type": "code",
   "execution_count": 8,
   "metadata": {},
   "outputs": [
    {
     "data": {
      "image/png": "[encoded data removed]",
      "text/latex": [
       "$$\\frac{V_{0}}{L} e^{- \\frac{R t}{L}}$$"
      ],
      "text/plain": [
       "    -R⋅t \n",
       "    ─────\n",
       "      L  \n",
       "V₀⋅ℯ     \n",
       "─────────\n",
       "    L    "
      ]
     },
     "execution_count": 8,
     "metadata": {},
     "output_type": "execute_result"
    }
   ],
   "source": [
    "i = (V_0/L)*exp(-t*R/(L))\n",
    "i"
   ]
  },
  {
   "cell_type": "markdown",
   "metadata": {},
   "source": [
    "Enlace de fluxo [Wb]:"
   ]
  },
  {
   "cell_type": "code",
   "execution_count": 9,
   "metadata": {},
   "outputs": [
    {
     "data": {
      "image/png": "[encoded data removed]",
      "text/latex": [
       "$$V_{0} e^{- \\frac{R t}{L}}$$"
      ],
      "text/plain": [
       "    -R⋅t \n",
       "    ─────\n",
       "      L  \n",
       "V₀⋅ℯ     "
      ]
     },
     "execution_count": 9,
     "metadata": {},
     "output_type": "execute_result"
    }
   ],
   "source": [
    "λ = L*i\n",
    "λ"
   ]
  },
  {
   "cell_type": "markdown",
   "metadata": {},
   "source": [
    "Energia armazenada [J]:"
   ]
  },
  {
   "cell_type": "code",
   "execution_count": 10,
   "metadata": {},
   "outputs": [
    {
     "data": {
      "image/png": "[encoded data removed]",
      "text/latex": [
       "$$\\frac{0.5 V_{0}^{2}}{L} e^{- \\frac{2 R}{L} t}$$"
      ],
      "text/plain": [
       "         -2⋅R⋅t \n",
       "         ───────\n",
       "      2     L   \n",
       "0.5⋅V₀ ⋅ℯ       \n",
       "────────────────\n",
       "       L        "
      ]
     },
     "execution_count": 10,
     "metadata": {},
     "output_type": "execute_result"
    }
   ],
   "source": [
    "W = (1/2)*(λ**2)/L\n",
    "W"
   ]
  },
  {
   "cell_type": "markdown",
   "metadata": {},
   "source": [
    "Assim, a razão entre a energia após a queda da tensão e a energia anterior é a seguinte:"
   ]
  },
  {
   "cell_type": "code",
   "execution_count": 11,
   "metadata": {},
   "outputs": [
    {
     "data": {
      "image/png": "[encoded data removed]",
      "text/latex": [
       "$$0.49$$"
      ],
      "text/plain": [
       "0.490000000000000"
      ]
     },
     "execution_count": 11,
     "metadata": {},
     "output_type": "execute_result"
    }
   ],
   "source": [
    "W.subs({V_0:0.7*V_0})/W"
   ]
  }
 ],
 "metadata": {
  "kernelspec": {
   "display_name": "Python 3",
   "language": "python",
   "name": "python3"
  },
  "language_info": {
   "codemirror_mode": {
    "name": "ipython",
    "version": 3
   },
   "file_extension": ".py",
   "mimetype": "text/x-python",
   "name": "python",
   "nbconvert_exporter": "python",
   "pygments_lexer": "ipython3",
   "version": "3.4.2"
  }
 },
 "nbformat": 4,
 "nbformat_minor": 2
}
