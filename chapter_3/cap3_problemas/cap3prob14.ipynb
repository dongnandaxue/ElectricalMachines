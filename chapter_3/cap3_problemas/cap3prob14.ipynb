{
 "cells": [
  {
   "cell_type": "markdown",
   "metadata": {},
   "source": [
    "#### Problema  3.14"
   ]
  },
  {
   "cell_type": "code",
   "execution_count": 83,
   "metadata": {},
   "outputs": [],
   "source": [
    "%matplotlib inline\n",
    "%config InlineBackend.figure_format = 'svg'\n",
    "import matplotlib\n",
    "from sympy import *\n",
    "init_printing(use_unicode=True)\n",
    "from sympy.plotting import plot\n",
    "import SchemDraw as schem\n",
    "import SchemDraw.elements as e\n",
    "#  :-)\n",
    "#import matplotlib.pyplot as plt\n",
    "#plt.xkcd()"
   ]
  },
  {
   "cell_type": "code",
   "execution_count": 95,
   "metadata": {},
   "outputs": [],
   "source": [
    "x, g, A_c, M, N_e, R, mu_0, g_r= symbols('x g A_c M N_e R mu_0 g_r')"
   ]
  },
  {
   "cell_type": "code",
   "execution_count": 89,
   "metadata": {},
   "outputs": [
    {
     "data": {
      "image/png": "[encoded data removed]",
      "text/latex": [
       "$$\\frac{2 g}{A_{c} \\mu_{0}}$$"
      ],
      "text/plain": [
       " 2⋅g  \n",
       "──────\n",
       "A_c⋅μ₀"
      ]
     },
     "execution_count": 89,
     "metadata": {},
     "output_type": "execute_result"
    }
   ],
   "source": [
    "# Relutância [H⁻¹]:\n",
    "Rel = 2*g/(mu_0*A_c)\n",
    "Rel"
   ]
  },
  {
   "cell_type": "code",
   "execution_count": 90,
   "metadata": {},
   "outputs": [
    {
     "data": {
      "image/png": "[encoded data removed]",
      "text/latex": [
       "$$\\frac{A_{c} N_{e}^{2} \\mu_{0}}{2 g}$$"
      ],
      "text/plain": [
       "      2   \n",
       "A_c⋅Nₑ ⋅μ₀\n",
       "──────────\n",
       "   2⋅g    "
      ]
     },
     "execution_count": 90,
     "metadata": {},
     "output_type": "execute_result"
    }
   ],
   "source": [
    "# Indutância [H]:\n",
    "\n",
    "L = N_e**2/Rel\n",
    "L"
   ]
  },
  {
   "cell_type": "code",
   "execution_count": 91,
   "metadata": {},
   "outputs": [
    {
     "data": {
      "image/png": "[encoded data removed]",
      "text/latex": [
       "$$\\frac{A_{c} N_{e}^{2} i^{2} \\mu_{0}}{4 g}$$"
      ],
      "text/plain": [
       "      2  2   \n",
       "A_c⋅Nₑ ⋅i ⋅μ₀\n",
       "─────────────\n",
       "     4⋅g     "
      ]
     },
     "execution_count": 91,
     "metadata": {},
     "output_type": "execute_result"
    }
   ],
   "source": [
    "# Energia armazenada [J]:\n",
    "W = (L*i**2)/2\n",
    "W"
   ]
  },
  {
   "cell_type": "code",
   "execution_count": 92,
   "metadata": {},
   "outputs": [
    {
     "data": {
      "image/png": "[encoded data removed]",
      "text/latex": [
       "$$\\frac{A_{c} N_{e}^{2} i^{2} \\mu_{0}}{4 g^{2}}$$"
      ],
      "text/plain": [
       "      2  2   \n",
       "A_c⋅Nₑ ⋅i ⋅μ₀\n",
       "─────────────\n",
       "        2    \n",
       "     4⋅g     "
      ]
     },
     "execution_count": 92,
     "metadata": {},
     "output_type": "execute_result"
    }
   ],
   "source": [
    "# Força [N]:\n",
    "F = -diff(W,g)\n",
    "F"
   ]
  },
  {
   "cell_type": "markdown",
   "metadata": {},
   "source": [
    "Ora:\n",
    "\n",
    "$$F = mg_r$$\n",
    "\n",
    "$$i = \\frac{V}{R}$$\n",
    "\n",
    "Assim,\n",
    "\n",
    "$$V = R \\sqrt{\\frac{4g^2g_rM}{A_cN_e^2\\mu_0}}$$"
   ]
  },
  {
   "cell_type": "code",
   "execution_count": 97,
   "metadata": {},
   "outputs": [
    {
     "data": {
      "image/png": "[encoded data removed]",
      "text/latex": [
       "$$2 R \\sqrt{\\frac{M g^{2} g_{r}}{A_{c} N_{e}^{2} \\mu_{0}}}$$"
      ],
      "text/plain": [
       "          ____________\n",
       "         ╱     2      \n",
       "        ╱   M⋅g ⋅gᵣ   \n",
       "2⋅R⋅   ╱   ────────── \n",
       "      ╱          2    \n",
       "    ╲╱     A_c⋅Nₑ ⋅μ₀ "
      ]
     },
     "execution_count": 97,
     "metadata": {},
     "output_type": "execute_result"
    }
   ],
   "source": [
    "V = R*sqrt((4*(g**2)*g_r*M)/(A_c*(N_e**2)*mu_0))\n",
    "V"
   ]
  },
  {
   "cell_type": "code",
   "execution_count": 100,
   "metadata": {},
   "outputs": [
    {
     "data": {
      "image/png": "[encoded data removed]",
      "text/latex": [
       "$$0.513392660401573$$"
      ],
      "text/plain": [
       "0.513392660401573"
      ]
     },
     "execution_count": 100,
     "metadata": {},
     "output_type": "execute_result"
    }
   ],
   "source": [
    "N(V.subs({R:2.3, g:0.31/1000, g_r:9.8, M:12, A_c:32/(100*100), N_e:475, mu_0:4*pi*10**(-7)}))"
   ]
  }
 ],
 "metadata": {
  "kernelspec": {
   "display_name": "Python 3",
   "language": "python",
   "name": "python3"
  },
  "language_info": {
   "codemirror_mode": {
    "name": "ipython",
    "version": 3
   },
   "file_extension": ".py",
   "mimetype": "text/x-python",
   "name": "python",
   "nbconvert_exporter": "python",
   "pygments_lexer": "ipython3",
   "version": "3.4.2"
  }
 },
 "nbformat": 4,
 "nbformat_minor": 2
}
