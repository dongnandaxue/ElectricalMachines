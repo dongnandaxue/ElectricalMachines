{
 "cells": [
  {
   "cell_type": "markdown",
   "metadata": {},
   "source": [
    "#### Exemplo 3.7\n",
    "\n",
    "O sistema é considerado linear."
   ]
  },
  {
   "cell_type": "code",
   "execution_count": 5,
   "metadata": {
    "collapsed": true
   },
   "outputs": [],
   "source": [
    "%matplotlib inline\n",
    "import matplotlib\n",
    "from sympy import *\n",
    "init_printing(use_unicode=True)\n",
    "from sympy.plotting import plot"
   ]
  },
  {
   "cell_type": "code",
   "execution_count": 10,
   "metadata": {},
   "outputs": [],
   "source": [
    "# Indutâncias [H]\n",
    "theta, i_1, i_2= symbols('theta i_1 i_2')\n",
    "L_11 = (3 + cos(2*theta))/1000\n",
    "L_22 = 30 + 10*cos(2*theta)\n",
    "L_12 = 0.3*cos(theta)"
   ]
  },
  {
   "cell_type": "code",
   "execution_count": 11,
   "metadata": {},
   "outputs": [
    {
     "data": {
      "image/png": "[encoded data removed]",
      "text/latex": [
       "$$- \\frac{i_{1}^{2}}{1000} \\sin{\\left (2 \\theta \\right )} - 0.3 i_{1} i_{2} \\sin{\\left (\\theta \\right )} - 10 i_{2}^{2} \\sin{\\left (2 \\theta \\right )}$$"
      ],
      "text/plain": [
       "    2                                              \n",
       "  i₁ ⋅sin(2⋅θ)                           2         \n",
       "- ──────────── - 0.3⋅i₁⋅i₂⋅sin(θ) - 10⋅i₂ ⋅sin(2⋅θ)\n",
       "      1000                                         "
      ]
     },
     "execution_count": 11,
     "metadata": {},
     "output_type": "execute_result"
    }
   ],
   "source": [
    "# Torque [Nm]\n",
    "T = ((i_1**2)/2)*diff(L_11, theta) + ((i_2**2)/2)*diff(L_22, theta) + i_1*i_2*diff(L_12, theta)\n",
    "T"
   ]
  },
  {
   "cell_type": "code",
   "execution_count": 12,
   "metadata": {},
   "outputs": [
    {
     "data": {
      "image/png": "[encoded data removed]",
      "text/latex": [
       "$$- 0.0024 \\sin{\\left (\\theta \\right )} - 0.00164 \\sin{\\left (2 \\theta \\right )}$$"
      ],
      "text/plain": [
       "-0.0024⋅sin(θ) - 0.00164⋅sin(2⋅θ)"
      ]
     },
     "execution_count": 12,
     "metadata": {},
     "output_type": "execute_result"
    }
   ],
   "source": [
    "Tnum= N(T.subs({i_1:0.8, i_2:0.01}))\n",
    "Tnum"
   ]
  },
  {
   "cell_type": "code",
   "execution_count": 13,
   "metadata": {},
   "outputs": [
    {
     "data": {
      "image/png": "[encoded data removed]",
      "text/plain": [
       "<matplotlib.figure.Figure at 0x7fc9ed3b5e80>"
      ]
     },
     "metadata": {},
     "output_type": "display_data"
    },
    {
     "data": {
      "text/plain": [
       "<sympy.plotting.plot.Plot at 0x7fc9ed3b5ef0>"
      ]
     },
     "execution_count": 13,
     "metadata": {},
     "output_type": "execute_result"
    }
   ],
   "source": [
    "plot(Tnum,(theta,-3.2,3.2))"
   ]
  },
  {
   "cell_type": "markdown",
   "metadata": {},
   "source": [
    "#### Problema prático 3.7"
   ]
  },
  {
   "cell_type": "code",
   "execution_count": 14,
   "metadata": {
    "collapsed": true
   },
   "outputs": [],
   "source": [
    "# Indutâncias [H]\n",
    "L_11 = 0.8 + 0.27*cos(4*theta)\n",
    "L_22 = L_11\n",
    "L_12 = 0.65*cos(2*theta)"
   ]
  },
  {
   "cell_type": "code",
   "execution_count": 15,
   "metadata": {},
   "outputs": [
    {
     "data": {
      "image/png": "[encoded data removed]",
      "text/latex": [
       "$$- 0.54 i_{1}^{2} \\sin{\\left (4 \\theta \\right )} - 1.3 i_{1} i_{2} \\sin{\\left (2 \\theta \\right )} - 0.54 i_{2}^{2} \\sin{\\left (4 \\theta \\right )}$$"
      ],
      "text/plain": [
       "         2                                        2         \n",
       "- 0.54⋅i₁ ⋅sin(4⋅θ) - 1.3⋅i₁⋅i₂⋅sin(2⋅θ) - 0.54⋅i₂ ⋅sin(4⋅θ)"
      ]
     },
     "execution_count": 15,
     "metadata": {},
     "output_type": "execute_result"
    }
   ],
   "source": [
    "# Torque [Nm]\n",
    "T = ((i_1**2)/2)*diff(L_11, theta) + ((i_2**2)/2)*diff(L_22, theta) + i_1*i_2*diff(L_12, theta)\n",
    "T"
   ]
  },
  {
   "cell_type": "code",
   "execution_count": 16,
   "metadata": {},
   "outputs": [
    {
     "data": {
      "image/png": "[encoded data removed]",
      "text/latex": [
       "$$0.17797 \\sin{\\left (2 \\theta \\right )} - 0.147852 \\sin{\\left (4 \\theta \\right )}$$"
      ],
      "text/plain": [
       "0.17797⋅sin(2⋅θ) - 0.147852⋅sin(4⋅θ)"
      ]
     },
     "execution_count": 16,
     "metadata": {},
     "output_type": "execute_result"
    }
   ],
   "source": [
    "N(T.subs({i_1:0.37, i_2:-0.37}))"
   ]
  }
 ],
 "metadata": {
  "kernelspec": {
   "display_name": "Python 3",
   "language": "python",
   "name": "python3"
  },
  "language_info": {
   "codemirror_mode": {
    "name": "ipython",
    "version": 3
   },
   "file_extension": ".py",
   "mimetype": "text/x-python",
   "name": "python",
   "nbconvert_exporter": "python",
   "pygments_lexer": "ipython3",
   "version": "3.4.2"
  }
 },
 "nbformat": 4,
 "nbformat_minor": 2
}
