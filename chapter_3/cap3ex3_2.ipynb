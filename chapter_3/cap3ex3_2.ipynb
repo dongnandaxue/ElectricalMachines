{
 "cells": [
  {
   "cell_type": "markdown",
   "metadata": {},
   "source": [
    "#### Exemplo 3.2\n",
    "\n",
    "Hipóteses simplificadoras:\n",
    "\n",
    "* $\\mu_0 \\to \\infty$\n",
    "* Circuito magnético perfeito filiforme ($h \\gg g$)\n",
    "* A indutância é linear\n",
    "\n",
    "A relutância é modelada como:\n",
    "\n",
    "$$\\mathcal{R}(x) = \\frac{2g}{\\mu_0dl} ( 1 - \\frac{x}{d} )$$"
   ]
  },
  {
   "cell_type": "code",
   "execution_count": 17,
   "metadata": {},
   "outputs": [
    {
     "data": {
      "image/png": "[encoded data removed]",
      "text/latex": [
       "$$\\frac{2 g \\left(1 - \\frac{x}{d}\\right)}{d l \\mu_{0}}$$"
      ],
      "text/plain": [
       "    ⎛    x⎞\n",
       "2⋅g⋅⎜1 - ─⎟\n",
       "    ⎝    d⎠\n",
       "───────────\n",
       "   d⋅l⋅μ₀  "
      ]
     },
     "execution_count": 17,
     "metadata": {},
     "output_type": "execute_result"
    }
   ],
   "source": [
    "# Determinaçao da relutância magnética, em [1/H]\n",
    "from sympy import *\n",
    "init_printing(use_unicode=True)\n",
    "g, mu0, d, l, x, N, i = symbols('g mu0 d l x N i')\n",
    "R = (2*g/(mu0*d*l))*(1 - x/d)\n",
    "R"
   ]
  },
  {
   "cell_type": "code",
   "execution_count": 18,
   "metadata": {},
   "outputs": [
    {
     "data": {
      "image/png": "[encoded data removed]",
      "text/latex": [
       "$$\\frac{N^{2} d l \\mu_{0}}{2 g \\left(1 - \\frac{x}{d}\\right)}$$"
      ],
      "text/plain": [
       "  2        \n",
       " N ⋅d⋅l⋅μ₀ \n",
       "───────────\n",
       "    ⎛    x⎞\n",
       "2⋅g⋅⎜1 - ─⎟\n",
       "    ⎝    d⎠"
      ]
     },
     "execution_count": 18,
     "metadata": {},
     "output_type": "execute_result"
    }
   ],
   "source": [
    "# Determinaçao da indutância, em [H]\n",
    "L = (N**2)/R\n",
    "L"
   ]
  },
  {
   "cell_type": "code",
   "execution_count": 19,
   "metadata": {},
   "outputs": [
    {
     "data": {
      "image/png": "[encoded data removed]",
      "text/latex": [
       "$$\\frac{N^{2} d i l \\mu_{0}}{2 g \\left(1 - \\frac{x}{d}\\right)}$$"
      ],
      "text/plain": [
       " 2         \n",
       "N ⋅d⋅i⋅l⋅μ₀\n",
       "───────────\n",
       "    ⎛    x⎞\n",
       "2⋅g⋅⎜1 - ─⎟\n",
       "    ⎝    d⎠"
      ]
     },
     "execution_count": 19,
     "metadata": {},
     "output_type": "execute_result"
    }
   ],
   "source": [
    "# Determinaçao do enlace de fluxo, em [Wb]\n",
    "lambd = L*i\n",
    "lambd"
   ]
  },
  {
   "cell_type": "code",
   "execution_count": 20,
   "metadata": {},
   "outputs": [
    {
     "data": {
      "image/png": "[encoded data removed]",
      "text/latex": [
       "$$\\frac{N^{2} d i^{2} l \\mu_{0}}{4 g \\left(1 - \\frac{x}{d}\\right)}$$"
      ],
      "text/plain": [
       " 2    2     \n",
       "N ⋅d⋅i ⋅l⋅μ₀\n",
       "────────────\n",
       "    ⎛    x⎞ \n",
       "4⋅g⋅⎜1 - ─⎟ \n",
       "    ⎝    d⎠ "
      ]
     },
     "execution_count": 20,
     "metadata": {},
     "output_type": "execute_result"
    }
   ],
   "source": [
    "# Determinaçao da energia armazenada de campo, em [J]\n",
    "W = (lambd**2)/(2*L)\n",
    "W"
   ]
  },
  {
   "cell_type": "code",
   "execution_count": 25,
   "metadata": {},
   "outputs": [
    {
     "data": {
      "image/png": "[encoded data removed]",
      "text/latex": [
       "$$- \\frac{235.6194490125}{6.66666666666667 x - 1}$$"
      ],
      "text/plain": [
       "   -235.6194490125    \n",
       "──────────────────────\n",
       "6.66666666666667⋅x - 1"
      ]
     },
     "execution_count": 25,
     "metadata": {},
     "output_type": "execute_result"
    }
   ],
   "source": [
    "# Avaliação numérica\n",
    "simplify(W.subs([(N, 1000), (g, 0.002), (d, 0.15), (l, 0.1), (i, 10), (mu0, 1.2566370614*(10**(-6)))]))"
   ]
  },
  {
   "cell_type": "code",
   "execution_count": null,
   "metadata": {
    "collapsed": true
   },
   "outputs": [],
   "source": []
  }
 ],
 "metadata": {
  "kernelspec": {
   "display_name": "Python 3",
   "language": "python",
   "name": "python3"
  },
  "language_info": {
   "codemirror_mode": {
    "name": "ipython",
    "version": 3
   },
   "file_extension": ".py",
   "mimetype": "text/x-python",
   "name": "python",
   "nbconvert_exporter": "python",
   "pygments_lexer": "ipython3",
   "version": "3.6.3"
  }
 },
 "nbformat": 4,
 "nbformat_minor": 2
}
