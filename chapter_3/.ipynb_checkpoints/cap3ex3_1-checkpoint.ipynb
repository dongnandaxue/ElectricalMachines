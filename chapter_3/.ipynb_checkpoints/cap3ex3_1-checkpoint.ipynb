{
 "cells": [
  {
   "cell_type": "code",
   "execution_count": 1,
   "metadata": {},
   "outputs": [],
   "source": [
    "import numpy as np"
   ]
  },
  {
   "cell_type": "markdown",
   "metadata": {},
   "source": [
    " ### Exemplo 3.1\n",
    "\n",
    "\n",
    "Nesse exemplo, ignoramos a força eletrostática.\n",
    "A expressão para densidade de corrente é a seguinte:\n",
    "\n",
    "\\begin{equation}\n",
    "\\bar{I} = \\int \\bar{J} d\\bar{A}\n",
    "\\end{equation} \n",
    "\n",
    "Substituindo na Lei de Lenz, temos:\n",
    "\n",
    "\\begin{equation}\n",
    "\\bar{F} = \\lgroup \\bar{I} = \\int \\bar{J} d\\bar{A} \\rgroup \\times \\bar{B}\n",
    "\\end{equation} \n",
    "\n",
    "A força para uma um elemento $dl$ é a seguinte:\n",
    "\n",
    "\\begin{equation}\n",
    "\\bar{F} = \\bar{I} \\times \\bar{B}\n",
    "\\end{equation} \n",
    "\n",
    "O que é, em função do ângulo $\\alpha$, \n",
    "\n",
    "\\begin{equation}\n",
    "F = IBl\\sin(\\alpha)\n",
    "\\end{equation} "
   ]
  },
  {
   "cell_type": "markdown",
   "metadata": {},
   "source": [
    "Ao aplicar o produto vetorial usando a regra da mão direita, obtemos as forças com a seguinte magnitude:"
   ]
  },
  {
   "cell_type": "code",
   "execution_count": 3,
   "metadata": {},
   "outputs": [],
   "source": [
    "I = 10\n",
    "B_0 = 0.02\n",
    "R = 0.05\n",
    "l = 0.3"
   ]
  },
  {
   "cell_type": "code",
   "execution_count": null,
   "metadata": {},
   "outputs": [],
   "source": []
  }
 ],
 "metadata": {
  "kernelspec": {
   "display_name": "Python 3",
   "language": "python",
   "name": "python3"
  },
  "language_info": {
   "codemirror_mode": {
    "name": "ipython",
    "version": 3
   },
   "file_extension": ".py",
   "mimetype": "text/x-python",
   "name": "python",
   "nbconvert_exporter": "python",
   "pygments_lexer": "ipython3",
   "version": "3.4.2"
  }
 },
 "nbformat": 4,
 "nbformat_minor": 2
}
