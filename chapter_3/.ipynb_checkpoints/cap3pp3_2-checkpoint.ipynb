{
 "cells": [
  {
   "cell_type": "markdown",
   "metadata": {},
   "source": [
    "#### Exemplo 3.2\n",
    "\n",
    "Hipóteses simplificadoras:\n",
    "\n",
    "* $\\mu_0 \\to \\infty$\n",
    "* Circuito magnético perfeito filiforme ($h \\gg g$)\n",
    "* A indutância é linear\n",
    "\n",
    "A relutância é modelada como:\n",
    "\n",
    "$$\\mathcal{R}(x) = \\frac{2g}{\\mu_0dl} ( 1 - \\frac{x}{d} )$$"
   ]
  },
  {
   "cell_type": "code",
   "execution_count": 2,
   "metadata": {},
   "outputs": [
    {
     "data": {
      "image/png": "[encoded data removed]",
      "text/latex": [
       "$$\\frac{g \\left(1 - \\frac{x}{d}\\right)}{d l \\mu_{0}}$$"
      ],
      "text/plain": [
       "  ⎛    x⎞\n",
       "g⋅⎜1 - ─⎟\n",
       "  ⎝    d⎠\n",
       "─────────\n",
       "  d⋅l⋅μ₀ "
      ]
     },
     "execution_count": 2,
     "metadata": {},
     "output_type": "execute_result"
    }
   ],
   "source": [
    "# Determinaçao da relutância magnética, em [1/H]\n",
    "from sympy import *\n",
    "init_printing(use_unicode=True)\n",
    "g, mu0, d, l, x, N, i = symbols('g mu0 d l x N i')\n",
    "R = (g/(mu0*d*l))*(1 - x/d)\n",
    "R"
   ]
  },
  {
   "cell_type": "code",
   "execution_count": 3,
   "metadata": {},
   "outputs": [
    {
     "data": {
      "image/png": "[encoded data removed]",
      "text/latex": [
       "$$\\frac{N^{2} d l \\mu_{0}}{g \\left(1 - \\frac{x}{d}\\right)}$$"
      ],
      "text/plain": [
       " 2       \n",
       "N ⋅d⋅l⋅μ₀\n",
       "─────────\n",
       "  ⎛    x⎞\n",
       "g⋅⎜1 - ─⎟\n",
       "  ⎝    d⎠"
      ]
     },
     "execution_count": 3,
     "metadata": {},
     "output_type": "execute_result"
    }
   ],
   "source": [
    "# Determinaçao da indutância, em [H]\n",
    "L = (N**2)/R\n",
    "L"
   ]
  },
  {
   "cell_type": "code",
   "execution_count": 4,
   "metadata": {},
   "outputs": [
    {
     "data": {
      "image/png": "[encoded data removed]",
      "text/latex": [
       "$$\\frac{N^{2} d i l \\mu_{0}}{g \\left(1 - \\frac{x}{d}\\right)}$$"
      ],
      "text/plain": [
       " 2         \n",
       "N ⋅d⋅i⋅l⋅μ₀\n",
       "───────────\n",
       "   ⎛    x⎞ \n",
       " g⋅⎜1 - ─⎟ \n",
       "   ⎝    d⎠ "
      ]
     },
     "execution_count": 4,
     "metadata": {},
     "output_type": "execute_result"
    }
   ],
   "source": [
    "# Determinaçao do enlace de fluxo, em [Wb]\n",
    "lambd = L*i\n",
    "lambd"
   ]
  },
  {
   "cell_type": "code",
   "execution_count": 5,
   "metadata": {},
   "outputs": [
    {
     "data": {
      "image/png": "[encoded data removed]",
      "text/latex": [
       "$$\\frac{N^{2} d i^{2} l \\mu_{0}}{2 g \\left(1 - \\frac{x}{d}\\right)}$$"
      ],
      "text/plain": [
       " 2    2     \n",
       "N ⋅d⋅i ⋅l⋅μ₀\n",
       "────────────\n",
       "    ⎛    x⎞ \n",
       "2⋅g⋅⎜1 - ─⎟ \n",
       "    ⎝    d⎠ "
      ]
     },
     "execution_count": 5,
     "metadata": {},
     "output_type": "execute_result"
    }
   ],
   "source": [
    "# Determinaçao da energia armazenada de campo, em [J]\n",
    "W = (lambd**2)/(2*L)\n",
    "W"
   ]
  },
  {
   "cell_type": "code",
   "execution_count": 7,
   "metadata": {},
   "outputs": [
    {
     "data": {
      "image/png": "[encoded data removed]",
      "text/latex": [
       "$$- \\frac{88.3572933796875}{6.66666666666667 x - 1}$$"
      ],
      "text/plain": [
       "  -88.3572933796875   \n",
       "──────────────────────\n",
       "6.66666666666667⋅x - 1"
      ]
     },
     "execution_count": 7,
     "metadata": {},
     "output_type": "execute_result"
    }
   ],
   "source": [
    "# Avaliação numérica\n",
    "simplify(W.subs([(N, 1500), (g, 0.006), (d, 0.15), (l, 0.1), (i, 5), (mu0, 1.2566370614*(10**(-6)))]))"
   ]
  }
 ],
 "metadata": {
  "kernelspec": {
   "display_name": "Python 3",
   "language": "python",
   "name": "python3"
  },
  "language_info": {
   "codemirror_mode": {
    "name": "ipython",
    "version": 3
   },
   "file_extension": ".py",
   "mimetype": "text/x-python",
   "name": "python",
   "nbconvert_exporter": "python",
   "pygments_lexer": "ipython3",
   "version": "3.4.2"
  }
 },
 "nbformat": 4,
 "nbformat_minor": 2
}
