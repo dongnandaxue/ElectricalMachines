{
 "cells": [
  {
   "cell_type": "markdown",
   "metadata": {},
   "source": [
    " ### Problema 3.1\n",
    "\n",
    "Observe o [Exemplo 3.1](../chapter_3/cap3ex3_1.ipynb)\n",
    "\n",
    "Então temos para a força em uma espira:\n",
    "\n",
    "\\begin{equation}\n",
    "-F = IBl\n",
    "\\end{equation} \n",
    "\n",
    "O Torque para a primeira bobina é:\n",
    "\n",
    "\\begin{equation}\n",
    "T_1 = -2I_1BRl\\sin(\\alpha)\n",
    "\\end{equation} \n",
    "\n",
    "Para a bobina 2, temos:\n",
    "\n",
    "\\begin{equation}\n",
    "T_2 = -2I_2BRl\\cos(\\alpha)\n",
    "\\end{equation}\n",
    "\n",
    "Logo, o torque total é \n",
    "\n",
    "\\begin{equation}\n",
    "T_1 = -2BRl(I_1\\sin(\\alpha) + I_2\\cos(\\alpha))\n",
    "\\end{equation} "
   ]
  },
  {
   "cell_type": "code",
   "execution_count": 2,
   "metadata": {},
   "outputs": [
    {
     "data": {
      "image/png": "[encoded data removed]",
      "text/latex": [
       "$$- 2 B R l \\left(I_{1} \\sin{\\left (\\alpha \\right )} + I_{2} \\cos{\\left (\\alpha \\right )}\\right)$$"
      ],
      "text/plain": [
       "-2⋅B⋅R⋅l⋅(I₁⋅sin(α) + I₂⋅cos(α))"
      ]
     },
     "execution_count": 2,
     "metadata": {},
     "output_type": "execute_result"
    }
   ],
   "source": [
    "# Determinaçao do conjugado, em [Nm]\n",
    "from sympy import *\n",
    "init_printing(use_unicode=True)\n",
    "alpha, I_1, I_2, B, R, l = symbols('alpha I_1 I_2 B R l')\n",
    "T = -2*B*R*l*(I_1*sin(alpha)+I_2*cos(alpha))\n",
    "T"
   ]
  },
  {
   "cell_type": "markdown",
   "metadata": {},
   "source": [
    "Para $I_1 = 0$ e $I_2 = 5$"
   ]
  },
  {
   "cell_type": "code",
   "execution_count": 4,
   "metadata": {},
   "outputs": [
    {
     "data": {
      "image/png": "[encoded data removed]",
      "text/latex": [
       "$$- 0.36192 \\cos{\\left (\\alpha \\right )}$$"
      ],
      "text/plain": [
       "-0.36192⋅cos(α)"
      ]
     },
     "execution_count": 4,
     "metadata": {},
     "output_type": "execute_result"
    }
   ],
   "source": [
    "# Avaliação numérica:\n",
    "N(T.subs({I_1:0, I_2:5, l:0.32, R:0.13, B:0.87}))"
   ]
  },
  {
   "cell_type": "markdown",
   "metadata": {},
   "source": [
    "Para $I_1 = 5$ e $I_2 = 0$"
   ]
  },
  {
   "cell_type": "code",
   "execution_count": 5,
   "metadata": {},
   "outputs": [
    {
     "data": {
      "image/png": "[encoded data removed]",
      "text/latex": [
       "$$- 0.36192 \\sin{\\left (\\alpha \\right )}$$"
      ],
      "text/plain": [
       "-0.36192⋅sin(α)"
      ]
     },
     "execution_count": 5,
     "metadata": {},
     "output_type": "execute_result"
    }
   ],
   "source": [
    "N(T.subs({I_1:5, I_2:0, l:0.32, R:0.13, B:0.87}))"
   ]
  },
  {
   "cell_type": "markdown",
   "metadata": {},
   "source": [
    "Para $I_1 = 8$ e $I_2 = 8$"
   ]
  },
  {
   "cell_type": "code",
   "execution_count": 6,
   "metadata": {},
   "outputs": [
    {
     "data": {
      "image/png": "[encoded data removed]",
      "text/latex": [
       "$$- 0.579072 \\sin{\\left (\\alpha \\right )} - 0.579072 \\cos{\\left (\\alpha \\right )}$$"
      ],
      "text/plain": [
       "-0.579072⋅sin(α) - 0.579072⋅cos(α)"
      ]
     },
     "execution_count": 6,
     "metadata": {},
     "output_type": "execute_result"
    }
   ],
   "source": [
    "N(T.subs({I_1:8, I_2:8, l:0.32, R:0.13, B:0.87}))"
   ]
  }
 ],
 "metadata": {
  "kernelspec": {
   "display_name": "Python 3",
   "language": "python",
   "name": "python3"
  },
  "language_info": {
   "codemirror_mode": {
    "name": "ipython",
    "version": 3
   },
   "file_extension": ".py",
   "mimetype": "text/x-python",
   "name": "python",
   "nbconvert_exporter": "python",
   "pygments_lexer": "ipython3",
   "version": "3.4.2"
  }
 },
 "nbformat": 4,
 "nbformat_minor": 2
}
