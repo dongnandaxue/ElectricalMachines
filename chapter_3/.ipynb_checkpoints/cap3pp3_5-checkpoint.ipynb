{
 "cells": [
  {
   "cell_type": "markdown",
   "metadata": {},
   "source": [
    "#### problema prático 3.5"
   ]
  },
  {
   "cell_type": "code",
   "execution_count": 2,
   "metadata": {},
   "outputs": [],
   "source": [
    "from sympy import *\n",
    "init_printing(use_unicode=True)\n",
    "L_0, x, d, I_0 = symbols('L_0 x d I_0')"
   ]
  },
  {
   "cell_type": "code",
   "execution_count": 7,
   "metadata": {},
   "outputs": [
    {
     "data": {
      "image/png": "[encoded data removed]",
      "text/latex": [
       "$$L_{0} \\left(1 - \\frac{x^{2}}{d^{2}}\\right)$$"
      ],
      "text/plain": [
       "   ⎛     2⎞\n",
       "   ⎜    x ⎟\n",
       "L₀⋅⎜1 - ──⎟\n",
       "   ⎜     2⎟\n",
       "   ⎝    d ⎠"
      ]
     },
     "execution_count": 7,
     "metadata": {},
     "output_type": "execute_result"
    }
   ],
   "source": [
    "# Indutância [L]\n",
    "L = L_0*(1 - (x/d)**2)\n",
    "L"
   ]
  },
  {
   "cell_type": "code",
   "execution_count": 16,
   "metadata": {},
   "outputs": [
    {
     "data": {
      "image/png": "[encoded data removed]",
      "text/latex": [
       "$$\\frac{I_{0} x^{2}}{d^{2}}$$"
      ],
      "text/plain": [
       "    2\n",
       "I₀⋅x \n",
       "─────\n",
       "   2 \n",
       "  d  "
      ]
     },
     "execution_count": 16,
     "metadata": {},
     "output_type": "execute_result"
    }
   ],
   "source": [
    "#Corrente [A]\n",
    "i = I_0*((x/d)**2)\n",
    "i"
   ]
  },
  {
   "cell_type": "code",
   "execution_count": 17,
   "metadata": {},
   "outputs": [
    {
     "data": {
      "image/png": "[encoded data removed]",
      "text/latex": [
       "$$- \\frac{I_{0}^{2} L_{0}}{d^{6}} x^{5}$$"
      ],
      "text/plain": [
       "   2     5 \n",
       "-I₀ ⋅L₀⋅x  \n",
       "───────────\n",
       "      6    \n",
       "     d     "
      ]
     },
     "execution_count": 17,
     "metadata": {},
     "output_type": "execute_result"
    }
   ],
   "source": [
    "#Força [N]\n",
    "f_cmp = ((i**2)/2)*diff(L,x)\n",
    "f_cmp"
   ]
  }
 ],
 "metadata": {
  "kernelspec": {
   "display_name": "Python 3",
   "language": "python",
   "name": "python3"
  },
  "language_info": {
   "codemirror_mode": {
    "name": "ipython",
    "version": 3
   },
   "file_extension": ".py",
   "mimetype": "text/x-python",
   "name": "python",
   "nbconvert_exporter": "python",
   "pygments_lexer": "ipython3",
   "version": "3.4.2"
  }
 },
 "nbformat": 4,
 "nbformat_minor": 2
}
