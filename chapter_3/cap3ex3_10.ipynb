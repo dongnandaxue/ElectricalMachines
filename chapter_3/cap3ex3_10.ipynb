{
 "cells": [
  {
   "cell_type": "markdown",
   "metadata": {},
   "source": [
    "#### Exemplo 3.10"
   ]
  },
  {
   "cell_type": "code",
   "execution_count": 1,
   "metadata": {
    "collapsed": true
   },
   "outputs": [],
   "source": [
    "%matplotlib inline\n",
    "%config InlineBackend.figure_format = 'svg'\n",
    "import matplotlib\n",
    "from sympy import *\n",
    "init_printing(use_unicode=True)\n",
    "from sympy.plotting import plot"
   ]
  },
  {
   "cell_type": "markdown",
   "metadata": {},
   "source": [
    "Variáveis:\n",
    "\n",
    "g: entreferro magnético (bucha de latão) [m]  \n",
    "mu_0: permeabilidade magnética do vácuo [H/m]  \n",
    "d: raio do êmbolo [m]  \n",
    "x: deslocamento do êmbolo [m]  \n",
    "a: dimensão superior da camisa [m]  \n",
    "N_e: número de espiras  \n",
    "i: corrente [A]  \n",
    "M: massa [kg]  \n",
    "B: coeficiente de amortecimento [Ns/m]  \n",
    "K: constante elástica da mola [N/m]\n",
    "t: tempo [s]\n",
    "l_0: comprimento inicial da mola [m]\n",
    "R: Resistência"
   ]
  },
  {
   "cell_type": "code",
   "execution_count": 16,
   "metadata": {
    "collapsed": true
   },
   "outputs": [],
   "source": [
    "g, mu_0, d, x, a, N_e, i, M, B, K, t, l_0, V_0, R,  = symbols('g mu_0 d x a N_e i M B K t l_0 V_0 R')"
   ]
  },
  {
   "cell_type": "markdown",
   "metadata": {},
   "source": [
    "Determinação da relutância:"
   ]
  },
  {
   "cell_type": "code",
   "execution_count": 7,
   "metadata": {},
   "outputs": [
    {
     "data": {
      "image/png": "[encoded data removed]",
      "text/latex": [
       "$$\\frac{g}{\\pi d \\mu_{0} x} + \\frac{g}{\\pi a d \\mu_{0}}$$"
      ],
      "text/plain": [
       "   g          g    \n",
       "──────── + ────────\n",
       "π⋅d⋅μ₀⋅x   π⋅a⋅d⋅μ₀"
      ]
     },
     "execution_count": 7,
     "metadata": {},
     "output_type": "execute_result"
    }
   ],
   "source": [
    "R = g/(mu_0*pi*d*x) + g/(mu_0*pi*d*a)\n",
    "R"
   ]
  },
  {
   "cell_type": "markdown",
   "metadata": {},
   "source": [
    "Indutância:"
   ]
  },
  {
   "cell_type": "code",
   "execution_count": 9,
   "metadata": {},
   "outputs": [
    {
     "data": {
      "image/png": "[encoded data removed]",
      "text/latex": [
       "$$\\frac{N_{e}^{2}}{\\frac{g}{\\pi d \\mu_{0} x} + \\frac{g}{\\pi a d \\mu_{0}}}$$"
      ],
      "text/plain": [
       "          2        \n",
       "        Nₑ         \n",
       "───────────────────\n",
       "   g          g    \n",
       "──────── + ────────\n",
       "π⋅d⋅μ₀⋅x   π⋅a⋅d⋅μ₀"
      ]
     },
     "execution_count": 9,
     "metadata": {},
     "output_type": "execute_result"
    }
   ],
   "source": [
    "L = (N_e**2)/R\n",
    "L"
   ]
  },
  {
   "cell_type": "markdown",
   "metadata": {},
   "source": [
    "Força:"
   ]
  },
  {
   "cell_type": "code",
   "execution_count": 10,
   "metadata": {},
   "outputs": [
    {
     "data": {
      "image/png": "[encoded data removed]",
      "text/latex": [
       "$$\\frac{N_{e}^{2} g i^{2}}{2 \\pi d \\mu_{0} x^{2} \\left(\\frac{g}{\\pi d \\mu_{0} x} + \\frac{g}{\\pi a d \\mu_{0}}\\right)^{2}}$$"
      ],
      "text/plain": [
       "               2    2             \n",
       "             Nₑ ⋅g⋅i              \n",
       "──────────────────────────────────\n",
       "                                 2\n",
       "          2 ⎛   g          g    ⎞ \n",
       "2⋅π⋅d⋅μ₀⋅x ⋅⎜──────── + ────────⎟ \n",
       "            ⎝π⋅d⋅μ₀⋅x   π⋅a⋅d⋅μ₀⎠ "
      ]
     },
     "execution_count": 10,
     "metadata": {},
     "output_type": "execute_result"
    }
   ],
   "source": [
    "f_c = ((i**2)/2)*diff(L,x)\n",
    "f_c"
   ]
  },
  {
   "cell_type": "markdown",
   "metadata": {},
   "source": [
    "Logo, a equação da força [e dada por:\n",
    "\n",
    "$$ft = -M\\frac{d^2x}{dt^2} - B\\frac{dx}{dt} - K(x - l_0) + f_c$$"
   ]
  },
  {
   "cell_type": "markdown",
   "metadata": {},
   "source": [
    "Para a tensão, temos:\n",
    "$$V_0 - Ri - e = 0$$\n",
    "$$V_0 - Ri - \\frac{d\\lambda}{dt} = 0$$\n",
    "$$V_0 - Ri - L(x)\\frac{di}{dt}  - i\\frac{dL(x)}{dx}\\frac{dx}{dt} = 0$$\n",
    "\n",
    "\n",
    "$$V_0 = Ri + L(x)\\frac{di}{dt}  + i\\frac{dL(x)}{dx}\\frac{dx}{dt} 0$$"
   ]
  }
 ],
 "metadata": {
  "kernelspec": {
   "display_name": "Python 3",
   "language": "python",
   "name": "python3"
  },
  "language_info": {
   "codemirror_mode": {
    "name": "ipython",
    "version": 3
   },
   "file_extension": ".py",
   "mimetype": "text/x-python",
   "name": "python",
   "nbconvert_exporter": "python",
   "pygments_lexer": "ipython3",
   "version": "3.6.3"
  }
 },
 "nbformat": 4,
 "nbformat_minor": 2
}
