{
 "cells": [
  {
   "cell_type": "markdown",
   "metadata": {},
   "source": [
    "#### Problema prático 3.8"
   ]
  },
  {
   "cell_type": "markdown",
   "metadata": {},
   "source": [
    "Para este exemplo, será utilizado o método de Antônio Luiz Aguiar, por isso, será utilizada a energia, ao invés da co-energia"
   ]
  },
  {
   "cell_type": "code",
   "execution_count": 2,
   "metadata": {},
   "outputs": [],
   "source": [
    "%matplotlib inline\n",
    "%config InlineBackend.figure_format = 'svg'\n",
    "import matplotlib\n",
    "from sympy import *\n",
    "init_printing(use_unicode=True)\n",
    "from sympy.plotting import plot\n",
    "import SchemDraw as schem\n",
    "import SchemDraw.elements as e\n",
    "#  :-)\n",
    "#import matplotlib.pyplot as plt\n",
    "#plt.xkcd()"
   ]
  },
  {
   "cell_type": "markdown",
   "metadata": {},
   "source": [
    " Variáveis:\n",
    " \n",
    " D: Espessura do dispositivo [m]  \n",
    " d: Comprimento do imã permanente [m]  \n",
    " W_g: Largura do entreferro [m]  \n",
    " W_m: Largura do ímã permanente [m]  \n",
    " g_0: Comprimento do entreferro [m]  \n",
    " x: variação em comprimento do dispositivo [m]  \n",
    " Hc: Coercitividade aparente do imã permanente [A/m]  \n",
    " Br: Magnetização residual do imã permanente [T]  "
   ]
  },
  {
   "cell_type": "code",
   "execution_count": 3,
   "metadata": {},
   "outputs": [],
   "source": [
    "D, d, W_g, W_m, g_0, x, Hc, Br, mu_0, = symbols('D, d W_g W_m g_0 x Hc Br mu_0')"
   ]
  },
  {
   "cell_type": "markdown",
   "metadata": {},
   "source": [
    "Modelo de circuito magnético:"
   ]
  },
  {
   "cell_type": "code",
   "execution_count": 4,
   "metadata": {
    "scrolled": true
   },
   "outputs": [
    {
     "data": {
      "image/svg+xml": [
       "<?xml version=\"1.0\" encoding=\"utf-8\" standalone=\"no\"?>\n",
       "<!DOCTYPE svg PUBLIC \"-//W3C//DTD SVG 1.1//EN\"\n",
       "  \"http://www.w3.org/Graphics/SVG/1.1/DTD/svg11.dtd\">\n",
       "<!-- Created with matplotlib (http://matplotlib.org/) -->\n",
       "<svg height=\"189pt\" version=\"1.1\" viewBox=\"0 0 163 189\" width=\"163pt\" xmlns=\"http://www.w3.org/2000/svg\" xmlns:xlink=\"http://www.w3.org/1999/xlink\">\n",
       " <defs>\n",
       "  <style type=\"text/css\">\n",
       "*{stroke-linecap:butt;stroke-linejoin:round;}\n",
       "  </style>\n",
       " </defs>\n",
       " <g id=\"figure_1\">\n",
       "  <g id=\"patch_1\">\n",
       "   <path d=\"\n",
       "M0 189.473\n",
       "L163.66 189.473\n",
       "L163.66 0\n",
       "L0 0\n",
       "z\n",
       "\" style=\"fill:none;\"/>\n",
       "  </g>\n",
       "  <g id=\"axes_1\">\n",
       "   <g id=\"line2d_1\">\n",
       "    <path clip-path=\"url(#paffe792cc0)\" d=\"\n",
       "M47.92 179.483\n",
       "L47.92 151.583\n",
       "L47.92 151.583\n",
       "M47.92 123.683\n",
       "L47.92 123.683\n",
       "L47.92 95.7825\" style=\"fill:none;stroke:#000000;stroke-linecap:round;stroke-width:1.5;\"/>\n",
       "   </g>\n",
       "   <g id=\"line2d_2\">\n",
       "    <path clip-path=\"url(#paffe792cc0)\" d=\"\n",
       "M51.16 144.608\n",
       "L44.68 144.608\" style=\"fill:none;stroke:#000000;stroke-linecap:round;stroke-width:1.5;\"/>\n",
       "   </g>\n",
       "   <g id=\"line2d_3\">\n",
       "    <path clip-path=\"url(#paffe792cc0)\" d=\"\n",
       "M47.92 133.448\n",
       "L47.92 127.868\" style=\"fill:none;stroke:#000000;stroke-linecap:round;stroke-width:1.5;\"/>\n",
       "   </g>\n",
       "   <g id=\"line2d_4\">\n",
       "    <path clip-path=\"url(#paffe792cc0)\" d=\"\n",
       "M51.16 130.658\n",
       "L44.68 130.658\" style=\"fill:none;stroke:#000000;stroke-linecap:round;stroke-width:1.5;\"/>\n",
       "   </g>\n",
       "   <g id=\"line2d_5\">\n",
       "    <path clip-path=\"url(#paffe792cc0)\" d=\"\n",
       "M47.92 95.7825\n",
       "L47.92 67.8825\n",
       "L39.82 65.5575\n",
       "L56.02 60.9075\n",
       "L39.82 56.2575\n",
       "L56.02 51.6075\n",
       "L39.82 46.9575\n",
       "L56.02 42.3075\n",
       "L47.92 39.9825\n",
       "L47.92 12.0825\" style=\"fill:none;stroke:#000000;stroke-linecap:round;stroke-width:1.5;\"/>\n",
       "   </g>\n",
       "   <g id=\"line2d_6\">\n",
       "    <path clip-path=\"url(#paffe792cc0)\" d=\"\n",
       "M47.92 12.0825\n",
       "L96.52 12.0825\n",
       "L145.12 12.0825\" style=\"fill:none;stroke:#000000;stroke-linecap:round;stroke-width:1.5;\"/>\n",
       "   </g>\n",
       "   <g id=\"line2d_7\">\n",
       "    <path clip-path=\"url(#paffe792cc0)\" d=\"\n",
       "M145.12 12.0825\" style=\"fill:none;stroke:#000000;stroke-linecap:round;stroke-width:1.5;\"/>\n",
       "   </g>\n",
       "   <g id=\"line2d_8\">\n",
       "    <path clip-path=\"url(#paffe792cc0)\" d=\"\n",
       "M145.12 12.0825\n",
       "L145.12 39.9825\n",
       "L153.22 42.3075\n",
       "L137.02 46.9575\n",
       "L153.22 51.6075\n",
       "L137.02 56.2575\n",
       "L153.22 60.9075\n",
       "L137.02 65.5575\n",
       "L145.12 67.8825\n",
       "L145.12 95.7825\" style=\"fill:none;stroke:#000000;stroke-linecap:round;stroke-width:1.5;\"/>\n",
       "   </g>\n",
       "   <g id=\"line2d_9\">\n",
       "    <path clip-path=\"url(#paffe792cc0)\" d=\"\n",
       "M145.12 95.7825\n",
       "L145.12 137.633\n",
       "L145.12 179.483\" style=\"fill:none;stroke:#000000;stroke-linecap:round;stroke-width:1.5;\"/>\n",
       "   </g>\n",
       "   <g id=\"line2d_10\">\n",
       "    <path clip-path=\"url(#paffe792cc0)\" d=\"\n",
       "M145.12 179.483\n",
       "L96.52 179.483\n",
       "L47.92 179.483\" style=\"fill:none;stroke:#000000;stroke-linecap:round;stroke-width:1.5;\"/>\n",
       "   </g>\n",
       "   <g id=\"patch_2\">\n",
       "    <path clip-path=\"url(#paffe792cc0)\" d=\"\n",
       "M47.92 151.583\n",
       "C52.2163 151.583 56.3372 150.113 59.3751 147.497\n",
       "C62.4131 144.881 64.12 141.332 64.12 137.633\n",
       "C64.12 133.933 62.4131 130.384 59.3751 127.768\n",
       "C56.3372 125.152 52.2163 123.683 47.92 123.683\n",
       "C43.6237 123.683 39.5028 125.152 36.4649 127.768\n",
       "C33.4269 130.384 31.72 133.933 31.72 137.633\n",
       "C31.72 141.332 33.4269 144.881 36.4649 147.497\n",
       "C39.5028 150.113 43.6237 151.583 47.92 151.583\n",
       "z\n",
       "\" style=\"fill:none;stroke:#000000;stroke-linejoin:miter;stroke-width:1.5;\"/>\n",
       "   </g>\n",
       "   <g id=\"patch_3\">\n",
       "    <path clip-path=\"url(#paffe792cc0)\" d=\"\n",
       "M145.12 14.175\n",
       "C145.764 14.175 146.383 13.9545 146.838 13.5621\n",
       "C147.294 13.1697 147.55 12.6374 147.55 12.0825\n",
       "C147.55 11.5276 147.294 10.9953 146.838 10.6029\n",
       "C146.383 10.2105 145.764 9.99 145.12 9.99\n",
       "C144.476 9.99 143.857 10.2105 143.402 10.6029\n",
       "C142.946 10.9953 142.69 11.5276 142.69 12.0825\n",
       "C142.69 12.6374 142.946 13.1697 143.402 13.5621\n",
       "C143.857 13.9545 144.476 14.175 145.12 14.175\n",
       "z\n",
       "\" style=\"stroke:#000000;stroke-linejoin:miter;stroke-width:1.5;\"/>\n",
       "   </g>\n",
       "   <g id=\"text_1\">\n",
       "    <!-- $\\mathcal{F}_{cr}$ -->\n",
       "    <defs>\n",
       "     <path d=\"\n",
       "M48.7812 52.5938\n",
       "L48.7812 44.1875\n",
       "Q44.9688 46.2969 41.1406 47.3438\n",
       "Q37.3125 48.3906 33.4062 48.3906\n",
       "Q24.6562 48.3906 19.8125 42.8438\n",
       "Q14.9844 37.3125 14.9844 27.2969\n",
       "Q14.9844 17.2812 19.8125 11.7344\n",
       "Q24.6562 6.20312 33.4062 6.20312\n",
       "Q37.3125 6.20312 41.1406 7.25\n",
       "Q44.9688 8.29688 48.7812 10.4062\n",
       "L48.7812 2.09375\n",
       "Q45.0156 0.34375 40.9844 -0.53125\n",
       "Q36.9688 -1.42188 32.4219 -1.42188\n",
       "Q20.0625 -1.42188 12.7812 6.34375\n",
       "Q5.51562 14.1094 5.51562 27.2969\n",
       "Q5.51562 40.6719 12.8594 48.3281\n",
       "Q20.2188 56 33.0156 56\n",
       "Q37.1562 56 41.1094 55.1406\n",
       "Q45.0625 54.2969 48.7812 52.5938\" id=\"BitstreamVeraSans-Roman-63\"/>\n",
       "     <path d=\"\n",
       "M5.90625 53.4062\n",
       "L4.29688 55.2031\n",
       "Q11.4062 61.7969 18.3438 64\n",
       "Q25.2969 66.2031 33.7969 66.2031\n",
       "Q42.4062 66.2031 48.5938 65.75\n",
       "Q54.7969 65.2969 60.1406 64.0469\n",
       "Q65.5 62.7969 68.25 60.4375\n",
       "Q71 58.0938 71 54.5\n",
       "Q71 51.0938 69.2031 48.7969\n",
       "Q67.4062 46.5 64.2031 46.5\n",
       "Q61.9062 46.5 60.2031 47.8438\n",
       "Q58.5 49.2031 58.5 51.2031\n",
       "Q58.5 53.0938 59.25 54.1406\n",
       "Q60 55.2031 60.8906 55.4531\n",
       "Q61.7969 55.7031 62.5 56.1406\n",
       "Q63.2031 56.5938 63.2031 57.5\n",
       "Q63.2031 59.5 57.75 60.8438\n",
       "Q52.2969 62.2031 45.2031 62.2031\n",
       "Q42.0938 62.2031 40.75 61.25\n",
       "Q39.4062 60.2969 38.5 57.2969\n",
       "L32.7969 37.7031\n",
       "L54.5938 37.7031\n",
       "L53.2969 33.7031\n",
       "L31.7031 33.7031\n",
       "L27.2969 18.7969\n",
       "Q25.4062 12.2969 23.2969 8.39062\n",
       "Q21.2031 4.5 18.3438 2.70312\n",
       "Q15.5 0.90625 12.9531 0.453125\n",
       "Q10.4062 0 6 0\n",
       "L6.79688 2.40625\n",
       "Q9.5 2.40625 11.3438 4.5\n",
       "Q13.2031 6.59375 14.5938 11.5938\n",
       "L26.4062 52.0938\n",
       "Q27.4062 55.5938 27.4062 57.2969\n",
       "Q27.4062 59 26.4062 59.7969\n",
       "Q25.4062 60.5938 22.7969 60.5938\n",
       "Q13.4062 60.5938 5.90625 53.4062\" id=\"STIXNonUnicode-Italic-e232\"/>\n",
       "     <path d=\"\n",
       "M41.1094 46.2969\n",
       "Q39.5938 47.1719 37.8125 47.5781\n",
       "Q36.0312 48 33.8906 48\n",
       "Q26.2656 48 22.1875 43.0469\n",
       "Q18.1094 38.0938 18.1094 28.8125\n",
       "L18.1094 0\n",
       "L9.07812 0\n",
       "L9.07812 54.6875\n",
       "L18.1094 54.6875\n",
       "L18.1094 46.1875\n",
       "Q20.9531 51.1719 25.4844 53.5781\n",
       "Q30.0312 56 36.5312 56\n",
       "Q37.4531 56 38.5781 55.875\n",
       "Q39.7031 55.7656 41.0625 55.5156\n",
       "z\n",
       "\" id=\"BitstreamVeraSans-Roman-72\"/>\n",
       "    </defs>\n",
       "    <g transform=\"translate(7.2 140.3525)scale(0.16 -0.16)\">\n",
       "     <use transform=\"translate(0.0 0.796875)\" xlink:href=\"#STIXNonUnicode-Italic-e232\"/>\n",
       "     <use transform=\"translate(65.19999694824219 -30.703125)scale(0.7)\" xlink:href=\"#BitstreamVeraSans-Roman-63\"/>\n",
       "     <use transform=\"translate(103.68632507324219 -30.703125)scale(0.7)\" xlink:href=\"#BitstreamVeraSans-Roman-72\"/>\n",
       "    </g>\n",
       "   </g>\n",
       "   <g id=\"text_2\">\n",
       "    <!-- $\\mathcal{R}_m$ -->\n",
       "    <defs>\n",
       "     <path d=\"\n",
       "M52 44.1875\n",
       "Q55.375 50.25 60.0625 53.125\n",
       "Q64.75 56 71.0938 56\n",
       "Q79.6406 56 84.2812 50.0156\n",
       "Q88.9219 44.0469 88.9219 33.0156\n",
       "L88.9219 0\n",
       "L79.8906 0\n",
       "L79.8906 32.7188\n",
       "Q79.8906 40.5781 77.0938 44.375\n",
       "Q74.3125 48.1875 68.6094 48.1875\n",
       "Q61.625 48.1875 57.5625 43.5469\n",
       "Q53.5156 38.9219 53.5156 30.9062\n",
       "L53.5156 0\n",
       "L44.4844 0\n",
       "L44.4844 32.7188\n",
       "Q44.4844 40.625 41.7031 44.4062\n",
       "Q38.9219 48.1875 33.1094 48.1875\n",
       "Q26.2188 48.1875 22.1562 43.5312\n",
       "Q18.1094 38.875 18.1094 30.9062\n",
       "L18.1094 0\n",
       "L9.07812 0\n",
       "L9.07812 54.6875\n",
       "L18.1094 54.6875\n",
       "L18.1094 46.1875\n",
       "Q21.1875 51.2188 25.4844 53.6094\n",
       "Q29.7812 56 35.6875 56\n",
       "Q41.6562 56 45.8281 52.9688\n",
       "Q50 49.9531 52 44.1875\" id=\"BitstreamVeraSans-Roman-6d\"/>\n",
       "     <path d=\"\n",
       "M80 12.9062\n",
       "L81.5938 11.0938\n",
       "Q70.7969 -0.296875 62.4062 -0.296875\n",
       "Q57.4062 -0.296875 54.1562 2.29688\n",
       "Q50.9062 4.90625 49.5469 8.25\n",
       "Q48.2031 11.5938 46 16.3438\n",
       "Q43.7969 21.0938 41.2969 24\n",
       "Q40.4062 25.0938 37 27.0938\n",
       "Q33.5938 29.0938 33.0938 29.0938\n",
       "L34 31.4062\n",
       "Q46.2969 32.5938 53.6875 38.5\n",
       "Q61.0938 44.4062 61.0938 50.2969\n",
       "Q61.0938 57.0938 57.1406 59.5469\n",
       "Q53.2031 62 43.2031 62\n",
       "Q40.7031 62 39.75 61.2031\n",
       "Q38.7969 60.4062 38.2969 58.5938\n",
       "L26.7031 19\n",
       "Q25.7031 15.5938 24.8906 13.3906\n",
       "Q24.0938 11.2031 22.3906 8.39062\n",
       "Q20.7031 5.59375 18.6406 3.9375\n",
       "Q16.5938 2.29688 13.25 1.14062\n",
       "Q9.90625 0 5.59375 0\n",
       "L6.5 2.40625\n",
       "Q9.5 2.40625 11.0469 4.90625\n",
       "Q12.5938 7.40625 14.5938 14.0938\n",
       "L23.7031 45.5938\n",
       "Q26.7031 55.7031 26.7031 57.2031\n",
       "Q26.7031 60.7969 22.0938 60.7969\n",
       "Q19.5938 60.7969 17.3906 60.2969\n",
       "Q15.2031 59.7969 13.2031 58.75\n",
       "Q11.2031 57.7031 10.0938 57\n",
       "Q9 56.2969 7.29688 55\n",
       "Q5.59375 53.7031 5.40625 53.5\n",
       "L3.79688 55.4062\n",
       "Q7.59375 59.2969 11.2969 61.5938\n",
       "Q15 63.9062 19.8438 64.8438\n",
       "Q24.7031 65.7969 28.1406 66\n",
       "Q31.5938 66.2031 38.7969 66.2031\n",
       "Q52.2031 66.2031 59.5938 64.3438\n",
       "Q67 62.5 69.25 59.5469\n",
       "Q71.5 56.5938 71.5 51.5938\n",
       "Q71.5 48.5938 70.4531 45.8438\n",
       "Q69.4062 43.0938 66.7969 40\n",
       "Q64.2031 36.9062 58.9531 34.2031\n",
       "Q53.7031 31.5 46.2031 29.5\n",
       "L46.2031 29.0938\n",
       "Q50.2969 27.5 52.8438 24.5\n",
       "Q55.4062 21.5 56.4062 18.3906\n",
       "Q57.4062 15.2969 58.2969 12.4375\n",
       "Q59.2031 9.59375 60.8906 7.75\n",
       "Q62.5938 5.90625 65.7031 5.90625\n",
       "Q72.7969 5.90625 80 12.9062\" id=\"STIXNonUnicode-Italic-e23e\"/>\n",
       "    </defs>\n",
       "    <g transform=\"translate(7.3 56.7325)scale(0.16 -0.16)\">\n",
       "     <use transform=\"translate(0.0 0.796875)\" xlink:href=\"#STIXNonUnicode-Italic-e23e\"/>\n",
       "     <use transform=\"translate(85.39999389648438 -30.703125)scale(0.7)\" xlink:href=\"#BitstreamVeraSans-Roman-6d\"/>\n",
       "    </g>\n",
       "   </g>\n",
       "   <g id=\"text_3\">\n",
       "    <!-- $\\mathcal{R}_g(x)$ -->\n",
       "    <defs>\n",
       "     <path d=\"\n",
       "M8.01562 75.875\n",
       "L15.8281 75.875\n",
       "Q23.1406 64.3594 26.7812 53.3125\n",
       "Q30.4219 42.2812 30.4219 31.3906\n",
       "Q30.4219 20.4531 26.7812 9.375\n",
       "Q23.1406 -1.70312 15.8281 -13.1875\n",
       "L8.01562 -13.1875\n",
       "Q14.5 -2 17.7031 9.0625\n",
       "Q20.9062 20.125 20.9062 31.3906\n",
       "Q20.9062 42.6719 17.7031 53.6562\n",
       "Q14.5 64.6562 8.01562 75.875\" id=\"BitstreamVeraSans-Roman-29\"/>\n",
       "     <path d=\"\n",
       "M54.8906 54.6875\n",
       "L35.1094 28.0781\n",
       "L55.9062 0\n",
       "L45.3125 0\n",
       "L29.3906 21.4844\n",
       "L13.4844 0\n",
       "L2.875 0\n",
       "L24.125 28.6094\n",
       "L4.6875 54.6875\n",
       "L15.2812 54.6875\n",
       "L29.7812 35.2031\n",
       "L44.2812 54.6875\n",
       "z\n",
       "\" id=\"BitstreamVeraSans-Roman-78\"/>\n",
       "     <path d=\"\n",
       "M31 75.875\n",
       "Q24.4688 64.6562 21.2812 53.6562\n",
       "Q18.1094 42.6719 18.1094 31.3906\n",
       "Q18.1094 20.125 21.3125 9.0625\n",
       "Q24.5156 -2 31 -13.1875\n",
       "L23.1875 -13.1875\n",
       "Q15.875 -1.70312 12.2344 9.375\n",
       "Q8.59375 20.4531 8.59375 31.3906\n",
       "Q8.59375 42.2812 12.2031 53.3125\n",
       "Q15.8281 64.3594 23.1875 75.875\n",
       "z\n",
       "\" id=\"BitstreamVeraSans-Roman-28\"/>\n",
       "     <path d=\"\n",
       "M45.4062 27.9844\n",
       "Q45.4062 37.75 41.375 43.1094\n",
       "Q37.3594 48.4844 30.0781 48.4844\n",
       "Q22.8594 48.4844 18.8281 43.1094\n",
       "Q14.7969 37.75 14.7969 27.9844\n",
       "Q14.7969 18.2656 18.8281 12.8906\n",
       "Q22.8594 7.51562 30.0781 7.51562\n",
       "Q37.3594 7.51562 41.375 12.8906\n",
       "Q45.4062 18.2656 45.4062 27.9844\n",
       "M54.3906 6.78125\n",
       "Q54.3906 -7.17188 48.1875 -13.9844\n",
       "Q42 -20.7969 29.2031 -20.7969\n",
       "Q24.4688 -20.7969 20.2656 -20.0938\n",
       "Q16.0625 -19.3906 12.1094 -17.9219\n",
       "L12.1094 -9.1875\n",
       "Q16.0625 -11.3281 19.9219 -12.3438\n",
       "Q23.7812 -13.375 27.7812 -13.375\n",
       "Q36.625 -13.375 41.0156 -8.76562\n",
       "Q45.4062 -4.15625 45.4062 5.17188\n",
       "L45.4062 9.625\n",
       "Q42.625 4.78125 38.2812 2.39062\n",
       "Q33.9375 0 27.875 0\n",
       "Q17.8281 0 11.6719 7.65625\n",
       "Q5.51562 15.3281 5.51562 27.9844\n",
       "Q5.51562 40.6719 11.6719 48.3281\n",
       "Q17.8281 56 27.875 56\n",
       "Q33.9375 56 38.2812 53.6094\n",
       "Q42.625 51.2188 45.4062 46.3906\n",
       "L45.4062 54.6875\n",
       "L54.3906 54.6875\n",
       "z\n",
       "\" id=\"BitstreamVeraSans-Roman-67\"/>\n",
       "    </defs>\n",
       "    <g transform=\"translate(87.86 56.2525)scale(0.16 -0.16)\">\n",
       "     <use transform=\"translate(0.0 0.125)\" xlink:href=\"#STIXNonUnicode-Italic-e23e\"/>\n",
       "     <use transform=\"translate(85.39999389648438 -31.375)scale(0.7)\" xlink:href=\"#BitstreamVeraSans-Roman-67\"/>\n",
       "     <use transform=\"translate(148.87655639648438 0.125)\" xlink:href=\"#BitstreamVeraSans-Roman-28\"/>\n",
       "     <use transform=\"translate(187.89022827148438 0.125)\" xlink:href=\"#BitstreamVeraSans-Roman-78\"/>\n",
       "     <use transform=\"translate(247.06991577148438 0.125)\" xlink:href=\"#BitstreamVeraSans-Roman-29\"/>\n",
       "    </g>\n",
       "   </g>\n",
       "  </g>\n",
       " </g>\n",
       " <defs>\n",
       "  <clipPath id=\"paffe792cc0\">\n",
       "   <rect height=\"175.0725\" width=\"127.98\" x=\"28.48\" y=\"7.2\"/>\n",
       "  </clipPath>\n",
       " </defs>\n",
       "</svg>\n"
      ],
      "text/plain": [
       "<matplotlib.figure.Figure at 0x7f004e8164e0>"
      ]
     },
     "metadata": {},
     "output_type": "display_data"
    }
   ],
   "source": [
    "desenho = schem.Drawing()\n",
    "Fcr = desenho.add(e.SOURCE_V, d='up', label='$\\mathcal{F}_{cr}$')\n",
    "Rm = desenho.add(e.RES, d='up', label='$\\mathcal{R}_m$')\n",
    "L1 = desenho.add(e.LINE, d='right')\n",
    "desenho.add(e.DOT)\n",
    "Rm = desenho.add(e.RES, d='down', label='$\\mathcal{R}_g(x)$')\n",
    "L2 = desenho.add(e.LINE, d='down')\n",
    "L3 = desenho.add(e.LINE, d='left', tox=Fcr.start)\n",
    "desenho.draw()"
   ]
  },
  {
   "cell_type": "markdown",
   "metadata": {},
   "source": [
    "Determinação das variáveis em função de:  \n",
    "\n",
    "$\\Phi_{rr}$: Fluxo magnético [Wb]  \n",
    "$\\mathcal{F}_{cr}$: Força magnetomotriz coercitiva do ímã permanente [A]  \n",
    "$\\mu_R$: Permeabilidade de recuo [H/m]"
   ]
  },
  {
   "cell_type": "code",
   "execution_count": 5,
   "metadata": {},
   "outputs": [],
   "source": [
    "Phi = Br/W_m\n",
    "Fc = Hc*d\n",
    "mu_R = Br/Hc"
   ]
  },
  {
   "cell_type": "markdown",
   "metadata": {},
   "source": [
    "Determinação das relutâncias $\\mathcal{R}_g(x)$  e $\\mathcal{R}_m$  [1/H]:"
   ]
  },
  {
   "cell_type": "code",
   "execution_count": 6,
   "metadata": {},
   "outputs": [
    {
     "data": {
      "image/png": "[encoded data removed]",
      "text/latex": [
       "$$\\frac{2 g_{0} x}{D W_{g}^{2} \\mu_{0}}$$"
      ],
      "text/plain": [
       "  2⋅g₀⋅x \n",
       "─────────\n",
       "     2   \n",
       "D⋅W_g ⋅μ₀"
      ]
     },
     "execution_count": 6,
     "metadata": {},
     "output_type": "execute_result"
    }
   ],
   "source": [
    "Rg = (2*g_0/(mu_0*D*W_g))*(x/W_g)\n",
    "Rg"
   ]
  },
  {
   "cell_type": "code",
   "execution_count": 7,
   "metadata": {},
   "outputs": [
    {
     "data": {
      "image/png": "[encoded data removed]",
      "text/latex": [
       "$$\\frac{Hc d}{Br D W_{m}}$$"
      ],
      "text/plain": [
       "  Hc⋅d \n",
       "───────\n",
       "Br⋅D⋅Wₘ"
      ]
     },
     "execution_count": 7,
     "metadata": {},
     "output_type": "execute_result"
    }
   ],
   "source": [
    "Rm = d/(mu_R*D*W_m)\n",
    "Rm"
   ]
  },
  {
   "cell_type": "markdown",
   "metadata": {},
   "source": [
    "O fluxo no dispositivo é dado por:"
   ]
  },
  {
   "cell_type": "code",
   "execution_count": 8,
   "metadata": {
    "scrolled": true
   },
   "outputs": [
    {
     "data": {
      "image/png": "[encoded data removed]",
      "text/latex": [
       "$$\\frac{Hc d}{\\frac{2 g_{0} x}{D W_{g}^{2} \\mu_{0}} + \\frac{Hc d}{Br D W_{m}}}$$"
      ],
      "text/plain": [
       "        Hc⋅d       \n",
       "───────────────────\n",
       "  2⋅g₀⋅x      Hc⋅d \n",
       "───────── + ───────\n",
       "     2      Br⋅D⋅Wₘ\n",
       "D⋅W_g ⋅μ₀          "
      ]
     },
     "execution_count": 8,
     "metadata": {},
     "output_type": "execute_result"
    }
   ],
   "source": [
    "phi_m = Fc/(Rm + Rg)\n",
    "phi_m"
   ]
  },
  {
   "cell_type": "markdown",
   "metadata": {},
   "source": [
    "A força é calculada desta forma:"
   ]
  },
  {
   "cell_type": "code",
   "execution_count": 9,
   "metadata": {},
   "outputs": [
    {
     "data": {
      "image/png": "[encoded data removed]",
      "text/latex": [
       "$$- \\frac{1.0 Hc^{2} d^{2} g_{0}}{D W_{g}^{2} \\mu_{0} \\left(\\frac{2 g_{0} x}{D W_{g}^{2} \\mu_{0}} + \\frac{Hc d}{Br D W_{m}}\\right)^{2}}$$"
      ],
      "text/plain": [
       "               2  2             \n",
       "        -1.0⋅Hc ⋅d ⋅g₀          \n",
       "────────────────────────────────\n",
       "                               2\n",
       "     2    ⎛  2⋅g₀⋅x      Hc⋅d ⎞ \n",
       "D⋅W_g ⋅μ₀⋅⎜───────── + ───────⎟ \n",
       "          ⎜     2      Br⋅D⋅Wₘ⎟ \n",
       "          ⎝D⋅W_g ⋅μ₀          ⎠ "
      ]
     },
     "execution_count": 9,
     "metadata": {},
     "output_type": "execute_result"
    }
   ],
   "source": [
    "f = -(1/2)*(phi_m**2)*diff(Rg,x)\n",
    "f"
   ]
  },
  {
   "cell_type": "code",
   "execution_count": 10,
   "metadata": {},
   "outputs": [
    {
     "data": {
      "image/png": "[encoded data removed]",
      "text/latex": [
       "$$-27.0008270814718$$"
      ],
      "text/plain": [
       "-27.0008270814718"
      ]
     },
     "execution_count": 10,
     "metadata": {},
     "output_type": "execute_result"
    }
   ],
   "source": [
    "N(f.subs({mu_0:(4*pi*pow(10,-7)),D:3/100, d:1/100, W_g:2.5/100, W_m:2/100, g_0:2/1000,Hc:-712*1000, Br:0.94, x:0}))"
   ]
  }
 ],
 "metadata": {
  "kernelspec": {
   "display_name": "Python 3",
   "language": "python",
   "name": "python3"
  },
  "language_info": {
   "codemirror_mode": {
    "name": "ipython",
    "version": 3
   },
   "file_extension": ".py",
   "mimetype": "text/x-python",
   "name": "python",
   "nbconvert_exporter": "python",
   "pygments_lexer": "ipython3",
   "version": "3.4.2"
  }
 },
 "nbformat": 4,
 "nbformat_minor": 2
}
