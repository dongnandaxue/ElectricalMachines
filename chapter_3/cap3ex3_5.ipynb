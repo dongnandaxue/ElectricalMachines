{
 "cells": [
  {
   "cell_type": "markdown",
   "metadata": {},
   "source": [
    "#### Exemplo 3.5\n",
    "\n",
    "Hipóteses simplificadoras:\n",
    "\n",
    "* $\\mu_0 \\to \\infty$\n",
    "* Circuito magnético perfeito filiforme ($h \\gg g$)\n",
    "* A indutância é linear\n",
    "\n",
    "A relutância é modelada como:\n",
    "\n",
    "$$\\mathcal{R}(x) = \\frac{2g}{\\mu_0dl} ( 1 - \\frac{x}{d} )$$"
   ]
  },
  {
   "cell_type": "code",
   "execution_count": 1,
   "metadata": {},
   "outputs": [
    {
     "data": {
      "image/png": "[encoded data removed]",
      "text/latex": [
       "$$\\frac{2 g}{d l \\mu_{0} \\left(1 - \\frac{x}{d}\\right)}$$"
      ],
      "text/plain": [
       "     2⋅g      \n",
       "──────────────\n",
       "       ⎛    x⎞\n",
       "d⋅l⋅μ₀⋅⎜1 - ─⎟\n",
       "       ⎝    d⎠"
      ]
     },
     "execution_count": 1,
     "metadata": {},
     "output_type": "execute_result"
    }
   ],
   "source": [
    "# Determinaçao da relutância magnética, em [1/H]\n",
    "from sympy import *\n",
    "init_printing(use_unicode=True)\n",
    "g, mu0, d, l, x, N, I_0 = symbols('g mu0 d l x N I_0')\n",
    "R = (2*g/(mu0*d*l))*(1/(1 - x/d))\n",
    "R"
   ]
  },
  {
   "cell_type": "code",
   "execution_count": 2,
   "metadata": {},
   "outputs": [
    {
     "data": {
      "image/png": "[encoded data removed]",
      "text/latex": [
       "$$\\frac{N^{2} d l \\mu_{0}}{2 g} \\left(1 - \\frac{x}{d}\\right)$$"
      ],
      "text/plain": [
       " 2        ⎛    x⎞\n",
       "N ⋅d⋅l⋅μ₀⋅⎜1 - ─⎟\n",
       "          ⎝    d⎠\n",
       "─────────────────\n",
       "       2⋅g       "
      ]
     },
     "execution_count": 2,
     "metadata": {},
     "output_type": "execute_result"
    }
   ],
   "source": [
    "# Determinaçao da indutância, em [H]\n",
    "L = (N**2)/R\n",
    "L"
   ]
  },
  {
   "cell_type": "code",
   "execution_count": 4,
   "metadata": {},
   "outputs": [
    {
     "data": {
      "image/png": "[encoded data removed]",
      "text/latex": [
       "$$\\frac{I_{0} x}{d}$$"
      ],
      "text/plain": [
       "I₀⋅x\n",
       "────\n",
       " d  "
      ]
     },
     "execution_count": 4,
     "metadata": {},
     "output_type": "execute_result"
    }
   ],
   "source": [
    "# A corrente[A] é dada por\n",
    "i = I_0*(x/d)\n",
    "i"
   ]
  },
  {
   "cell_type": "code",
   "execution_count": 5,
   "metadata": {},
   "outputs": [
    {
     "data": {
      "image/png": "[encoded data removed]",
      "text/latex": [
       "$$- \\frac{I_{0}^{2} N^{2} l \\mu_{0} x^{2}}{4 d^{2} g}$$"
      ],
      "text/plain": [
       "   2  2       2 \n",
       "-I₀ ⋅N ⋅l⋅μ₀⋅x  \n",
       "────────────────\n",
       "        2       \n",
       "     4⋅d ⋅g     "
      ]
     },
     "execution_count": 5,
     "metadata": {},
     "output_type": "execute_result"
    }
   ],
   "source": [
    "# determinação da força[N]\n",
    "f_cmp = ((i**2)/2)*diff(L,x)\n",
    "f_cmp"
   ]
  }
 ],
 "metadata": {
  "kernelspec": {
   "display_name": "Python 3",
   "language": "python",
   "name": "python3"
  },
  "language_info": {
   "codemirror_mode": {
    "name": "ipython",
    "version": 3
   },
   "file_extension": ".py",
   "mimetype": "text/x-python",
   "name": "python",
   "nbconvert_exporter": "python",
   "pygments_lexer": "ipython3",
   "version": "3.4.2"
  }
 },
 "nbformat": 4,
 "nbformat_minor": 2
}
