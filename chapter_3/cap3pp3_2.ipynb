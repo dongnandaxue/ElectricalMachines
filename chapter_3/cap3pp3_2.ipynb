{
 "cells": [
  {
   "cell_type": "markdown",
   "metadata": {},
   "source": [
    "#### Exemplo 3.2\n",
    "\n",
    "Hipóteses simplificadoras:\n",
    "\n",
    "* $\\mu_0 \\to \\infty$\n",
    "* Circuito magnético perfeito filiforme ($h \\gg g$)\n",
    "* A indutância é linear\n",
    "\n",
    "A relutância é modelada como:\n",
    "\n",
    "$$\\mathcal{R}(x) = \\frac{g_1 + g_2}{\\mu_0dl\\frac{d - x}{d}} $$"
   ]
  },
  {
   "cell_type": "code",
   "execution_count": 12,
   "metadata": {},
   "outputs": [
    {
     "data": {
      "image/png": "[encoded data removed]",
      "text/latex": [
       "$$\\frac{g_{1} + g_{2}}{l \\mu_{0} \\left(d - x\\right)}$$"
      ],
      "text/plain": [
       "  g₁ + g₂   \n",
       "────────────\n",
       "l⋅μ₀⋅(d - x)"
      ]
     },
     "execution_count": 12,
     "metadata": {},
     "output_type": "execute_result"
    }
   ],
   "source": [
    "# Determinaçao da relutância magnética, em [1/H]\n",
    "from sympy import *\n",
    "init_printing(use_unicode=True)\n",
    "g_1, g_2, mu0, d, l, x, N, i = symbols('g_1 g_2 mu0 d l x N i')\n",
    "R = ((g_1 + g_2)/(mu0*d*l*(d-x)/d))\n",
    "R"
   ]
  },
  {
   "cell_type": "code",
   "execution_count": 13,
   "metadata": {},
   "outputs": [
    {
     "data": {
      "image/png": "[encoded data removed]",
      "text/latex": [
       "$$\\frac{N^{2} l \\mu_{0} \\left(d - x\\right)}{g_{1} + g_{2}}$$"
      ],
      "text/plain": [
       " 2             \n",
       "N ⋅l⋅μ₀⋅(d - x)\n",
       "───────────────\n",
       "    g₁ + g₂    "
      ]
     },
     "execution_count": 13,
     "metadata": {},
     "output_type": "execute_result"
    }
   ],
   "source": [
    "# Determinaçao da indutância, em [H]\n",
    "L = (N**2)/R\n",
    "L"
   ]
  },
  {
   "cell_type": "code",
   "execution_count": 14,
   "metadata": {},
   "outputs": [
    {
     "data": {
      "image/png": "[encoded data removed]",
      "text/latex": [
       "$$\\frac{N^{2} i l \\mu_{0}}{g_{1} + g_{2}} \\left(d - x\\right)$$"
      ],
      "text/plain": [
       " 2               \n",
       "N ⋅i⋅l⋅μ₀⋅(d - x)\n",
       "─────────────────\n",
       "     g₁ + g₂     "
      ]
     },
     "execution_count": 14,
     "metadata": {},
     "output_type": "execute_result"
    }
   ],
   "source": [
    "# Determinaçao do enlace de fluxo, em [Wb]\n",
    "lambd = L*i\n",
    "lambd"
   ]
  },
  {
   "cell_type": "code",
   "execution_count": 15,
   "metadata": {},
   "outputs": [
    {
     "data": {
      "image/png": "[encoded data removed]",
      "text/latex": [
       "$$\\frac{N^{2} i^{2} l \\mu_{0} \\left(d - x\\right)}{2 \\left(g_{1} + g_{2}\\right)}$$"
      ],
      "text/plain": [
       " 2  2             \n",
       "N ⋅i ⋅l⋅μ₀⋅(d - x)\n",
       "──────────────────\n",
       "   2⋅(g₁ + g₂)    "
      ]
     },
     "execution_count": 15,
     "metadata": {},
     "output_type": "execute_result"
    }
   ],
   "source": [
    "# Determinaçao da energia armazenada de campo, em [J]\n",
    "W = (lambd**2)/(2*L)\n",
    "W"
   ]
  },
  {
   "cell_type": "code",
   "execution_count": 16,
   "metadata": {},
   "outputs": [
    {
     "data": {
      "image/png": "[encoded data removed]",
      "text/latex": [
       "$$- 589.04862253125 x + 88.3572933796875$$"
      ],
      "text/plain": [
       "-589.04862253125⋅x + 88.3572933796875"
      ]
     },
     "execution_count": 16,
     "metadata": {},
     "output_type": "execute_result"
    }
   ],
   "source": [
    "# Avaliação numérica\n",
    "simplify(W.subs([(N, 1500), (g_1, 3.5/1000), (g_2, 2.5/1000), (d, 0.15), (l, 0.1), (i, 5), (mu0, 1.2566370614*(10**(-6)))]))"
   ]
  }
 ],
 "metadata": {
  "kernelspec": {
   "display_name": "Python 3",
   "language": "python",
   "name": "python3"
  },
  "language_info": {
   "codemirror_mode": {
    "name": "ipython",
    "version": 3
   },
   "file_extension": ".py",
   "mimetype": "text/x-python",
   "name": "python",
   "nbconvert_exporter": "python",
   "pygments_lexer": "ipython3",
   "version": "3.4.2"
  }
 },
 "nbformat": 4,
 "nbformat_minor": 2
}
