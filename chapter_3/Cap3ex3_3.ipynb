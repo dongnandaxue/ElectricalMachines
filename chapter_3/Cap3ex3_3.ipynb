{
 "cells": [
  {
   "cell_type": "markdown",
   "metadata": {},
   "source": [
    "#### Exemplo 3.3\n",
    "\n",
    "Dados do experimento:"
   ]
  },
  {
   "cell_type": "code",
   "execution_count": 50,
   "metadata": {},
   "outputs": [
    {
     "data": {
      "text/plain": [
       "(array([-0.72318182,  2.23772727]),\n",
       " array([ 0.78070818]),\n",
       " 2,\n",
       " array([ 1.35836455,  0.39350444]),\n",
       " 2.4424906541753444e-15)"
      ]
     },
     "execution_count": 50,
     "metadata": {},
     "output_type": "execute_result"
    }
   ],
   "source": [
    "#i [A]\n",
    "i = 0.75\n",
    "\n",
    "#x [cm]\n",
    "import numpy as np\n",
    "xData = np.arange(0,2.1,0.2)\n",
    "\n",
    "# L[mH]\n",
    "yData = np.array([2.8, 2.26, 1.78, 1.52, 1.34, 1.26, 1.20, 1.16, 1.13, 1.11, 1.10])\n",
    "\n",
    "# Ajuste de unidades - x[m] e L[H]\n",
    "#xData = xData/100\n",
    "#yData = yData/1000\n",
    "\n",
    "# Ajuste da função polinomial - Busca do melhor ajuste\n",
    "np.polyfit(xData,yData,1, full=True)"
   ]
  },
  {
   "cell_type": "code",
   "execution_count": 51,
   "metadata": {
    "scrolled": true
   },
   "outputs": [
    {
     "data": {
      "text/plain": [
       "(array([ 0.70716783, -2.13751748,  2.66202797]),\n",
       " array([ 0.09418965]),\n",
       " 3,\n",
       " array([ 1.64291436,  0.53703018,  0.11149431]),\n",
       " 2.4424906541753444e-15)"
      ]
     },
     "execution_count": 51,
     "metadata": {},
     "output_type": "execute_result"
    }
   ],
   "source": [
    "np.polyfit(xData,yData,2, full=True)"
   ]
  },
  {
   "cell_type": "code",
   "execution_count": 52,
   "metadata": {
    "scrolled": true
   },
   "outputs": [
    {
     "data": {
      "text/plain": [
       "(array([-0.47494172,  2.13199301, -3.22418415,  2.79881119]),\n",
       " array([ 0.00500699]),\n",
       " 4,\n",
       " array([ 1.88678101,  0.6389302 ,  0.17651721,  0.02583192]),\n",
       " 2.4424906541753444e-15)"
      ]
     },
     "execution_count": 52,
     "metadata": {},
     "output_type": "execute_result"
    }
   ],
   "source": [
    "np.polyfit(xData,yData,3, full=True)"
   ]
  },
  {
   "cell_type": "code",
   "execution_count": 53,
   "metadata": {},
   "outputs": [
    {
     "data": {
      "text/plain": [
       "(array([ 0.13840326, -1.02855478,  2.82400932, -3.50099068,  2.81475524]),\n",
       " array([ 0.00298741]),\n",
       " 5,\n",
       " array([ 2.10374364,  0.72036084,  0.23069144,  0.04577597,  0.00538225]),\n",
       " 2.4424906541753444e-15)"
      ]
     },
     "execution_count": 53,
     "metadata": {},
     "output_type": "execute_result"
    }
   ],
   "source": [
    "np.polyfit(xData,yData,4, full=True)"
   ]
  },
  {
   "cell_type": "markdown",
   "metadata": {},
   "source": [
    "O polinômio de grau 3 já é suficiente para o ajuste, visto que o resíduo está em uma ordem de grandeza 10^-9."
   ]
  },
  {
   "cell_type": "code",
   "execution_count": 54,
   "metadata": {},
   "outputs": [],
   "source": [
    "# Criação da função polinomial simbólica\n",
    "from sympy import *\n",
    "init_printing(use_unicode=True)\n",
    "x = symbols('x')\n",
    "ajuste = np.polyfit(xData,yData,4)\n",
    "\n",
    "# Modelo de terceira ordem para a indutância\n",
    "L = ajuste[0]*x**4 +ajuste[1]*x**3 +ajuste[2]*x**2 + ajuste[3]*x+ ajuste[4]\n",
    "\n",
    "# Determinação da força\n",
    "f = ((i**2)/2)*diff(L, x)"
   ]
  },
  {
   "cell_type": "markdown",
   "metadata": {},
   "source": [
    "Plotagem das funções de indutância e força em função de x:"
   ]
  },
  {
   "cell_type": "code",
   "execution_count": 55,
   "metadata": {},
   "outputs": [
    {
     "data": {
      "image/png": "[encoded data removed]",
      "text/plain": [
       "<matplotlib.figure.Figure at 0xb2ccbe0>"
      ]
     },
     "metadata": {},
     "output_type": "display_data"
    },
    {
     "data": {
      "text/plain": [
       "<sympy.plotting.plot.Plot at 0xb7c0208>"
      ]
     },
     "execution_count": 55,
     "metadata": {},
     "output_type": "execute_result"
    }
   ],
   "source": [
    "from sympy.plotting import plot\n",
    "plot_L = plot(L,(x, 0, 2))\n",
    "plot_L"
   ]
  },
  {
   "cell_type": "code",
   "execution_count": null,
   "metadata": {
    "collapsed": true
   },
   "outputs": [],
   "source": []
  }
 ],
 "metadata": {
  "kernelspec": {
   "display_name": "Python 3",
   "language": "python",
   "name": "python3"
  },
  "language_info": {
   "codemirror_mode": {
    "name": "ipython",
    "version": 3
   },
   "file_extension": ".py",
   "mimetype": "text/x-python",
   "name": "python",
   "nbconvert_exporter": "python",
   "pygments_lexer": "ipython3",
   "version": "3.6.3"
  }
 },
 "nbformat": 4,
 "nbformat_minor": 2
}
