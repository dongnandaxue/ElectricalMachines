{
 "cells": [
  {
   "cell_type": "markdown",
   "metadata": {},
   "source": [
    " ### Exemplo 3.1\n",
    "\n",
    "Seja a lei de Lenz:\n",
    "\n",
    "\\begin{equation}\n",
    "\\bar{F} = \\lgroup q \\bar{E} + q\\lgroup \\bar{v} \\times \\bar{B} \\rgroup \\rgroup\n",
    "\\end{equation} \n",
    "\n",
    "\n",
    "Nesse exemplo, a força eletrostática atua na direção de $\\bar{E}$, esta não produz torque e, portanto, será desprezada:\n",
    "\n",
    "\\begin{equation}\n",
    "\\bar{F} =   q\\lgroup \\bar{v} \\times \\bar{B} \\rgroup\n",
    "\\end{equation} \n",
    "\n",
    "Seja $\\rho$ a densidade linear de cargas no fio. então, a força por diferencial de comprimento fica:\n",
    "\n",
    "\\begin{equation}\n",
    "\\frac{d\\bar{F}}{dl} = \\rho \\lgroup \\bar{v} \\times \\bar{B} \\rgroup \\rgroup\n",
    "\\end{equation}\n",
    "\n",
    "Mas expressão para densidade de corrente é a seguinte:\n",
    "\n",
    "\\begin{equation}\n",
    "\\rho\\bar{v} = \\bar{J}\n",
    "\\end{equation} \n",
    "\n",
    "Logo,\n",
    "\n",
    "\\begin{equation}\n",
    "\\frac{d\\bar{F}}{dl} = \\bar{J} \\times \\bar{B}\n",
    "\\end{equation}\n",
    "\n",
    "Como a área da espira não é especificada, e possui dimensões desprezíveis, temos:\n",
    "\n",
    "\\begin{equation}\n",
    "\\frac{d\\bar{F}}{dl} = \\bar{I} \\times \\bar{B}\n",
    "\\end{equation}\n",
    "\n",
    "A força para todo o comprimento $l$ é a seguinte:\n",
    "\n",
    "\\begin{equation}\n",
    "\\bar{F} = \\int (\\bar{I} \\times \\bar{B}) dl\n",
    "\\end{equation} \n",
    "\n",
    "O que é, considerando o sentivo positivo de rotação o anti-horário: \n",
    "\n",
    "\\begin{equation}\n",
    "-F = IBl\n",
    "\\end{equation} \n",
    "\n",
    "De maneira análoga, chega-se ao mesmo resultado para o fio 2. Então, o torque é dado por:\n",
    "\n",
    "\\begin{equation}\n",
    "T = -2IBRl\\sin(\\alpha)\n",
    "\\end{equation} "
   ]
  },
  {
   "cell_type": "code",
   "execution_count": 4,
   "metadata": {},
   "outputs": [
    {
     "data": {
      "image/png": "[encoded data removed]",
      "text/latex": [
       "$$- 0.006 \\sin{\\left (\\alpha \\right )}$$"
      ],
      "text/plain": [
       "-0.006⋅sin(α)"
      ]
     },
     "execution_count": 4,
     "metadata": {},
     "output_type": "execute_result"
    }
   ],
   "source": [
    "# Determinaçao do conjugado, em [Nm]\n",
    "from sympy import *\n",
    "init_printing(use_unicode=True)\n",
    "alpha = symbols('alpha')\n",
    "I=10\n",
    "B = 0.02\n",
    "R = 0.05\n",
    "l = 0.3\n",
    "T = -2*I*B*R*l*sin(alpha)\n",
    "T"
   ]
  },
  {
   "cell_type": "markdown",
   "metadata": {},
   "source": [
    "Se o campo magnético uniforme apontar para a direita, o desenvolvimento é o mesmo:\n",
    "\n",
    "\\begin{equation}\n",
    "-F = IBl\n",
    "\\end{equation} \n",
    "\n",
    "O que muda é o braço de alavanca, que é dado por\n",
    "\n",
    "\\begin{equation}\n",
    "T = -2IBRl\\cos(\\alpha)\n",
    "\\end{equation} "
   ]
  },
  {
   "cell_type": "code",
   "execution_count": 6,
   "metadata": {},
   "outputs": [
    {
     "data": {
      "image/png": "[encoded data removed]",
      "text/latex": [
       "$$- 0.006 \\cos{\\left (\\alpha \\right )}$$"
      ],
      "text/plain": [
       "-0.006⋅cos(α)"
      ]
     },
     "execution_count": 6,
     "metadata": {},
     "output_type": "execute_result"
    }
   ],
   "source": [
    "T = -2*I*B*R*l*cos(alpha)\n",
    "T"
   ]
  },
  {
   "cell_type": "code",
   "execution_count": null,
   "metadata": {},
   "outputs": [],
   "source": []
  }
 ],
 "metadata": {
  "kernelspec": {
   "display_name": "Python 3",
   "language": "python",
   "name": "python3"
  },
  "language_info": {
   "codemirror_mode": {
    "name": "ipython",
    "version": 3
   },
   "file_extension": ".py",
   "mimetype": "text/x-python",
   "name": "python",
   "nbconvert_exporter": "python",
   "pygments_lexer": "ipython3",
   "version": "3.4.2"
  }
 },
 "nbformat": 4,
 "nbformat_minor": 2
}
