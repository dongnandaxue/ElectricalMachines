{
 "cells": [
  {
   "cell_type": "markdown",
   "metadata": {},
   "source": [
    "#### Exemplo 1.3 - Fitzgerald, Máquinas Elétricas, 7° edição\n",
    "\n",
    "Podemos modelar o circuito magnético da seguinte forma:"
   ]
  },
  {
   "cell_type": "code",
   "execution_count": 2,
   "metadata": {},
   "outputs": [],
   "source": [
    "# Importar a biblioteca de desenho de circuitos elétricos:\n",
    "%matplotlib inline\n",
    "%config InlineBackend.figure_format = 'svg'"
   ]
  },
  {
   "cell_type": "code",
   "execution_count": null,
   "metadata": {},
   "outputs": [],
   "source": [
    "# Desenho do circuito:\n",
    "import SchemDraw as schem\n",
    "import SchemDraw.elements as e\n",
    "\n",
    "d = schem.Drawing()\n",
    "V1 = d.add(e.SOURCE_V, d='up', label='Ni')\n",
    "d.add(e.LINE, d='right', l=2)\n"
   ]
  }
 ],
 "metadata": {
  "kernelspec": {
   "display_name": "Python 3",
   "language": "python",
   "name": "python3"
  },
  "language_info": {
   "codemirror_mode": {
    "name": "ipython",
    "version": 3
   },
   "file_extension": ".py",
   "mimetype": "text/x-python",
   "name": "python",
   "nbconvert_exporter": "python",
   "pygments_lexer": "ipython3",
   "version": "3.4.2"
  }
 },
 "nbformat": 4,
 "nbformat_minor": 2
}
